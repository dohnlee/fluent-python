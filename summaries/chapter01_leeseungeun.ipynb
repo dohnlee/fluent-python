{
 "cells": [
  {
   "cell_type": "markdown",
   "metadata": {},
   "source": [
    "# 파이썬 데이터 모델\n",
    "\n",
    "* 데이터 모델\n",
    "    * 일종의 프레임워크\n",
    "    * 언어 자체의 구성 단위에 대한 인터페이스를 공식적으로 정의\n",
    "    * **파이썬 인터프리터** 특별 메서드 호출해 기본적인 객체 연산 수행\n",
    "        * 이중 언더바 갖고 있음\n",
    "        * 반복, 컬렉션, 속서 접근, 연산자 오버로딩, 함수 및 메서드 호출, 객첸 생성 및 제거, 문자열 표현 및 포맷, 블록 등 콘텍스트 관리\n",
    "        * 암묵적으로 호출되기도 함 e.g. ```iter()```는 ```x.__iter__()``` 호출\n",
    "        * ```len()```, ```abs()```\n",
    "            * 특별 [메서드](https://www.codecademy.com/articles/fwd-js-methods-functions) 아님\n",
    "            * 기본형 객체에 대해 효율적으로 작동"
   ]
  },
  {
   "cell_type": "markdown",
   "metadata": {},
   "source": [
    "[공식 문서](https://docs.python.org/3/reference/datamodel.html)\n",
    "* 데이터 모델\n",
    "    * Object, Type, Value\n",
    "        * Object\n",
    "            * 파이썬에서 데이터의 추상화를 지칭\n",
    "            * 파이썬 프로그래밍에서 모든 데이터는 object 또는 object 간의 관계로 표현됨\n",
    "            * 모든 Object는 ID, Type, Value를 가짐\n",
    "        * ID\n",
    "            * 한 번 생성된 이후로 불변\n",
    "            * 객체 메모리 주소값\n",
    "            * ```is``` 연산자는 두 객체의 id 값 비교\n",
    "            * ```id()```는 id의 정수값 반환\n",
    "        * Type\n",
    "            * 객체가 지원하는 바와 객체의 값의 후보를 결정\n",
    "            * ```type()```은 객체의 타입을 반환\n",
    "        * Value\n",
    "            * 일부 객체는 값을 변경할 수 있음 (*mutable object*, e.g. ```list, dictionary```)\n",
    "            * 일부 객체는 생성된 이후 값을 변경할 수 없음 (*immutable*, e.g. ```string, tuple```)\n",
    "            * 타입에 따라 mutability 결정\n",
    "         * unreachable할 때 gc 당함\n",
    "             * ```try ... except``` 구문으로 exception 잡을 때에도 객체 살아 있음 (아래 셀 #1 참고) \n",
    "             * 파일 등의 자원은 gc당할 때 반환됨으로 ```with```, ```try ... finally```에서 ```close()```해줘야 함\n",
    "         * Container\n",
    "             * 다른 객체를 담는 객체를 지칭\n",
    "             * immutable container가 mutable 객체를 담을 경우 immutable 객체 내 mutable 객체의 값 수정 가능 (아래 셀 #2 참고)\n",
    "     * magic method\n",
    "         * 클래스에서 특별한 이름의 메서드를 정의함으로써 특정 syntax에 의해 호출되는 연산을 구현할 수 있음 \n",
    "         * [매직 메서드](https://corikachu.github.io/articles/python/python-magic-method)"
   ]
  },
  {
   "cell_type": "code",
   "execution_count": 1,
   "metadata": {},
   "outputs": [
    {
     "name": "stdout",
     "output_type": "stream",
     "text": [
      "hello\n"
     ]
    }
   ],
   "source": [
    "# try ... exception example\n",
    "try:\n",
    "    a = 'hello'\n",
    "    b = 1 / 0\n",
    "except:\n",
    "    print(a)"
   ]
  },
  {
   "cell_type": "code",
   "execution_count": 2,
   "metadata": {},
   "outputs": [
    {
     "name": "stdout",
     "output_type": "stream",
     "text": [
      "([1, 2, 3],)\n",
      "([1, 2, 3, 4],)\n"
     ]
    }
   ],
   "source": [
    "# mutable object in immutable container\n",
    "a = [1, 2, 3]\n",
    "b = (a, )\n",
    "print(b)\n",
    "\n",
    "a.append(4)\n",
    "print(b)"
   ]
  },
  {
   "cell_type": "code",
   "execution_count": 3,
   "metadata": {},
   "outputs": [],
   "source": [
    "# magic method\n",
    "class MyDict(dict):\n",
    "    def __init__(self, **kwargs):\n",
    "        for name, value in kwargs.items():\n",
    "            self.__setattr__(name, value)\n",
    "    \n",
    "    def __setattr__(self, name, value):\n",
    "        if not isinstance(value, str):\n",
    "            raise ValueError('Value should be str but {0}'.format(type(value)))\n",
    "        super().__setitem__(name, value)\n",
    "    \n",
    "    def __getattr__(self, name):\n",
    "        if not name in self:\n",
    "            raise AttributeError('No such attribute')\n",
    "        else:\n",
    "            return super().__getitem__(name)\n",
    "        \n",
    "    def __setitem__(self, name, value):\n",
    "        self.__setattr__(name, value)"
   ]
  },
  {
   "cell_type": "code",
   "execution_count": 4,
   "metadata": {
    "scrolled": true
   },
   "outputs": [
    {
     "ename": "ValueError",
     "evalue": "Value should be str but <class 'int'>",
     "output_type": "error",
     "traceback": [
      "\u001b[0;31m---------------------------------------------------------------------------\u001b[0m",
      "\u001b[0;31mValueError\u001b[0m                                Traceback (most recent call last)",
      "\u001b[0;32m<ipython-input-4-63c07853c6f7>\u001b[0m in \u001b[0;36m<module>\u001b[0;34m\u001b[0m\n\u001b[0;32m----> 1\u001b[0;31m \u001b[0mmd\u001b[0m \u001b[0;34m=\u001b[0m \u001b[0mMyDict\u001b[0m\u001b[0;34m(\u001b[0m\u001b[0ma\u001b[0m\u001b[0;34m=\u001b[0m\u001b[0;36m1\u001b[0m\u001b[0;34m,\u001b[0m \u001b[0mb\u001b[0m\u001b[0;34m=\u001b[0m\u001b[0;36m2\u001b[0m\u001b[0;34m)\u001b[0m\u001b[0;34m\u001b[0m\u001b[0m\n\u001b[0m",
      "\u001b[0;32m<ipython-input-3-1e52a44d20b1>\u001b[0m in \u001b[0;36m__init__\u001b[0;34m(self, **kwargs)\u001b[0m\n\u001b[1;32m      3\u001b[0m     \u001b[0;32mdef\u001b[0m \u001b[0m__init__\u001b[0m\u001b[0;34m(\u001b[0m\u001b[0mself\u001b[0m\u001b[0;34m,\u001b[0m \u001b[0;34m**\u001b[0m\u001b[0mkwargs\u001b[0m\u001b[0;34m)\u001b[0m\u001b[0;34m:\u001b[0m\u001b[0;34m\u001b[0m\u001b[0m\n\u001b[1;32m      4\u001b[0m         \u001b[0;32mfor\u001b[0m \u001b[0mname\u001b[0m\u001b[0;34m,\u001b[0m \u001b[0mvalue\u001b[0m \u001b[0;32min\u001b[0m \u001b[0mkwargs\u001b[0m\u001b[0;34m.\u001b[0m\u001b[0mitems\u001b[0m\u001b[0;34m(\u001b[0m\u001b[0;34m)\u001b[0m\u001b[0;34m:\u001b[0m\u001b[0;34m\u001b[0m\u001b[0m\n\u001b[0;32m----> 5\u001b[0;31m             \u001b[0mself\u001b[0m\u001b[0;34m.\u001b[0m\u001b[0m__setattr__\u001b[0m\u001b[0;34m(\u001b[0m\u001b[0mname\u001b[0m\u001b[0;34m,\u001b[0m \u001b[0mvalue\u001b[0m\u001b[0;34m)\u001b[0m\u001b[0;34m\u001b[0m\u001b[0m\n\u001b[0m\u001b[1;32m      6\u001b[0m \u001b[0;34m\u001b[0m\u001b[0m\n\u001b[1;32m      7\u001b[0m     \u001b[0;32mdef\u001b[0m \u001b[0m__setattr__\u001b[0m\u001b[0;34m(\u001b[0m\u001b[0mself\u001b[0m\u001b[0;34m,\u001b[0m \u001b[0mname\u001b[0m\u001b[0;34m,\u001b[0m \u001b[0mvalue\u001b[0m\u001b[0;34m)\u001b[0m\u001b[0;34m:\u001b[0m\u001b[0;34m\u001b[0m\u001b[0m\n",
      "\u001b[0;32m<ipython-input-3-1e52a44d20b1>\u001b[0m in \u001b[0;36m__setattr__\u001b[0;34m(self, name, value)\u001b[0m\n\u001b[1;32m      7\u001b[0m     \u001b[0;32mdef\u001b[0m \u001b[0m__setattr__\u001b[0m\u001b[0;34m(\u001b[0m\u001b[0mself\u001b[0m\u001b[0;34m,\u001b[0m \u001b[0mname\u001b[0m\u001b[0;34m,\u001b[0m \u001b[0mvalue\u001b[0m\u001b[0;34m)\u001b[0m\u001b[0;34m:\u001b[0m\u001b[0;34m\u001b[0m\u001b[0m\n\u001b[1;32m      8\u001b[0m         \u001b[0;32mif\u001b[0m \u001b[0;32mnot\u001b[0m \u001b[0misinstance\u001b[0m\u001b[0;34m(\u001b[0m\u001b[0mvalue\u001b[0m\u001b[0;34m,\u001b[0m \u001b[0mstr\u001b[0m\u001b[0;34m)\u001b[0m\u001b[0;34m:\u001b[0m\u001b[0;34m\u001b[0m\u001b[0m\n\u001b[0;32m----> 9\u001b[0;31m             \u001b[0;32mraise\u001b[0m \u001b[0mValueError\u001b[0m\u001b[0;34m(\u001b[0m\u001b[0;34m'Value should be str but {0}'\u001b[0m\u001b[0;34m.\u001b[0m\u001b[0mformat\u001b[0m\u001b[0;34m(\u001b[0m\u001b[0mtype\u001b[0m\u001b[0;34m(\u001b[0m\u001b[0mvalue\u001b[0m\u001b[0;34m)\u001b[0m\u001b[0;34m)\u001b[0m\u001b[0;34m)\u001b[0m\u001b[0;34m\u001b[0m\u001b[0m\n\u001b[0m\u001b[1;32m     10\u001b[0m         \u001b[0msuper\u001b[0m\u001b[0;34m(\u001b[0m\u001b[0;34m)\u001b[0m\u001b[0;34m.\u001b[0m\u001b[0m__setitem__\u001b[0m\u001b[0;34m(\u001b[0m\u001b[0mname\u001b[0m\u001b[0;34m,\u001b[0m \u001b[0mvalue\u001b[0m\u001b[0;34m)\u001b[0m\u001b[0;34m\u001b[0m\u001b[0m\n\u001b[1;32m     11\u001b[0m \u001b[0;34m\u001b[0m\u001b[0m\n",
      "\u001b[0;31mValueError\u001b[0m: Value should be str but <class 'int'>"
     ]
    }
   ],
   "source": [
    "md = MyDict(a=1, b=2)"
   ]
  },
  {
   "cell_type": "code",
   "execution_count": 5,
   "metadata": {},
   "outputs": [],
   "source": [
    "md = MyDict(a = '1', b = '2')"
   ]
  },
  {
   "cell_type": "code",
   "execution_count": 6,
   "metadata": {},
   "outputs": [],
   "source": [
    "md.c = '3'"
   ]
  },
  {
   "cell_type": "code",
   "execution_count": 7,
   "metadata": {},
   "outputs": [
    {
     "name": "stdout",
     "output_type": "stream",
     "text": [
      "{'a': '1', 'b': '2', 'c': '3'}\n"
     ]
    }
   ],
   "source": [
    "print(md)"
   ]
  },
  {
   "cell_type": "code",
   "execution_count": 8,
   "metadata": {},
   "outputs": [
    {
     "name": "stdout",
     "output_type": "stream",
     "text": [
      "1\n"
     ]
    }
   ],
   "source": [
    "print(md.a)"
   ]
  }
 ],
 "metadata": {
  "kernelspec": {
   "display_name": "Python 3",
   "language": "python",
   "name": "python3"
  },
  "language_info": {
   "codemirror_mode": {
    "name": "ipython",
    "version": 3
   },
   "file_extension": ".py",
   "mimetype": "text/x-python",
   "name": "python",
   "nbconvert_exporter": "python",
   "pygments_lexer": "ipython3",
   "version": "3.5.2"
  }
 },
 "nbformat": 4,
 "nbformat_minor": 2
}

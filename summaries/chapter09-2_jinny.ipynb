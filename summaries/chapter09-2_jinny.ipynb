{
 "cells": [
  {
   "cell_type": "markdown",
   "metadata": {},
   "source": [
    "# Chapter 9 A pythonic object (2)"
   ]
  },
  {
   "cell_type": "markdown",
   "metadata": {},
   "source": [
    "## Python의 정보 은닉 방식\n",
    "class의 attribute, method 에 대한 접근을 제어할 수 있는 기능  \n",
    "\n",
    "1. `private` : 해당 클래스에서만 접근 가능\n",
    "2. `protected` : 해당 클래스 또는 해당 클래스를 상속 받은 클래스에서만 접근 가능\n",
    "3. `public` : 어떤 클래스라도 접근 가능, 기본적으로 모든 attribute, method는 public 즉, 클래스 외부에서 접근 가능"
   ]
  },
  {
   "cell_type": "code",
   "execution_count": 39,
   "metadata": {},
   "outputs": [],
   "source": [
    "from array import array \n",
    "import math\n",
    "\n",
    "class Vector2d: \n",
    "    typecode = 'd'\n",
    "\n",
    "    def __init__(self, x, y): \n",
    "        self.__x = float(x) \n",
    "        self.__y = float(y)\n",
    "\n",
    "    @property\n",
    "    def x(self): \n",
    "        return self.__x\n",
    "\n",
    "    @property\n",
    "    def y(self): \n",
    "        return self.__y\n",
    "\n",
    "    def __iter__(self):\n",
    "        return (i for i in (self.x, self.y))\n",
    "\n",
    "    def __repr__(self):\n",
    "        class_name = type(self).__name__\n",
    "        return '{}({!r}, {!r})'.format(class_name, *self)\n",
    "\n",
    "    def __str__(self):\n",
    "        return str(tuple(self))\n",
    "\n",
    "    def __bytes__(self):\n",
    "        return (bytes([ord(self.typecode)]) + \n",
    "                bytes(array(self.typecode, self)))\n",
    "\n",
    "    def __eq__(self, other):\n",
    "        return tuple(self) == tuple(other)\n",
    "\n",
    "    def __hash__(self):\n",
    "        return hash(self.x) ^ hash(self.y)\n",
    "\n",
    "    def __abs__(self):\n",
    "        return math.hypot(self.x, self.y)\n",
    "\n",
    "    def __bool__(self): \n",
    "        return bool(abs(self))\n",
    "\n",
    "    def angle(self):\n",
    "        return math.atan2(self.y, self.x)\n",
    "\n",
    "    def __format__(self, fmt_spec=''): \n",
    "        if fmt_spec.endswith('p'):\n",
    "            fmt_spec = fmt_spec[:-1]\n",
    "            coords = (abs(self), self.angle())\n",
    "            outer_fmt = '<{}, {}>'\n",
    "        else:\n",
    "            coords = self\n",
    "            outer_fmt = '({}, {})'\n",
    "        components = (format(c, fmt_spec) for c in coords) \n",
    "        return outer_fmt.format(*components)\n",
    "\n",
    "    @classmethod\n",
    "    def frombytes(cls, octets):\n",
    "        typecode = chr(octets[0])\n",
    "        memv = memoryview(octets[1:]).cast(typecode) \n",
    "        return cls(*memv)"
   ]
  },
  {
   "cell_type": "markdown",
   "metadata": {},
   "source": [
    "### Private\n",
    "\n",
    "Python에는 다른 언어처럼 접근제어자가 존재하지 않는다. 하지만 분명히 접근에 대한 제한이 필요한 상황이 있고, 이를 실현하기 위한 다른 방법이 존재한다. 가령, 사용자가 클래스 내의 속성에 대하여 모르는 상태에서 어떤 속성을 할당하는 상황을 생각해보자. 만약 그 속성이 이미 클래스 내에 존재하고, 중요한 역할을 하는 경우에 프로그램에 치명적인 영향을 끼칠 수도 있다.  \n",
    "이러한 경우를 대비하여, 속성을 `__attribute` 와 같이 underbar를 앞에 2개 붙히는 방법으로 이름을 지어주면 된다. (뒤에 underbar를 1개까지 추가할 수 있다. 2개 추가하면 public이 되므로 주의)"
   ]
  },
  {
   "cell_type": "code",
   "execution_count": 40,
   "metadata": {},
   "outputs": [
    {
     "data": {
      "text/plain": [
       "{'_Vector2d__x': 3.0, '_Vector2d__y': 4.0}"
      ]
     },
     "execution_count": 40,
     "metadata": {},
     "output_type": "execute_result"
    }
   ],
   "source": [
    "v1 = Vector2d(3, 4)\n",
    "v1.__dict__"
   ]
  },
  {
   "cell_type": "code",
   "execution_count": 42,
   "metadata": {},
   "outputs": [
    {
     "name": "stdout",
     "output_type": "stream",
     "text": [
      "5.0\n",
      "5.0\n"
     ]
    },
    {
     "ename": "AttributeError",
     "evalue": "'Vector2d' object has no attribute '__x'",
     "output_type": "error",
     "traceback": [
      "\u001b[0;31m---------------------------------------------------------------------------\u001b[0m",
      "\u001b[0;31mAttributeError\u001b[0m                            Traceback (most recent call last)",
      "\u001b[0;32m<ipython-input-42-355eb90948f7>\u001b[0m in \u001b[0;36m<module>\u001b[0;34m\u001b[0m\n\u001b[1;32m      2\u001b[0m \u001b[0mv1\u001b[0m\u001b[0;34m.\u001b[0m\u001b[0m_Vector2d__x\u001b[0m \u001b[0;34m=\u001b[0m \u001b[0;36m5.\u001b[0m\u001b[0;34m\u001b[0m\u001b[0;34m\u001b[0m\u001b[0m\n\u001b[1;32m      3\u001b[0m \u001b[0mprint\u001b[0m\u001b[0;34m(\u001b[0m\u001b[0mv1\u001b[0m\u001b[0;34m.\u001b[0m\u001b[0m_Vector2d__x\u001b[0m\u001b[0;34m)\u001b[0m\u001b[0;34m\u001b[0m\u001b[0;34m\u001b[0m\u001b[0m\n\u001b[0;32m----> 4\u001b[0;31m \u001b[0mv1\u001b[0m\u001b[0;34m.\u001b[0m\u001b[0m__x\u001b[0m\u001b[0;34m\u001b[0m\u001b[0;34m\u001b[0m\u001b[0m\n\u001b[0m",
      "\u001b[0;31mAttributeError\u001b[0m: 'Vector2d' object has no attribute '__x'"
     ]
    }
   ],
   "source": [
    "print(v1._Vector2d__x)\n",
    "v1._Vector2d__x = 5.\n",
    "print(v1._Vector2d__x)\n",
    "v1.__x"
   ]
  },
  {
   "cell_type": "code",
   "execution_count": 43,
   "metadata": {},
   "outputs": [
    {
     "ename": "AttributeError",
     "evalue": "'Vector2d_inherited' object has no attribute '_Vector2d_inherited__x'",
     "output_type": "error",
     "traceback": [
      "\u001b[0;31m---------------------------------------------------------------------------\u001b[0m",
      "\u001b[0;31mAttributeError\u001b[0m                            Traceback (most recent call last)",
      "\u001b[0;32m<ipython-input-43-b373e4fe90bc>\u001b[0m in \u001b[0;36m<module>\u001b[0;34m\u001b[0m\n\u001b[1;32m      3\u001b[0m         \u001b[0mprint\u001b[0m\u001b[0;34m(\u001b[0m\u001b[0mself\u001b[0m\u001b[0;34m.\u001b[0m\u001b[0m__x\u001b[0m\u001b[0;34m)\u001b[0m\u001b[0;34m\u001b[0m\u001b[0;34m\u001b[0m\u001b[0m\n\u001b[1;32m      4\u001b[0m \u001b[0mv2\u001b[0m \u001b[0;34m=\u001b[0m \u001b[0mVector2d_inherited\u001b[0m\u001b[0;34m(\u001b[0m\u001b[0;36m5\u001b[0m\u001b[0;34m,\u001b[0m \u001b[0;36m6\u001b[0m\u001b[0;34m)\u001b[0m\u001b[0;34m\u001b[0m\u001b[0;34m\u001b[0m\u001b[0m\n\u001b[0;32m----> 5\u001b[0;31m \u001b[0mv2\u001b[0m\u001b[0;34m.\u001b[0m\u001b[0mblahblah\u001b[0m\u001b[0;34m(\u001b[0m\u001b[0;34m)\u001b[0m\u001b[0;34m\u001b[0m\u001b[0;34m\u001b[0m\u001b[0m\n\u001b[0m",
      "\u001b[0;32m<ipython-input-43-b373e4fe90bc>\u001b[0m in \u001b[0;36mblahblah\u001b[0;34m(self)\u001b[0m\n\u001b[1;32m      1\u001b[0m \u001b[0;32mclass\u001b[0m \u001b[0mVector2d_inherited\u001b[0m\u001b[0;34m(\u001b[0m\u001b[0mVector2d\u001b[0m\u001b[0;34m)\u001b[0m\u001b[0;34m:\u001b[0m\u001b[0;34m\u001b[0m\u001b[0;34m\u001b[0m\u001b[0m\n\u001b[1;32m      2\u001b[0m     \u001b[0;32mdef\u001b[0m \u001b[0mblahblah\u001b[0m\u001b[0;34m(\u001b[0m\u001b[0mself\u001b[0m\u001b[0;34m)\u001b[0m\u001b[0;34m:\u001b[0m\u001b[0;34m\u001b[0m\u001b[0;34m\u001b[0m\u001b[0m\n\u001b[0;32m----> 3\u001b[0;31m         \u001b[0mprint\u001b[0m\u001b[0;34m(\u001b[0m\u001b[0mself\u001b[0m\u001b[0;34m.\u001b[0m\u001b[0m__x\u001b[0m\u001b[0;34m)\u001b[0m\u001b[0;34m\u001b[0m\u001b[0;34m\u001b[0m\u001b[0m\n\u001b[0m\u001b[1;32m      4\u001b[0m \u001b[0mv2\u001b[0m \u001b[0;34m=\u001b[0m \u001b[0mVector2d_inherited\u001b[0m\u001b[0;34m(\u001b[0m\u001b[0;36m5\u001b[0m\u001b[0;34m,\u001b[0m \u001b[0;36m6\u001b[0m\u001b[0;34m)\u001b[0m\u001b[0;34m\u001b[0m\u001b[0;34m\u001b[0m\u001b[0m\n\u001b[1;32m      5\u001b[0m \u001b[0mv2\u001b[0m\u001b[0;34m.\u001b[0m\u001b[0mblahblah\u001b[0m\u001b[0;34m(\u001b[0m\u001b[0;34m)\u001b[0m\u001b[0;34m\u001b[0m\u001b[0;34m\u001b[0m\u001b[0m\n",
      "\u001b[0;31mAttributeError\u001b[0m: 'Vector2d_inherited' object has no attribute '_Vector2d_inherited__x'"
     ]
    }
   ],
   "source": [
    "class Vector2d_inherited(Vector2d):\n",
    "    def blahblah(self):\n",
    "        print(self.__x)\n",
    "v2 = Vector2d_inherited(5, 6)\n",
    "v2.blahblah()"
   ]
  },
  {
   "cell_type": "code",
   "execution_count": 44,
   "metadata": {},
   "outputs": [
    {
     "name": "stdout",
     "output_type": "stream",
     "text": [
      "5.0\n"
     ]
    }
   ],
   "source": [
    "class Vector2d_inherited(Vector2d):\n",
    "    def blahblah(self):\n",
    "        print(self._Vector2d__x)\n",
    "v2 = Vector2d_inherited(5, 6)\n",
    "v2.blahblah()"
   ]
  },
  {
   "cell_type": "markdown",
   "metadata": {},
   "source": [
    "### Protected\n",
    "해당 속성의 앞에 underbar를 1개 붙여서 표시하고, 실제로 제약되는 것은 없고 일종의 경고 표시로 사용한다."
   ]
  },
  {
   "cell_type": "code",
   "execution_count": 45,
   "metadata": {},
   "outputs": [],
   "source": [
    "class TimeNow:\n",
    "    def __init__(self, hour, minute, country):\n",
    "        self._hour = hour\n",
    "        self._minute = minute\n",
    "        self._country = country\n",
    "    \n",
    "    def get_time(self):\n",
    "        return \"It is %d:%d\" % (self._hour, self._minute)\n",
    "    \n",
    "    def _set_time(self, hour, minute):\n",
    "        self._hour = hour\n",
    "        self._minute = minute"
   ]
  },
  {
   "cell_type": "code",
   "execution_count": 46,
   "metadata": {},
   "outputs": [
    {
     "name": "stdout",
     "output_type": "stream",
     "text": [
      "12 30\n",
      "It is 12:30\n",
      "It is 1:23\n"
     ]
    }
   ],
   "source": [
    "time = TimeNow(12, 30, \"Korea\")\n",
    "print(time._hour, time._minute)\n",
    "print(time.get_time())\n",
    "time._set_time(1, 23)\n",
    "print(time.get_time())"
   ]
  },
  {
   "cell_type": "markdown",
   "metadata": {},
   "source": [
    "## __slots__ 클래스 속성을 사용한 메모리 절약"
   ]
  },
  {
   "cell_type": "markdown",
   "metadata": {},
   "source": [
    "Python의 모든 클래스는 인스턴스 속성을 가지고, 이를 관리하기 위해 내부적으로 딕셔너리를 사용한다. 객체의 `__dict__` 에 접근하여 인스턴스 속성들을 딕셔너리 형태로 확인할 수 있다.  \n",
    "일정한 속성들로 구성된 클래스들의 경우, 딕셔너리를 사용하면 메모리를 낭비하게 될 수 있다. 클래스를 정의할 때, `__slots__` 라는 변수를 설정해서 해당 클래스에 의해 만들어진 객체의 인스턴스 속성 관리에 딕셔너리 대신 set을 사용하도록 할 수 있다. "
   ]
  },
  {
   "cell_type": "code",
   "execution_count": 47,
   "metadata": {},
   "outputs": [],
   "source": [
    "class TimeNow_with_slots:\n",
    "    __slots__ = ('_hour', '_minute', '_country')\n",
    "    def __init__(self, hour, minute, country):\n",
    "        self._hour = hour\n",
    "        self._minute = minute\n",
    "        self._country = country\n",
    "    \n",
    "    def get_time(self):\n",
    "        return \"It is %d:%d\" % (self._hour, self._minute)\n",
    "    \n",
    "    def _set_time(self, hour, minute):\n",
    "        self._hour = hour\n",
    "        self._minute = minute"
   ]
  },
  {
   "cell_type": "code",
   "execution_count": 48,
   "metadata": {},
   "outputs": [
    {
     "name": "stdout",
     "output_type": "stream",
     "text": [
      "{'_hour': 1, '_minute': 23, '_country': 'Korea'}\n",
      "('_hour', '_minute', '_country')\n"
     ]
    },
    {
     "ename": "AttributeError",
     "evalue": "'TimeNow_with_slots' object has no attribute '__dict__'",
     "output_type": "error",
     "traceback": [
      "\u001b[0;31m---------------------------------------------------------------------------\u001b[0m",
      "\u001b[0;31mAttributeError\u001b[0m                            Traceback (most recent call last)",
      "\u001b[0;32m<ipython-input-48-7a3c522393c0>\u001b[0m in \u001b[0;36m<module>\u001b[0;34m\u001b[0m\n\u001b[1;32m      2\u001b[0m \u001b[0mtime_with_slots\u001b[0m \u001b[0;34m=\u001b[0m \u001b[0mTimeNow_with_slots\u001b[0m\u001b[0;34m(\u001b[0m\u001b[0;36m2\u001b[0m\u001b[0;34m,\u001b[0m \u001b[0;36m34\u001b[0m\u001b[0;34m,\u001b[0m \u001b[0;34m'Korea'\u001b[0m\u001b[0;34m)\u001b[0m\u001b[0;34m\u001b[0m\u001b[0;34m\u001b[0m\u001b[0m\n\u001b[1;32m      3\u001b[0m \u001b[0mprint\u001b[0m\u001b[0;34m(\u001b[0m\u001b[0mtime_with_slots\u001b[0m\u001b[0;34m.\u001b[0m\u001b[0m__slots__\u001b[0m\u001b[0;34m)\u001b[0m\u001b[0;34m\u001b[0m\u001b[0;34m\u001b[0m\u001b[0m\n\u001b[0;32m----> 4\u001b[0;31m \u001b[0mprint\u001b[0m\u001b[0;34m(\u001b[0m\u001b[0mtime_with_slots\u001b[0m\u001b[0;34m.\u001b[0m\u001b[0m__dict__\u001b[0m\u001b[0;34m)\u001b[0m\u001b[0;34m\u001b[0m\u001b[0;34m\u001b[0m\u001b[0m\n\u001b[0m",
      "\u001b[0;31mAttributeError\u001b[0m: 'TimeNow_with_slots' object has no attribute '__dict__'"
     ]
    }
   ],
   "source": [
    "print(time.__dict__)\n",
    "time_with_slots = TimeNow_with_slots(2, 34, 'Korea')\n",
    "print(time_with_slots.__slots__)\n",
    "print(time_with_slots.__dict__)"
   ]
  },
  {
   "cell_type": "markdown",
   "metadata": {},
   "source": [
    "### __slots__ 를 사용할 때 주의사항\n",
    "1. 클래스를 상속할 때마다 `__slots__` 를 다시 정의해주어야 한다. \n",
    "2. 인스턴스는 `__slots__` 에 명시 된 속성만을 가질 수 있다. 이를 해결하기 위해서는 `__slots__` 내에 `__dict__` 를 포함하면 되지만, 이렇게 하면 `__slots__` 를 사용하는 목적(메모리 절약)을 잃게 된다. \n",
    "3. 인스턴스에 대한 약한 참조가 불가능하게 된다. 해결을 위해서는 `__slots__` 에 `__weakref__` 를 포함해야한다. "
   ]
  },
  {
   "cell_type": "markdown",
   "metadata": {},
   "source": [
    "## Overriding Class Attributes"
   ]
  },
  {
   "cell_type": "markdown",
   "metadata": {},
   "source": [
    "cf) 클래스 속성 vs 인스턴스 속성  \n",
    "클래스 속성은 클래스에 속해있으며, 모든 인스턴스에서 공유한다. 인스턴스 전체가 사용해야 하는 값을 저장할 때 사용한다. 반면 인스턴스 속성은 인스턴스별로 독립되어있고, 각 인스턴스가 값을 따로 저장해야할 때 사용한다. "
   ]
  },
  {
   "cell_type": "markdown",
   "metadata": {},
   "source": [
    "클래스 속성은 인스턴스 속성의 기본 설정 값으로 사용될 수 있다. 만약 사용자가 해당 인스턴스 속성을 새로운 값으로 설정해도 해당 인스턴스 속성이 새로 생길 뿐, 원래의 클래스 속성 값은 변하지 않고 유지된다. 이러한 성질을 이용해 사용자가 인스턴스를 커스터마이징하여 사용할 수 있다. "
   ]
  },
  {
   "cell_type": "code",
   "execution_count": 57,
   "metadata": {},
   "outputs": [
    {
     "name": "stdout",
     "output_type": "stream",
     "text": [
      "b'd\\x9a\\x99\\x99\\x99\\x99\\x99\\xf1?\\x9a\\x99\\x99\\x99\\x99\\x99\\x01@'\n",
      "17\n"
     ]
    }
   ],
   "source": [
    "v3 = Vector2d(1.1, 2.2)\n",
    "dumpd = bytes(v3)\n",
    "print(dumpd)\n",
    "print(len(dumpd))"
   ]
  },
  {
   "cell_type": "code",
   "execution_count": 58,
   "metadata": {},
   "outputs": [
    {
     "name": "stdout",
     "output_type": "stream",
     "text": [
      "b'f\\xcd\\xcc\\x8c?\\xcd\\xcc\\x0c@'\n",
      "9\n",
      "d\n"
     ]
    }
   ],
   "source": [
    "v3.typecode = 'f'\n",
    "dumpf = bytes(v3)\n",
    "print(dumpf)\n",
    "print(len(dumpf))\n",
    "print(Vector2d.typecode)"
   ]
  },
  {
   "cell_type": "markdown",
   "metadata": {},
   "source": [
    "위처럼 설정하여 사용할 수도 있고, 이 같은 속성 값을 자주 사용하게 될 경우, 아래와 같이 클래스를 상속 받아 클래스 속성을 새로 설정하여 사용하는 것이 더 효율적이다. "
   ]
  },
  {
   "cell_type": "code",
   "execution_count": 59,
   "metadata": {},
   "outputs": [
    {
     "name": "stdout",
     "output_type": "stream",
     "text": [
      "(0.09090909090909091, 0.037037037037037035)\n",
      "9\n"
     ]
    }
   ],
   "source": [
    "class ShortVector2d(Vector2d):\n",
    "    typecode = 'f'\n",
    "sv = ShortVector2d(1/11, 1/27)\n",
    "print(sv)\n",
    "print(len(bytes(sv)))"
   ]
  }
 ],
 "metadata": {
  "kernelspec": {
   "display_name": "Python 3",
   "language": "python",
   "name": "python3"
  },
  "language_info": {
   "codemirror_mode": {
    "name": "ipython",
    "version": 3
   },
   "file_extension": ".py",
   "mimetype": "text/x-python",
   "name": "python",
   "nbconvert_exporter": "python",
   "pygments_lexer": "ipython3",
   "version": "3.8.2"
  }
 },
 "nbformat": 4,
 "nbformat_minor": 4
}

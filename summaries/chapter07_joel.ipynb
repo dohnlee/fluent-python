{
 "cells": [
  {
   "cell_type": "code",
   "execution_count": 1,
   "metadata": {},
   "outputs": [],
   "source": [
    "import sys\n",
    "sys.path.append('../codes')"
   ]
  },
  {
   "cell_type": "markdown",
   "metadata": {},
   "source": [
    "# 7. 함수 데커레이터와 클로저\n",
    "\n",
    "__함수 데커레이터__ 는 소스 코드에 있는 함수를 '표시'해서 함수의 작동을 개선할 수 있게 해줍니다. \n",
    "\n",
    "데커레이터를 정확히 알기 위해 다음과 같은 내용을 먼저 알아야 합니다.\n",
    "\n",
    "1. 파이썬이 데커레이터 구문을 평가하는 방식\n",
    "2. 변수가 지역 변수인지 파이썬이 판단하는 방식\n",
    "3. 클로저의 존재 이유와 작동 방식\n",
    "4. nonlocal로 해결할 수 있는 문제\n",
    "\n",
    "이 후에는 다음 주제를 심도 있게 다룰 수 있습니다.\n",
    "\n",
    "1. 잘 작동하는 데커레이터 구현하기\n",
    "2. 표준 라이브러리에서 제공하는 데커레이터\n",
    "3. 매개변수화된 데커레이터 구현하기"
   ]
  },
  {
   "cell_type": "markdown",
   "metadata": {},
   "source": [
    "## 7.1 데커레이터 기본 지식\n",
    "\n",
    "데커레이터는 다른 함수를 인수로 받는 콜러블(데커레이트된 함수)입니다.\n",
    "\n",
    "데커레이터는 데커레이트된 함수에 어떤 처리를 수행하고, 함수를 반환하거나 함수를 다른 함수나 콜러블의 객체로 대체합니다. "
   ]
  },
  {
   "cell_type": "markdown",
   "metadata": {},
   "source": [
    "```\n",
    "#1\n",
    "@decorate\n",
    "def target():\n",
    "    print('running target()')\n",
    "```"
   ]
  },
  {
   "cell_type": "markdown",
   "metadata": {},
   "source": [
    "```\n",
    "#2\n",
    "def target():\n",
    "    print('running target()')  \n",
    "target = decorate(target)\n",
    "```"
   ]
  },
  {
   "cell_type": "markdown",
   "metadata": {},
   "source": [
    "`target()`은 `decorate(target)`이 반환된 함수를 가리키게 됩니다."
   ]
  },
  {
   "cell_type": "code",
   "execution_count": 2,
   "metadata": {},
   "outputs": [
    {
     "name": "stdout",
     "output_type": "stream",
     "text": [
      "running inner()\n"
     ]
    }
   ],
   "source": [
    "## ex 7.1\n",
    "def deco(func):\n",
    "    def inner():\n",
    "        print('running inner()')\n",
    "    return inner\n",
    "\n",
    "@deco\n",
    "def target():\n",
    "    print('running target()')\n",
    "    \n",
    "target()"
   ]
  },
  {
   "cell_type": "code",
   "execution_count": 3,
   "metadata": {},
   "outputs": [
    {
     "data": {
      "text/plain": [
       "<function __main__.deco.<locals>.inner()>"
      ]
     },
     "execution_count": 3,
     "metadata": {},
     "output_type": "execute_result"
    }
   ],
   "source": [
    "target"
   ]
  },
  {
   "cell_type": "markdown",
   "metadata": {},
   "source": [
    "데커레이터는 __편리 구문(syntatic sugar)__ 일 뿐입니다. \n",
    "\n",
    "> __syntatic sugar__\n",
    "-  프로그래밍 언어차원에서 제공되는 논리적으로 간결하게 표현하는 것\n",
    "- 중복되는 로직을 간결하게 표현하기 위함"
   ]
  },
  {
   "cell_type": "markdown",
   "metadata": {},
   "source": [
    "런타임에 프로그램 행위를 변경하는 __메타프로그래밍__ 을 할 때 데커레이터가 상당히 편리합니다.\n",
    "\n",
    ">__런타임__\n",
    "    - 프로그램이 실행되고 있는 동안의 동작\n",
    "__메타프로그래밍__\n",
    "    - 자기 자신 혹은 다른 컴퓨터 프로그램을 데이터로 취급하여 프로그램을 작성-수정"
   ]
  },
  {
   "cell_type": "markdown",
   "metadata": {},
   "source": [
    "1. __데커레이터는 데커레이트된 함수를 다른 함수로 대체__\n",
    "\n",
    "\n",
    "2. __데커레이터는 모듈이 로딩될 때 바로 실행__"
   ]
  },
  {
   "cell_type": "markdown",
   "metadata": {},
   "source": [
    "## 7.2 파이썬이 데커레이터를 실행하는 시점\n",
    "\n",
    "데커레이터는 데커레이트된 함수가 정의된 직후, 즉 모듈을 로딩하는 시점(__임포트 타임__)에 실행됩니다."
   ]
  },
  {
   "cell_type": "code",
   "execution_count": 4,
   "metadata": {},
   "outputs": [
    {
     "name": "stdout",
     "output_type": "stream",
     "text": [
      "running register<function f1 at 0x10c57c9e0>\n",
      "running register<function f2 at 0x10c57ccb0>\n"
     ]
    }
   ],
   "source": [
    "## ex 7.2\n",
    "registry = []\n",
    "def register(func):\n",
    "    print(f'running register{func}')\n",
    "    registry.append(func)\n",
    "    return func\n",
    "\n",
    "@register\n",
    "def f1():\n",
    "    print('running f1()')\n",
    "    \n",
    "@register\n",
    "def f2():\n",
    "    print('running f2()')\n",
    "    \n",
    "def f3():\n",
    "    print('running f3()')\n",
    "    \n",
    "def main():\n",
    "    print('running main()')\n",
    "    print('register -> ', registry)\n",
    "    f1()\n",
    "    f2()\n",
    "    f3()"
   ]
  },
  {
   "cell_type": "markdown",
   "metadata": {},
   "source": [
    "`register()`가 호출될 때 데커레이트 된 함수를 인수로 받으며 먼저 실행됩니다."
   ]
  },
  {
   "cell_type": "code",
   "execution_count": 5,
   "metadata": {},
   "outputs": [
    {
     "data": {
      "text/plain": [
       "[<function __main__.f1()>, <function __main__.f2()>]"
      ]
     },
     "execution_count": 5,
     "metadata": {},
     "output_type": "execute_result"
    }
   ],
   "source": [
    "registry"
   ]
  },
  {
   "cell_type": "code",
   "execution_count": 6,
   "metadata": {},
   "outputs": [
    {
     "name": "stdout",
     "output_type": "stream",
     "text": [
      "running f1()\n"
     ]
    }
   ],
   "source": [
    "f1()"
   ]
  },
  {
   "cell_type": "code",
   "execution_count": 7,
   "metadata": {},
   "outputs": [
    {
     "data": {
      "text/plain": [
       "[<function __main__.f1()>, <function __main__.f2()>]"
      ]
     },
     "execution_count": 7,
     "metadata": {},
     "output_type": "execute_result"
    }
   ],
   "source": [
    "registry"
   ]
  },
  {
   "cell_type": "code",
   "execution_count": 8,
   "metadata": {},
   "outputs": [
    {
     "name": "stdout",
     "output_type": "stream",
     "text": [
      "running main()\n",
      "register ->  [<function f1 at 0x10c57c9e0>, <function f2 at 0x10c57ccb0>]\n",
      "running f1()\n",
      "running f2()\n",
      "running f3()\n"
     ]
    }
   ],
   "source": [
    "main()"
   ]
  },
  {
   "cell_type": "markdown",
   "metadata": {},
   "source": [
    "모듈이 로딩된 후 `registery`는 데커레이트된 두 개의 함수(`f1`, `f2`)에 대한 참조를 가집니다."
   ]
  },
  {
   "cell_type": "code",
   "execution_count": 9,
   "metadata": {},
   "outputs": [
    {
     "name": "stdout",
     "output_type": "stream",
     "text": [
      "running register<function f1 at 0x10c5aa440>\n",
      "running register<function f2 at 0x10c5aa200>\n"
     ]
    }
   ],
   "source": [
    "import registration"
   ]
  },
  {
   "cell_type": "code",
   "execution_count": 10,
   "metadata": {},
   "outputs": [
    {
     "data": {
      "text/plain": [
       "[<function registration.f1()>, <function registration.f2()>]"
      ]
     },
     "execution_count": 10,
     "metadata": {},
     "output_type": "execute_result"
    }
   ],
   "source": [
    "registration.registry"
   ]
  },
  {
   "cell_type": "markdown",
   "metadata": {},
   "source": [
    "데커레이터는 모듈이 임포트되자마자 실행되지만, 데커레이트된 함수는 명시적으로 호출될 때만 실행됨을 알 수 있습니다. \n",
    "\n",
    "이는 __임포트 타임__ 과 __런타임__ 의 차이를 명확히 보여줍니다.\n",
    "\n",
    "1. 위 코드는 데커레이터 함수가 데커레이트되는 함수와 같은 모듈에 정의되어 있지만 일반적으로는 __데커레이터를 정의하는 모듈과 데커레이터를 적용하는 모듈을 분리해서 구현합니다.__\n",
    "\n",
    "\n",
    "2. `register()` 데커레이터가 인수로 전달된 함수와 동일한 함수를 반환하지만, 일반적으로는 __데커레이터 내부 함수를 정의해서 반환합니다.__"
   ]
  },
  {
   "cell_type": "markdown",
   "metadata": {},
   "source": [
    "## 7.3 데커레이터로 개선한 전략 패턴"
   ]
  },
  {
   "cell_type": "code",
   "execution_count": 11,
   "metadata": {},
   "outputs": [],
   "source": [
    "## ex 7.3\n",
    "\n",
    "promos = []\n",
    "def promotion(promo_func):\n",
    "    promos.append(promo_func)\n",
    "    return promo_func\n",
    "\n",
    "@promotion\n",
    "def fidelity(order):\n",
    "    '''충성도 포인트가 1000점 이상인 고객에게 전체 5% 할인 적용'''\n",
    "    return order.total() * .05 if order.customer.fidelity >= 1000 else 0\n",
    "\n",
    "@promotion\n",
    "def bulk_item(order):\n",
    "    '''20개 이상의 동일 상품을 구입하면 10% 할인 적용'''\n",
    "    discount = 0\n",
    "    for item in order.cart:\n",
    "        if item.qunatity >= 20:\n",
    "            discount += item.total() * .1\n",
    "    return discount\n",
    "\n",
    "@promotion\n",
    "def large_order(order):\n",
    "    '''10종류 이상의 상품을 구입하면 전체 7% 할인 적용'''\n",
    "    discount_items = {item.product for item in order.cart}\n",
    "    if len(discount_items) >= 10:\n",
    "        return order.total() * .07\n",
    "    return 0\n",
    "\n",
    "def best_promo(order):\n",
    "    '''최대로 할인받을 금액을 반환한다.'''\n",
    "    return max(promo(order) for promo in promos)"
   ]
  },
  {
   "cell_type": "markdown",
   "metadata": {},
   "source": [
    "1. 프로모션 전략 함수명이 특별한 형태로 되어 있을 필요 없습니다. \n",
    "2. `@promotion` 데커레이터는 데커레이트된 함수의 목적을 명확히 알려주며, 임시로 어떤 프로모션을 배제할 수 있습니다. 단지 데커레이터만 주석처리하면 됩니다.\n",
    "3. 프로모션 할인 전략을 구현한 함수는 `@promotion` 데커레이터가 적용되는 한 어느 모듈에서든 정의할 수 있습니다. \n",
    "\n",
    "데코레이트된 함수가 아닌 내부 함수를 사용하는 코드는 제대로 작동하기 위해 거의 항상 __클로저__에 의존합니다. "
   ]
  },
  {
   "cell_type": "markdown",
   "metadata": {},
   "source": [
    "## 7.4 변수 범위 규칙"
   ]
  },
  {
   "cell_type": "code",
   "execution_count": 12,
   "metadata": {},
   "outputs": [
    {
     "name": "stdout",
     "output_type": "stream",
     "text": [
      "3\n"
     ]
    },
    {
     "ename": "NameError",
     "evalue": "name 'b' is not defined",
     "output_type": "error",
     "traceback": [
      "\u001b[0;31m---------------------------------------------------------------------------\u001b[0m",
      "\u001b[0;31mNameError\u001b[0m                                 Traceback (most recent call last)",
      "\u001b[0;32m<ipython-input-12-5102640f7e2d>\u001b[0m in \u001b[0;36m<module>\u001b[0;34m\u001b[0m\n\u001b[1;32m      4\u001b[0m     \u001b[0mprint\u001b[0m\u001b[0;34m(\u001b[0m\u001b[0mb\u001b[0m\u001b[0;34m)\u001b[0m\u001b[0;34m\u001b[0m\u001b[0;34m\u001b[0m\u001b[0m\n\u001b[1;32m      5\u001b[0m \u001b[0;34m\u001b[0m\u001b[0m\n\u001b[0;32m----> 6\u001b[0;31m \u001b[0mf1\u001b[0m\u001b[0;34m(\u001b[0m\u001b[0;36m3\u001b[0m\u001b[0;34m)\u001b[0m\u001b[0;34m\u001b[0m\u001b[0;34m\u001b[0m\u001b[0m\n\u001b[0m",
      "\u001b[0;32m<ipython-input-12-5102640f7e2d>\u001b[0m in \u001b[0;36mf1\u001b[0;34m(a)\u001b[0m\n\u001b[1;32m      2\u001b[0m \u001b[0;32mdef\u001b[0m \u001b[0mf1\u001b[0m\u001b[0;34m(\u001b[0m\u001b[0ma\u001b[0m\u001b[0;34m)\u001b[0m\u001b[0;34m:\u001b[0m\u001b[0;34m\u001b[0m\u001b[0;34m\u001b[0m\u001b[0m\n\u001b[1;32m      3\u001b[0m     \u001b[0mprint\u001b[0m\u001b[0;34m(\u001b[0m\u001b[0ma\u001b[0m\u001b[0;34m)\u001b[0m\u001b[0;34m\u001b[0m\u001b[0;34m\u001b[0m\u001b[0m\n\u001b[0;32m----> 4\u001b[0;31m     \u001b[0mprint\u001b[0m\u001b[0;34m(\u001b[0m\u001b[0mb\u001b[0m\u001b[0;34m)\u001b[0m\u001b[0;34m\u001b[0m\u001b[0;34m\u001b[0m\u001b[0m\n\u001b[0m\u001b[1;32m      5\u001b[0m \u001b[0;34m\u001b[0m\u001b[0m\n\u001b[1;32m      6\u001b[0m \u001b[0mf1\u001b[0m\u001b[0;34m(\u001b[0m\u001b[0;36m3\u001b[0m\u001b[0;34m)\u001b[0m\u001b[0;34m\u001b[0m\u001b[0;34m\u001b[0m\u001b[0m\n",
      "\u001b[0;31mNameError\u001b[0m: name 'b' is not defined"
     ]
    }
   ],
   "source": [
    "## ex 7.4\n",
    "def f1(a):\n",
    "    print(a)\n",
    "    print(b)\n",
    "    \n",
    "f1(3)"
   ]
  },
  {
   "cell_type": "code",
   "execution_count": 13,
   "metadata": {},
   "outputs": [
    {
     "name": "stdout",
     "output_type": "stream",
     "text": [
      "3\n",
      "6\n"
     ]
    }
   ],
   "source": [
    "b = 6\n",
    "f1(3)"
   ]
  },
  {
   "cell_type": "code",
   "execution_count": 14,
   "metadata": {},
   "outputs": [
    {
     "name": "stdout",
     "output_type": "stream",
     "text": [
      "3\n"
     ]
    },
    {
     "ename": "UnboundLocalError",
     "evalue": "local variable 'b' referenced before assignment",
     "output_type": "error",
     "traceback": [
      "\u001b[0;31m---------------------------------------------------------------------------\u001b[0m",
      "\u001b[0;31mUnboundLocalError\u001b[0m                         Traceback (most recent call last)",
      "\u001b[0;32m<ipython-input-14-60530fe35243>\u001b[0m in \u001b[0;36m<module>\u001b[0;34m\u001b[0m\n\u001b[1;32m      6\u001b[0m     \u001b[0mb\u001b[0m \u001b[0;34m=\u001b[0m \u001b[0;36m9\u001b[0m\u001b[0;34m\u001b[0m\u001b[0;34m\u001b[0m\u001b[0m\n\u001b[1;32m      7\u001b[0m \u001b[0;34m\u001b[0m\u001b[0m\n\u001b[0;32m----> 8\u001b[0;31m \u001b[0mf2\u001b[0m\u001b[0;34m(\u001b[0m\u001b[0;36m3\u001b[0m\u001b[0;34m)\u001b[0m\u001b[0;34m\u001b[0m\u001b[0;34m\u001b[0m\u001b[0m\n\u001b[0m",
      "\u001b[0;32m<ipython-input-14-60530fe35243>\u001b[0m in \u001b[0;36mf2\u001b[0;34m(a)\u001b[0m\n\u001b[1;32m      3\u001b[0m \u001b[0;32mdef\u001b[0m \u001b[0mf2\u001b[0m\u001b[0;34m(\u001b[0m\u001b[0ma\u001b[0m\u001b[0;34m)\u001b[0m\u001b[0;34m:\u001b[0m\u001b[0;34m\u001b[0m\u001b[0;34m\u001b[0m\u001b[0m\n\u001b[1;32m      4\u001b[0m     \u001b[0mprint\u001b[0m\u001b[0;34m(\u001b[0m\u001b[0ma\u001b[0m\u001b[0;34m)\u001b[0m\u001b[0;34m\u001b[0m\u001b[0;34m\u001b[0m\u001b[0m\n\u001b[0;32m----> 5\u001b[0;31m     \u001b[0mprint\u001b[0m\u001b[0;34m(\u001b[0m\u001b[0mb\u001b[0m\u001b[0;34m)\u001b[0m\u001b[0;34m\u001b[0m\u001b[0;34m\u001b[0m\u001b[0m\n\u001b[0m\u001b[1;32m      6\u001b[0m     \u001b[0mb\u001b[0m \u001b[0;34m=\u001b[0m \u001b[0;36m9\u001b[0m\u001b[0;34m\u001b[0m\u001b[0;34m\u001b[0m\u001b[0m\n\u001b[1;32m      7\u001b[0m \u001b[0;34m\u001b[0m\u001b[0m\n",
      "\u001b[0;31mUnboundLocalError\u001b[0m: local variable 'b' referenced before assignment"
     ]
    }
   ],
   "source": [
    "## ex 7.5\n",
    "b = 6\n",
    "def f2(a):\n",
    "    print(a)\n",
    "    print(b)\n",
    "    b = 9\n",
    "\n",
    "f2(3)"
   ]
  },
  {
   "cell_type": "markdown",
   "metadata": {},
   "source": [
    "파이썬이 함수 본체를 컴파일할 때 `b`가 함수 안에서 할당되므로 `b`를 지역 변수로 판단합니다. \n",
    "\n",
    "함수 안에 할당하는 문장이 있지만 인터프리터가 `b`를 전역 변수로 다루기 원한다면, 다음과 같이 `global` 키워드를 이용해서 선언해야 합니다."
   ]
  },
  {
   "cell_type": "code",
   "execution_count": 15,
   "metadata": {},
   "outputs": [
    {
     "name": "stdout",
     "output_type": "stream",
     "text": [
      "3\n",
      "6\n"
     ]
    }
   ],
   "source": [
    "b = 6\n",
    "def f3(a):\n",
    "    global b\n",
    "    print(a)\n",
    "    print(b)\n",
    "    b = 9\n",
    "    \n",
    "f3(3)"
   ]
  },
  {
   "cell_type": "code",
   "execution_count": 16,
   "metadata": {},
   "outputs": [
    {
     "data": {
      "text/plain": [
       "9"
      ]
     },
     "execution_count": 16,
     "metadata": {},
     "output_type": "execute_result"
    }
   ],
   "source": [
    "b"
   ]
  },
  {
   "cell_type": "code",
   "execution_count": 17,
   "metadata": {},
   "outputs": [
    {
     "name": "stdout",
     "output_type": "stream",
     "text": [
      "3\n",
      "9\n"
     ]
    }
   ],
   "source": [
    "f3(3)"
   ]
  },
  {
   "cell_type": "code",
   "execution_count": 18,
   "metadata": {},
   "outputs": [
    {
     "name": "stdout",
     "output_type": "stream",
     "text": [
      "3\n",
      "30\n"
     ]
    },
    {
     "data": {
      "text/plain": [
       "(30, None)"
      ]
     },
     "execution_count": 18,
     "metadata": {},
     "output_type": "execute_result"
    }
   ],
   "source": [
    "b = 30\n",
    "b, f3(3)"
   ]
  },
  {
   "cell_type": "markdown",
   "metadata": {},
   "source": [
    "## 7.5 클로저\n",
    "\n",
    "클로저는 내포된 함수 안에서만 의미가 있지만 익명함수와는 다른 개념입니다.\n",
    "\n",
    "클로저는 __함수 본체에서 정의하지 않고 참조하는 비전역 변수를 포함한 확장 범위를 가진 함수__입니다. 함수가 익명 함수인지 여부는 중요하지 않습니다. __함수 본체 외부에 정의된 비전역 변수에 접근할 수 있다는 것이 중요합니다.__"
   ]
  },
  {
   "cell_type": "code",
   "execution_count": 19,
   "metadata": {},
   "outputs": [],
   "source": [
    "## ex 7.8\n",
    "class Average():\n",
    "    def __init__(self):\n",
    "        self.series = []\n",
    "        \n",
    "    def __call__(self, new_value):\n",
    "        self.series.append(new_value)\n",
    "        total = sum(self.series)\n",
    "        return total/len(self.series)"
   ]
  },
  {
   "cell_type": "code",
   "execution_count": 20,
   "metadata": {},
   "outputs": [
    {
     "data": {
      "text/plain": [
       "10.0"
      ]
     },
     "execution_count": 20,
     "metadata": {},
     "output_type": "execute_result"
    }
   ],
   "source": [
    "avg = Average()\n",
    "avg(10)"
   ]
  },
  {
   "cell_type": "code",
   "execution_count": 21,
   "metadata": {},
   "outputs": [
    {
     "data": {
      "text/plain": [
       "10.5"
      ]
     },
     "execution_count": 21,
     "metadata": {},
     "output_type": "execute_result"
    }
   ],
   "source": [
    "avg(11)"
   ]
  },
  {
   "cell_type": "code",
   "execution_count": 22,
   "metadata": {},
   "outputs": [
    {
     "data": {
      "text/plain": [
       "11.0"
      ]
     },
     "execution_count": 22,
     "metadata": {},
     "output_type": "execute_result"
    }
   ],
   "source": [
    "avg(12)"
   ]
  },
  {
   "cell_type": "markdown",
   "metadata": {},
   "source": [
    "함수는 호출되면 `average()` 함수 객체를 반환합니다. `average()` 함수는 호출될 때마다 받은 인수를 `series` 리스트에 추가하고 현재까지의 평균을 계산해서 출력합니다.\n",
    "\n",
    "`ex 7.8`을 보면 클래스로 생성된 객체가 데이터를 보관하는 방법은 명확히 알 수 있습니다. `self.series` 객체 속성에 저장되기 때문입니다. "
   ]
  },
  {
   "cell_type": "code",
   "execution_count": 23,
   "metadata": {},
   "outputs": [],
   "source": [
    "## ex 7.9\n",
    "def make_averager():\n",
    "    series = []\n",
    "    \n",
    "    def averager(new_value):\n",
    "        series.append(new_value)\n",
    "        total = sum(series)\n",
    "        return total/len(series)\n",
    "    \n",
    "    return averager"
   ]
  },
  {
   "cell_type": "code",
   "execution_count": 24,
   "metadata": {},
   "outputs": [
    {
     "data": {
      "text/plain": [
       "10.0"
      ]
     },
     "execution_count": 24,
     "metadata": {},
     "output_type": "execute_result"
    }
   ],
   "source": [
    "avg = make_averager()\n",
    "avg(10)"
   ]
  },
  {
   "cell_type": "code",
   "execution_count": 25,
   "metadata": {},
   "outputs": [
    {
     "data": {
      "text/plain": [
       "10.5"
      ]
     },
     "execution_count": 25,
     "metadata": {},
     "output_type": "execute_result"
    }
   ],
   "source": [
    "avg(11)"
   ]
  },
  {
   "cell_type": "code",
   "execution_count": 26,
   "metadata": {},
   "outputs": [
    {
     "data": {
      "text/plain": [
       "11.0"
      ]
     },
     "execution_count": 26,
     "metadata": {},
     "output_type": "execute_result"
    }
   ],
   "source": [
    "avg(12)"
   ]
  },
  {
   "cell_type": "markdown",
   "metadata": {},
   "source": [
    "하지만 `ex 7.9`을 보면 `series`를 어디서 찾을까요 ?\n",
    "\n",
    "`make_average()` 함수 본체 안에서 `series = []`로 초기화하고 있으므로 `series`는 이 함수의 지역 변수입니다. `avg(10)`을 호출할 때, `make_averager()`함수는 이미 반환했으므로 지역 범위도 이미 사라진 후입니다. \n",
    "\n",
    "그 후 `average` 안에 있는 `series`는 __자유 변수(free variable)__입니다. 자유 변수란 __지역 범위에 바인딩되어 있지 않은 변수를 의미합니다.__ "
   ]
  },
  {
   "cell_type": "markdown",
   "metadata": {},
   "source": [
    "![ex7.1](../images/7_1.png)"
   ]
  },
  {
   "cell_type": "markdown",
   "metadata": {},
   "source": [
    "> __바인딩__\n",
    "    - 변수에 변수와 관련된 속성을 연관시키는 것"
   ]
  },
  {
   "cell_type": "markdown",
   "metadata": {},
   "source": [
    "반환된 `averager()`객체를 조사해보면 파이썬이 컴파일된 함수 본체를 나타내는 `__code__`속성 안에 어떻게 지역 변수와 자유 변수의 '이름'을 저장하는지 알 수 있습니다."
   ]
  },
  {
   "cell_type": "code",
   "execution_count": 27,
   "metadata": {},
   "outputs": [
    {
     "data": {
      "text/plain": [
       "('new_value', 'total')"
      ]
     },
     "execution_count": 27,
     "metadata": {},
     "output_type": "execute_result"
    }
   ],
   "source": [
    "avg.__code__.co_varnames"
   ]
  },
  {
   "cell_type": "code",
   "execution_count": 28,
   "metadata": {},
   "outputs": [
    {
     "data": {
      "text/plain": [
       "('series',)"
      ]
     },
     "execution_count": 28,
     "metadata": {},
     "output_type": "execute_result"
    }
   ],
   "source": [
    "avg.__code__.co_freevars"
   ]
  },
  {
   "cell_type": "markdown",
   "metadata": {},
   "source": [
    "`series`에 대한 바인딩은 반환된 `avg()`함수의 `__closure__` 속성에 저장됩니다."
   ]
  },
  {
   "cell_type": "code",
   "execution_count": 29,
   "metadata": {},
   "outputs": [
    {
     "data": {
      "text/plain": [
       "(<cell at 0x10c4214d0: list object at 0x10c62b5f0>,)"
      ]
     },
     "execution_count": 29,
     "metadata": {},
     "output_type": "execute_result"
    }
   ],
   "source": [
    "avg.__closure__"
   ]
  },
  {
   "cell_type": "markdown",
   "metadata": {},
   "source": [
    "이는 `avg.__code__.co_freevars`의 이름에 대응됩니다.\n",
    "\n",
    "이 항목은 cell 객체이며 이 객체의 항목은 `cell_contents`속성에서 찾을 수 있습니다."
   ]
  },
  {
   "cell_type": "code",
   "execution_count": 30,
   "metadata": {},
   "outputs": [
    {
     "data": {
      "text/plain": [
       "[10, 11, 12]"
      ]
     },
     "execution_count": 30,
     "metadata": {},
     "output_type": "execute_result"
    }
   ],
   "source": [
    "avg.__closure__[0].cell_contents"
   ]
  },
  {
   "cell_type": "markdown",
   "metadata": {},
   "source": [
    "> __cell 객체__\n",
    "    - 《셀》 객체는 여러 스코프에서 참조하는 변수를 구현하는 데 사용됩니다. 이러한 변수마다, 값을 저장하기 위해 셀 객체가 만들어집니다; 값을 참조하는 각 스택 프레임의 지역 변수에는 해당 변수를 사용하는 외부 스코프의 셀에 대한 참조가 포함됩니다. 값에 액세스하면, 셀 객체 자체 대신 셀에 포함된 값이 사용됩니다. 이러한 셀 객체의 역참조(de-referencing)는 생성된 바이트 코드로부터의 지원이 필요합니다; 액세스 시 자동으로 역참조되지 않습니다. 셀 객체는 다른 곳에 유용하지는 않습니다."
   ]
  },
  {
   "cell_type": "markdown",
   "metadata": {},
   "source": [
    "1. __클로저는 함수를 정의할 때 존재하던 자유 변수에 대한 바인딩을 유지하는 함수__\n",
    "\n",
    "\n",
    "2. __함수를 정의하는 범위가 사라진 후에 함수를 호출해도 자유 변수에 접근 가능__\n",
    "\n",
    "\n",
    "3. __함수가 '비전역' 외부 변수를 다루는 경우는 그 함수가 다른 함수 안에서 정의된 경우 뿐이라는 점에 주의__"
   ]
  },
  {
   "cell_type": "markdown",
   "metadata": {},
   "source": [
    "## 7.6 nonlocal 선언"
   ]
  },
  {
   "cell_type": "code",
   "execution_count": 31,
   "metadata": {},
   "outputs": [],
   "source": [
    "## ex 7.13\n",
    "def make_averager():\n",
    "    count = 0\n",
    "    total = 0\n",
    "    \n",
    "    def averager(new_value):\n",
    "        count += 1\n",
    "        total += new_value\n",
    "        return total/count\n",
    "    return averager"
   ]
  },
  {
   "cell_type": "code",
   "execution_count": 32,
   "metadata": {},
   "outputs": [],
   "source": [
    "avg = make_averager()"
   ]
  },
  {
   "cell_type": "code",
   "execution_count": 33,
   "metadata": {},
   "outputs": [
    {
     "ename": "UnboundLocalError",
     "evalue": "local variable 'count' referenced before assignment",
     "output_type": "error",
     "traceback": [
      "\u001b[0;31m---------------------------------------------------------------------------\u001b[0m",
      "\u001b[0;31mUnboundLocalError\u001b[0m                         Traceback (most recent call last)",
      "\u001b[0;32m<ipython-input-33-ace390caaa2e>\u001b[0m in \u001b[0;36m<module>\u001b[0;34m\u001b[0m\n\u001b[0;32m----> 1\u001b[0;31m \u001b[0mavg\u001b[0m\u001b[0;34m(\u001b[0m\u001b[0;36m10\u001b[0m\u001b[0;34m)\u001b[0m\u001b[0;34m\u001b[0m\u001b[0;34m\u001b[0m\u001b[0m\n\u001b[0m",
      "\u001b[0;32m<ipython-input-31-3f1935171147>\u001b[0m in \u001b[0;36maverager\u001b[0;34m(new_value)\u001b[0m\n\u001b[1;32m      5\u001b[0m \u001b[0;34m\u001b[0m\u001b[0m\n\u001b[1;32m      6\u001b[0m     \u001b[0;32mdef\u001b[0m \u001b[0maverager\u001b[0m\u001b[0;34m(\u001b[0m\u001b[0mnew_value\u001b[0m\u001b[0;34m)\u001b[0m\u001b[0;34m:\u001b[0m\u001b[0;34m\u001b[0m\u001b[0;34m\u001b[0m\u001b[0m\n\u001b[0;32m----> 7\u001b[0;31m         \u001b[0mcount\u001b[0m \u001b[0;34m+=\u001b[0m \u001b[0;36m1\u001b[0m\u001b[0;34m\u001b[0m\u001b[0;34m\u001b[0m\u001b[0m\n\u001b[0m\u001b[1;32m      8\u001b[0m         \u001b[0mtotal\u001b[0m \u001b[0;34m+=\u001b[0m \u001b[0mnew_value\u001b[0m\u001b[0;34m\u001b[0m\u001b[0;34m\u001b[0m\u001b[0m\n\u001b[1;32m      9\u001b[0m         \u001b[0;32mreturn\u001b[0m \u001b[0mtotal\u001b[0m\u001b[0;34m/\u001b[0m\u001b[0mcount\u001b[0m\u001b[0;34m\u001b[0m\u001b[0;34m\u001b[0m\u001b[0m\n",
      "\u001b[0;31mUnboundLocalError\u001b[0m: local variable 'count' referenced before assignment"
     ]
    }
   ],
   "source": [
    "avg(10)"
   ]
  },
  {
   "cell_type": "markdown",
   "metadata": {},
   "source": [
    "`count += 1` 은 `count = count + 1`을 의미하는데 `averager` 본체 안에서 `count` 변수에 할당하고 있기 때문에 `count`를 지역 변수로 만들어서 에러가 발생합니다.\n",
    "\n",
    "앞선 예제에서는 `series`를 변수에 할당하지 않기 때문에 아무런 문제도 발생하지 않았습니다.\n",
    "\n",
    "하지만 숫자, 문자열, 튜플 등 불변형은 읽을 수만 있고 값을 갱신할 수 없으므로 재할당을 하면서 `count`라는 지역 변수를 생성하게 되고 자유 변수가 아니게 되므로 클로저에 저장되지 않습니다."
   ]
  },
  {
   "cell_type": "code",
   "execution_count": 34,
   "metadata": {},
   "outputs": [],
   "source": [
    "## ex 7.14\n",
    "def make_averager():\n",
    "    count = 0\n",
    "    total = 0\n",
    "    def averager(new_value):\n",
    "        nonlocal count, total\n",
    "        count += 1\n",
    "        total += new_value\n",
    "        return total/count\n",
    "    return averager"
   ]
  },
  {
   "cell_type": "code",
   "execution_count": 35,
   "metadata": {},
   "outputs": [],
   "source": [
    "avg = make_averager()"
   ]
  },
  {
   "cell_type": "code",
   "execution_count": 36,
   "metadata": {},
   "outputs": [
    {
     "data": {
      "text/plain": [
       "10.0"
      ]
     },
     "execution_count": 36,
     "metadata": {},
     "output_type": "execute_result"
    }
   ],
   "source": [
    "avg(10)"
   ]
  },
  {
   "cell_type": "code",
   "execution_count": 37,
   "metadata": {},
   "outputs": [
    {
     "data": {
      "text/plain": [
       "10.5"
      ]
     },
     "execution_count": 37,
     "metadata": {},
     "output_type": "execute_result"
    }
   ],
   "source": [
    "avg(11)"
   ]
  },
  {
   "cell_type": "code",
   "execution_count": 38,
   "metadata": {},
   "outputs": [
    {
     "data": {
      "text/plain": [
       "11.0"
      ]
     },
     "execution_count": 38,
     "metadata": {},
     "output_type": "execute_result"
    }
   ],
   "source": [
    "avg(12)"
   ]
  },
  {
   "cell_type": "markdown",
   "metadata": {},
   "source": [
    "이를 해결하기 위해선 `nonlocal` 선언을 해주면 됩니다. 변수를 `nonlocal` 선언하면, 함수 안에서 재할당을 하더라도 그 변수는 자유변수로 남아있을 수 있습니다.\n",
    "\n",
    "새로운 값을 nonlocal 변수에 할당하면 클로저에 저장된 바인딩이 변경됩니다."
   ]
  },
  {
   "cell_type": "code",
   "execution_count": 39,
   "metadata": {},
   "outputs": [
    {
     "data": {
      "text/plain": [
       "('count', 'total')"
      ]
     },
     "execution_count": 39,
     "metadata": {},
     "output_type": "execute_result"
    }
   ],
   "source": [
    "avg.__code__.co_freevars"
   ]
  },
  {
   "cell_type": "markdown",
   "metadata": {},
   "source": [
    "## 7.7 간단한 데커레이터 구현하기"
   ]
  },
  {
   "cell_type": "code",
   "execution_count": 40,
   "metadata": {},
   "outputs": [
    {
     "name": "stdout",
     "output_type": "stream",
     "text": [
      "import time\r\n",
      "\r\n",
      "def clock(func):\r\n",
      "    def clocked(*args, **kwargs):\r\n",
      "        t0 = time.perf_counter()\r\n",
      "        result = func(*args)\r\n",
      "        elapsed = time.perf_counter() - t0\r\n",
      "        name = func.__name__\r\n",
      "        arg_str = ', '.join(repr(arg) for arg in args)\r\n",
      "        print('[%0.8fs] %s(%s) -> %r' % (elapsed,\r\n",
      "                                         name,\r\n",
      "                                         arg_str,\r\n",
      "                                         result))\r\n",
      "        return result\r\n",
      "    return clocked\r\n"
     ]
    }
   ],
   "source": [
    "! cat ../codes/clockdeco.py"
   ]
  },
  {
   "cell_type": "code",
   "execution_count": 41,
   "metadata": {},
   "outputs": [
    {
     "name": "stdout",
     "output_type": "stream",
     "text": [
      "import time\r\n",
      "from clockdeco import clock\r\n",
      "\r\n",
      "@clock\r\n",
      "def snooze(seconds):\r\n",
      "    time.sleep(seconds)\r\n",
      "    \r\n",
      "@clock\r\n",
      "def factorial(n):\r\n",
      "    return 1 if n < 2 else n*factorial(n-1)\r\n",
      "\r\n",
      "if __name__ == '__main__':\r\n",
      "    print('*'*40, 'Calling snooze(.123)')\r\n",
      "    snooze(.123)\r\n",
      "    print('*'*40, 'Calling factorial(6)')\r\n",
      "    print(' 6! = ', factorial(6))\r\n"
     ]
    }
   ],
   "source": [
    "! cat ../codes/clockdeco_demo.py"
   ]
  },
  {
   "cell_type": "code",
   "execution_count": 42,
   "metadata": {},
   "outputs": [
    {
     "name": "stdout",
     "output_type": "stream",
     "text": [
      "**************************************** Calling snooze(.123)\n",
      "[0.12443417s] snooze(0.123) -> None\n",
      "**************************************** Calling factorial(6)\n",
      "[0.00000051s] factorial(1) -> 1\n",
      "[0.00001036s] factorial(2) -> 2\n",
      "[0.00001738s] factorial(3) -> 6\n",
      "[0.00002362s] factorial(4) -> 24\n",
      "[0.00002982s] factorial(5) -> 120\n",
      "[0.00003828s] factorial(6) -> 720\n",
      " 6! =  720\n"
     ]
    }
   ],
   "source": [
    "! python3 ../codes/clockdeco_demo.py"
   ]
  },
  {
   "cell_type": "markdown",
   "metadata": {},
   "source": [
    "파이썬 인터프리터가 내부적으로 `clocked()`를 `factorial`에 할당했습니다. "
   ]
  },
  {
   "cell_type": "code",
   "execution_count": 43,
   "metadata": {},
   "outputs": [
    {
     "data": {
      "text/plain": [
       "'clocked'"
      ]
     },
     "execution_count": 43,
     "metadata": {},
     "output_type": "execute_result"
    }
   ],
   "source": [
    "import clockdeco_demo\n",
    "clockdeco_demo.factorial.__name__"
   ]
  },
  {
   "cell_type": "markdown",
   "metadata": {},
   "source": [
    "하지만 위 예제는 몇 가지 단점이 존재합니다. 키워드 인수를 지원하지 않고, 데커레이트된 함수의 `__name__`, `__doc__`를 씹습니다. \n",
    "\n",
    "`functools.wraps()`데커레이트드를 이용해서 `func`에서 `clocked`로 관련된 속성을 복사합니다. "
   ]
  },
  {
   "cell_type": "code",
   "execution_count": 44,
   "metadata": {},
   "outputs": [
    {
     "name": "stdout",
     "output_type": "stream",
     "text": [
      "import time\r\n",
      "import functools\r\n",
      "\r\n",
      "def clock(func):\r\n",
      "    @functools.wraps(func)\r\n",
      "    def clocked(*args, **kwargs):\r\n",
      "        t0 = time.perf_counter()\r\n",
      "        result = func(*args)\r\n",
      "        elapsed = time.perf_counter() - t0\r\n",
      "        name = func.__name__\r\n",
      "        arg_lst = []\r\n",
      "        if args:\r\n",
      "            arg_lst.append(', '.join(repr(arg) for arg in args))\r\n",
      "        if kwargs:\r\n",
      "            pairs = ['%s=%r' % (k,w) for k,w in sorted(kwargs.items())]\r\n",
      "            arg_lst.append(', '.join(pairs))\r\n",
      "        arg_str = ', '.join(arg_lst)\r\n",
      "        print('[%0.8fs] %s(%s) -> %r' % (elapsed,\r\n",
      "                                         name,\r\n",
      "                                         arg_str,\r\n",
      "                                         result))\r\n",
      "        return result\r\n",
      "    return clocked\r\n"
     ]
    }
   ],
   "source": [
    "! cat ../codes/clockdeco2.py"
   ]
  },
  {
   "cell_type": "code",
   "execution_count": 45,
   "metadata": {},
   "outputs": [
    {
     "data": {
      "text/plain": [
       "'factorial'"
      ]
     },
     "execution_count": 45,
     "metadata": {},
     "output_type": "execute_result"
    }
   ],
   "source": [
    "from clockdeco2 import clock\n",
    "\n",
    "@clock\n",
    "def factorial(n):\n",
    "    return 1 if n < 2 else n*factorial(n-1)\n",
    "\n",
    "factorial.__name__"
   ]
  },
  {
   "cell_type": "markdown",
   "metadata": {},
   "source": [
    "## 7.8 표준 라이브러리에서 제공하는 데커레이터\n",
    "\n",
    "앞서 예제에서 사용한 `functools.wraps()` 데커레이터는 제대로 작동하는 데커레이터를 만들기 위한 헬퍼입니다.\n",
    "\n",
    "### 7.8.1 `functools.lru_cache()`를 이용한 메모이제이션\n",
    "\n",
    "`functools.lru_cache()`는 유용한 데커레이터인데, 메모제이션(memozation)을 구현합니다. \n",
    "\n",
    "> __메모제이션__\n",
    "    - 이전에 실행한 값비싼 함수의 결과를 저장함으로써 이전에 사용된 인수에 대해 다시 계산할 필요가 없게 해줍니다. \n",
    "\n",
    "__LRU__ 는 __Least Recently Used__의 약자로서, 오랫동안 사용하지 않은 항목을 버림으로써 캐시가 무한정 커지지 않음을 의미합니다. "
   ]
  },
  {
   "cell_type": "code",
   "execution_count": 46,
   "metadata": {},
   "outputs": [
    {
     "name": "stdout",
     "output_type": "stream",
     "text": [
      "[0.00000040s] fibonacci(0) -> 0\n",
      "[0.00000041s] fibonacci(1) -> 1\n",
      "[0.00006165s] fibonacci(2) -> 1\n",
      "[0.00000039s] fibonacci(1) -> 1\n",
      "[0.00000044s] fibonacci(0) -> 0\n",
      "[0.00000049s] fibonacci(1) -> 1\n",
      "[0.00005722s] fibonacci(2) -> 1\n",
      "[0.00011544s] fibonacci(3) -> 2\n",
      "[0.00044845s] fibonacci(4) -> 3\n",
      "[0.00000040s] fibonacci(1) -> 1\n",
      "[0.00000044s] fibonacci(0) -> 0\n",
      "[0.00000032s] fibonacci(1) -> 1\n",
      "[0.00003433s] fibonacci(2) -> 1\n",
      "[0.00008862s] fibonacci(3) -> 2\n",
      "[0.00000053s] fibonacci(0) -> 0\n",
      "[0.00000048s] fibonacci(1) -> 1\n",
      "[0.00019850s] fibonacci(2) -> 1\n",
      "[0.00000033s] fibonacci(1) -> 1\n",
      "[0.00000052s] fibonacci(0) -> 0\n",
      "[0.00000065s] fibonacci(1) -> 1\n",
      "[0.00019854s] fibonacci(2) -> 1\n",
      "[0.00023503s] fibonacci(3) -> 2\n",
      "[0.00047200s] fibonacci(4) -> 3\n",
      "[0.00069332s] fibonacci(5) -> 5\n",
      "[0.00123645s] fibonacci(6) -> 8\n",
      "8\n"
     ]
    }
   ],
   "source": [
    "## ex 7.18\n",
    "\n",
    "from clockdeco import clock\n",
    "\n",
    "@clock\n",
    "def fibonacci(n):\n",
    "    if n < 2:\n",
    "        return n\n",
    "    return fibonacci(n-2) + fibonacci(n-1)\n",
    "\n",
    "print(fibonacci(6))"
   ]
  },
  {
   "cell_type": "markdown",
   "metadata": {},
   "source": [
    "실행 결과는 다음과 같으며 마지막 결과를 제외한 모든 출력은 `clock()` 데커레이터가 생성한 것입니다.\n",
    "\n",
    "이렇게 구현하면 같은 계산을 여러번 호출하므로 계산 낭비가 심합니다. 하지만 `lru_cache()`를 사용하면 성능이 상당히 개선됩니다. "
   ]
  },
  {
   "cell_type": "code",
   "execution_count": 47,
   "metadata": {},
   "outputs": [
    {
     "name": "stdout",
     "output_type": "stream",
     "text": [
      "[0.00000040s] fibonacci(0) -> 0\n",
      "[0.00000036s] fibonacci(1) -> 1\n",
      "[0.00006007s] fibonacci(2) -> 1\n",
      "[0.00000061s] fibonacci(3) -> 2\n",
      "[0.00009084s] fibonacci(4) -> 3\n",
      "[0.00000108s] fibonacci(5) -> 5\n",
      "[0.00030520s] fibonacci(6) -> 8\n",
      "8\n"
     ]
    }
   ],
   "source": [
    "## ex 7.19\n",
    "import functools\n",
    "\n",
    "from clockdeco import clock\n",
    "\n",
    "@functools.lru_cache() #1\n",
    "@clock\n",
    "def fibonacci(n):\n",
    "    if n < 2:\n",
    "        return n\n",
    "    return fibonacci(n-2) + fibonacci(n-1)\n",
    "\n",
    "print(fibonacci(6))"
   ]
  },
  {
   "cell_type": "markdown",
   "metadata": {},
   "source": [
    "`lru_cache()` 데커레이터를 일반 함수처럼 호출해야 한다는 점에 주의해야합니다. 이는 __설정 매개변수__를 받기 때문입니다.\n",
    "\n",
    "결과를 확인해보면 실행 시간이 줄었고 각 n에 대해 연산이 한번만 호출됩니다.\n",
    "\n",
    "재귀 알고리즘을 쓸만하게 만드는 것 외에 `lru_cache()`는 웹에서 정보를 가져와야 하는 애플리케이션을 만들 때에도 유용합니다."
   ]
  },
  {
   "cell_type": "markdown",
   "metadata": {},
   "source": [
    "`lru_cache()`는 두 개의 선택적 인수를 이용해서 설정할 수 있습니다. "
   ]
  },
  {
   "cell_type": "markdown",
   "metadata": {},
   "source": [
    "```\n",
    "functools.lru_cache(maxsize=128, typed=False)\n",
    "```\n",
    "\n",
    "- `maxsize` : 얼마나 많은 호출을 저장할지 결정합니다.\n",
    "> 캐시가 가득차면 가장 오래된 결과를 버리고 공간을 확보합니다. 최적의 성능을 내기 위해 `maxsize`는 __2의 제곱이 되어야 합니다.__\n",
    "\n",
    "\n",
    "- `typed` : True인 경우 인수의 자료형이 다르면 따로 저장합니다.\n",
    "\n",
    "`lru_cache`가 결과를 저장하기 위해 딕셔너리를 사용하고, 호출할 때 사용한 위치 인수와 키워드 인수를 키로 사용하므로 데커레이트된 함수가 받는 인수는 모두 __해시 가능__ 해야 합니다."
   ]
  },
  {
   "cell_type": "markdown",
   "metadata": {},
   "source": [
    "### 7.8.2 `singledispatch`를 이용한 범용 함수"
   ]
  },
  {
   "cell_type": "markdown",
   "metadata": {},
   "source": [
    "`functools.singledispatch()` 데커레이터는 각 모듈이 전체 해결책에 기여할 수 있게 해주며, __편집할 수 없는 클래스에 대해서도 특화된 함수를 제공하도록 해줍니다.__ \n",
    "\n",
    "일반 함수를 `@singledispatch`로 데커레이트하면, 이 함수는 __범용 함수(generic function)__ 가 됩니다. 즉, 일련의 함수가 첫 번째 인수의 자료형에 따라 서로 다른 방식으로 연산을 수행할 수 있게끔 해줍니다. \n",
    "\n",
    "> __generic function__\n",
    "    - 어떤 하나의 함수가 여러 타입의 인자를 받고, 인자의 타입에 따라 적절한 동작을 하는 함수를 generic function 이라고 합니다.\n",
    "    \n",
    "\n",
    "웹 어플리케이션을 디버깅하는 도구를 만들고 있다고 가정해 보겠습니다. 파이썬 객체의 자료형마다 HTML 코드를 생성하고자 합니다."
   ]
  },
  {
   "cell_type": "code",
   "execution_count": 48,
   "metadata": {},
   "outputs": [],
   "source": [
    "## ex 7.20\n",
    "\n",
    "import html\n",
    "\n",
    "def htmlize(obj):\n",
    "    content = html.escape(repr(obj))\n",
    "    return '<pre>{}</pre>'.format(content)"
   ]
  },
  {
   "cell_type": "code",
   "execution_count": 49,
   "metadata": {},
   "outputs": [
    {
     "data": {
      "text/plain": [
       "'<pre>{1, 2, 3}</pre>'"
      ]
     },
     "execution_count": 49,
     "metadata": {},
     "output_type": "execute_result"
    }
   ],
   "source": [
    "htmlize({1, 2, 3})"
   ]
  },
  {
   "cell_type": "code",
   "execution_count": 50,
   "metadata": {},
   "outputs": [
    {
     "data": {
      "text/plain": [
       "'<pre>&lt;built-in function abs&gt;</pre>'"
      ]
     },
     "execution_count": 50,
     "metadata": {},
     "output_type": "execute_result"
    }
   ],
   "source": [
    "htmlize(abs)"
   ]
  },
  {
   "cell_type": "code",
   "execution_count": 51,
   "metadata": {},
   "outputs": [
    {
     "data": {
      "text/plain": [
       "'<pre>&#x27;Heimlich &amp; Co.\\\\n- a game&#x27;</pre>'"
      ]
     },
     "execution_count": 51,
     "metadata": {},
     "output_type": "execute_result"
    }
   ],
   "source": [
    "htmlize('Heimlich & Co.\\n- a game')"
   ]
  },
  {
   "cell_type": "code",
   "execution_count": 52,
   "metadata": {},
   "outputs": [
    {
     "data": {
      "text/plain": [
       "'<pre>42</pre>'"
      ]
     },
     "execution_count": 52,
     "metadata": {},
     "output_type": "execute_result"
    }
   ],
   "source": [
    "htmlize(42)"
   ]
  },
  {
   "cell_type": "code",
   "execution_count": 53,
   "metadata": {},
   "outputs": [
    {
     "data": {
      "text/plain": [
       "'<pre>[&#x27;alpha&#x27;, 66, {1, 2, 3}]</pre>'"
      ]
     },
     "execution_count": 53,
     "metadata": {},
     "output_type": "execute_result"
    }
   ],
   "source": [
    "htmlize(['alpha', 66, {3,2,1}])"
   ]
  },
  {
   "cell_type": "markdown",
   "metadata": {},
   "source": [
    "파이썬에서는 __메서드나 함수의 오버로딩을 지원하지 않으므로__, 서로 다르게 처리하고자 하는 자료형별로 서로 다른 시그너처를 가진 `htmlize()`를 만들 수 없습니다. \n",
    "\n",
    "> __함수 시그너처(function signature)__\n",
    "    - 함수 시그니처란 함수의 원형에 명시되는 매개변수 리스트를 가리킵니다.\n",
    "    - 만약 두 함수가 매개변수의 개수와 그 타입이 모두 같다면, 이 두 함수의 시그니처는 같다고 할 수 있습니다.\n",
    "    - 즉, 함수의 오버로딩은 서로 다른 시그니처를 갖는 여러 함수를 같은 이름으로 정의하는 것이라고 할 수 있습니다.\n",
    "\n",
    "이 때 파이썬에서는 일반적으로 `htmlize()`함수를 디스패치 함수로 변경하고, 일련의 `if/elif/elif` 문을 이용해서 `htmilze_str()`, `htmlize_int()` 등의 특화된 함수를 호출합니다. \n",
    "\n",
    "그러면 이 모듈의 사용자가 코드를 확장하기 쉽지 않으며, 다루기도 어렵습니다. 시간이 지나면서 `htmlize()` 디스패치 코드가 커지며, 디스패치 함수와 특화된 함수 간의 결합이 너무 강해집니다. "
   ]
  },
  {
   "cell_type": "code",
   "execution_count": 54,
   "metadata": {},
   "outputs": [
    {
     "ename": "NameError",
     "evalue": "name 'singledispatch' is not defined",
     "output_type": "error",
     "traceback": [
      "\u001b[0;31m---------------------------------------------------------------------------\u001b[0m",
      "\u001b[0;31mNameError\u001b[0m                                 Traceback (most recent call last)",
      "\u001b[0;32m<ipython-input-54-bf4b807478c5>\u001b[0m in \u001b[0;36m<module>\u001b[0;34m\u001b[0m\n\u001b[1;32m      2\u001b[0m     \u001b[0;32mpass\u001b[0m\u001b[0;34m\u001b[0m\u001b[0;34m\u001b[0m\u001b[0m\n\u001b[1;32m      3\u001b[0m \u001b[0;34m\u001b[0m\u001b[0m\n\u001b[0;32m----> 4\u001b[0;31m \u001b[0;34m@\u001b[0m\u001b[0msingledispatch\u001b[0m\u001b[0;34m\u001b[0m\u001b[0;34m\u001b[0m\u001b[0m\n\u001b[0m\u001b[1;32m      5\u001b[0m \u001b[0;32mdef\u001b[0m \u001b[0mfunc_single\u001b[0m\u001b[0;34m(\u001b[0m\u001b[0;34m)\u001b[0m\u001b[0;34m:\u001b[0m\u001b[0;34m\u001b[0m\u001b[0;34m\u001b[0m\u001b[0m\n\u001b[1;32m      6\u001b[0m     \u001b[0;32mpass\u001b[0m\u001b[0;34m\u001b[0m\u001b[0;34m\u001b[0m\u001b[0m\n",
      "\u001b[0;31mNameError\u001b[0m: name 'singledispatch' is not defined"
     ]
    }
   ],
   "source": [
    "def func():\n",
    "    pass\n",
    "\n",
    "@singledispatch\n",
    "def func_single():\n",
    "    pass\n",
    "\n",
    "set(dir(func_single)) - set(dir(func))"
   ]
  },
  {
   "cell_type": "code",
   "execution_count": 55,
   "metadata": {},
   "outputs": [],
   "source": [
    "## ex 7.21\n",
    "\n",
    "from functools import singledispatch\n",
    "from collections import abc\n",
    "import numbers\n",
    "import html\n",
    "\n",
    "@singledispatch\n",
    "def htmlize(obj):\n",
    "    content = html.escape(repr(obj))\n",
    "    return '<pre>{}</pre>'.format(content)\n",
    "\n",
    "@htmlize.register(str)\n",
    "def _(text):\n",
    "    content = html.escape(text).replace('\\n', '<br>\\n')\n",
    "    return f'<p>{content}</p>'\n",
    "\n",
    "@htmlize.register(numbers.Integral)\n",
    "def _(n):\n",
    "    return '<pre>{0} (0x{0:x})</pre>'.format(n)\n",
    "\n",
    "@htmlize.register(tuple)\n",
    "@htmlize.register(abc.MutableSequence)\n",
    "def _(seq):\n",
    "    inner = '</li>\\n<li>'.join(htmlize(item) for item in seq)\n",
    "    return '<ul>\\n<li>' + inner + '</li>\\n</ul>'"
   ]
  },
  {
   "cell_type": "code",
   "execution_count": 56,
   "metadata": {},
   "outputs": [
    {
     "data": {
      "text/plain": [
       "'<pre>{1, 2, 3}</pre>'"
      ]
     },
     "execution_count": 56,
     "metadata": {},
     "output_type": "execute_result"
    }
   ],
   "source": [
    "htmlize({1, 2, 3})"
   ]
  },
  {
   "cell_type": "code",
   "execution_count": 57,
   "metadata": {},
   "outputs": [
    {
     "data": {
      "text/plain": [
       "'<pre>&lt;built-in function abs&gt;</pre>'"
      ]
     },
     "execution_count": 57,
     "metadata": {},
     "output_type": "execute_result"
    }
   ],
   "source": [
    "htmlize(abs)"
   ]
  },
  {
   "cell_type": "code",
   "execution_count": 58,
   "metadata": {},
   "outputs": [
    {
     "data": {
      "text/plain": [
       "'<p>Heimlich &amp; Co.<br>\\n- a game</p>'"
      ]
     },
     "execution_count": 58,
     "metadata": {},
     "output_type": "execute_result"
    }
   ],
   "source": [
    "htmlize('Heimlich & Co.\\n- a game')"
   ]
  },
  {
   "cell_type": "code",
   "execution_count": 59,
   "metadata": {},
   "outputs": [
    {
     "data": {
      "text/plain": [
       "'<pre>42 (0x2a)</pre>'"
      ]
     },
     "execution_count": 59,
     "metadata": {},
     "output_type": "execute_result"
    }
   ],
   "source": [
    "htmlize(42)"
   ]
  },
  {
   "cell_type": "code",
   "execution_count": 60,
   "metadata": {},
   "outputs": [
    {
     "name": "stdout",
     "output_type": "stream",
     "text": [
      "<ul>\n",
      "<li><p>alpha</p></li>\n",
      "<li><pre>66 (0x42)</pre></li>\n",
      "<li><pre>{1, 2, 3}</pre></li>\n",
      "</ul>\n"
     ]
    }
   ],
   "source": [
    "print(htmlize(['alpha', 66, {3,2,1}]))"
   ]
  },
  {
   "cell_type": "markdown",
   "metadata": {},
   "source": [
    "가능하면 `int`나 `list`와 같은 구상 클래스보다 `numbers.Integral`이나 `abc.MutableSequence`와 같은 추상 클래스를 처리하도록 특화된 함수를 등록하는 것이 좋습니다. \n",
    "\n",
    "__추상 클래스로 등록하면 호환되는 자료형을 폭 넓게 지원가능합니다.__ ( _이 개념에 대해서는 11장에서 다시 다룹니다!_ )\n",
    "\n",
    "`singledispatch` 매커니즘은 특화된 함수를 시스템 어디에나, 어느 모듈에나 등록할 수 있다는 장점이 있습니다. 나중에 새로운 사용자 정의 자료형이 추가된 모듈을 추가할 때도 추가된 자료형을 처리하도록 특화된 함수를 쉽게 추가 가능합니다. \n",
    "\n",
    "`singledispatch`는 이보다 더 많은 기능을 제공하므로 공식 문서를 참조하는 것을 추천합니다.\n",
    "http://www.python.org/dev/peps/pep-0443/"
   ]
  },
  {
   "cell_type": "markdown",
   "metadata": {},
   "source": [
    "## 7.9 누적된 데커레이터\n",
    "\n",
    "데커레이터 역시 함수이기에 조합 가능합니다. \n",
    "\n",
    "```\n",
    "@d1\n",
    "@d2\n",
    "def f():\n",
    "```\n",
    "\n",
    "위처럼 코드를 작성하면 `f = d1(d2(f))` 와 동일합니다."
   ]
  },
  {
   "cell_type": "markdown",
   "metadata": {},
   "source": [
    "## 7.10 매개변수화된 데커레이터\n",
    "\n",
    "소스 코드에 데커레이터를 파싱할 때 파이썬은 데커레이트된 함수를 가져와서 데커레이터 함수의 첫번째 인수로 넘겨줍니다. 그럼 다른 인수들을 어떻게 받는지 예제로 보겠습니다. "
   ]
  },
  {
   "cell_type": "code",
   "execution_count": 61,
   "metadata": {},
   "outputs": [
    {
     "name": "stdout",
     "output_type": "stream",
     "text": [
      "running register(<function f1 at 0x10c64d3b0>)\n"
     ]
    }
   ],
   "source": [
    "## ex 7.22\n",
    "\n",
    "registry = []\n",
    "\n",
    "def register(func):\n",
    "    print('running register(%s)'% func)\n",
    "    registry.append(func)\n",
    "    return func\n",
    "\n",
    "@register\n",
    "def f1():\n",
    "    print('runnning f1')"
   ]
  },
  {
   "cell_type": "code",
   "execution_count": 62,
   "metadata": {},
   "outputs": [
    {
     "name": "stdout",
     "output_type": "stream",
     "text": [
      "[<function f1 at 0x10c64d3b0>]\n"
     ]
    }
   ],
   "source": [
    "print(registry)"
   ]
  },
  {
   "cell_type": "code",
   "execution_count": 63,
   "metadata": {},
   "outputs": [
    {
     "name": "stdout",
     "output_type": "stream",
     "text": [
      "runnning f1\n"
     ]
    }
   ],
   "source": [
    "f1()"
   ]
  },
  {
   "cell_type": "markdown",
   "metadata": {},
   "source": [
    "### 7.10.1 매개변수화된 등록 데커레이터"
   ]
  },
  {
   "cell_type": "code",
   "execution_count": 64,
   "metadata": {},
   "outputs": [
    {
     "name": "stdout",
     "output_type": "stream",
     "text": [
      "running register(active=False)-> decorate(<function f1 at 0x10c64da70>)\n",
      "running register(active=True)-> decorate(<function f2 at 0x10c64d950>)\n"
     ]
    }
   ],
   "source": [
    "## ex 7.23\n",
    "\n",
    "registry = set()\n",
    "\n",
    "def register(active=True):\n",
    "    def decoreate(func):\n",
    "        print('running register(active=%s)-> decorate(%s)'\n",
    "              %(active, func))\n",
    "        if active:\n",
    "            registry.add(func)\n",
    "        else:\n",
    "            registry.discard(func)\n",
    "        return func\n",
    "    return decoreate\n",
    "\n",
    "@register(active=False)\n",
    "def f1():\n",
    "    print('running f1()')\n",
    "    \n",
    "@register()\n",
    "def f2():\n",
    "    print('running f2()')\n",
    "    \n",
    "def f3():\n",
    "    print('running f3()')"
   ]
  },
  {
   "cell_type": "code",
   "execution_count": 65,
   "metadata": {},
   "outputs": [
    {
     "data": {
      "text/plain": [
       "{<function __main__.f2()>}"
      ]
     },
     "execution_count": 65,
     "metadata": {},
     "output_type": "execute_result"
    }
   ],
   "source": [
    "registry"
   ]
  },
  {
   "cell_type": "markdown",
   "metadata": {},
   "source": [
    "위 예제를 보면 `decorate`함수가 `active`인수를 받도록 프로그래밍 한 것을 볼 수 있습니다.\n",
    "\n",
    "데코레이터를 일반함수처럼 사용하려면 다음과 같이 사용해야 합니다."
   ]
  },
  {
   "cell_type": "code",
   "execution_count": 66,
   "metadata": {},
   "outputs": [
    {
     "name": "stdout",
     "output_type": "stream",
     "text": [
      "running register(active=True)-> decorate(<function f3 at 0x10c64d3b0>)\n"
     ]
    },
    {
     "data": {
      "text/plain": [
       "<function __main__.f3()>"
      ]
     },
     "execution_count": 66,
     "metadata": {},
     "output_type": "execute_result"
    }
   ],
   "source": [
    "register()(f3)"
   ]
  },
  {
   "cell_type": "code",
   "execution_count": 67,
   "metadata": {},
   "outputs": [
    {
     "name": "stdout",
     "output_type": "stream",
     "text": [
      "running register(active=False)-> decorate(<function f2 at 0x10c64d950>)\n"
     ]
    },
    {
     "data": {
      "text/plain": [
       "<function __main__.f2()>"
      ]
     },
     "execution_count": 67,
     "metadata": {},
     "output_type": "execute_result"
    }
   ],
   "source": [
    "register(active=False)(f2)"
   ]
  },
  {
   "cell_type": "code",
   "execution_count": 68,
   "metadata": {},
   "outputs": [
    {
     "data": {
      "text/plain": [
       "{<function __main__.f3()>}"
      ]
     },
     "execution_count": 68,
     "metadata": {},
     "output_type": "execute_result"
    }
   ],
   "source": [
    "registry"
   ]
  },
  {
   "cell_type": "markdown",
   "metadata": {},
   "source": [
    "여기서 핵심은 `register()`가 `decorate()`를 반환하고, 데커레이트될 함수에 `decorate()`가 적용된다는 것입니다. \n",
    "\n",
    "매개변수화된 데커레이터는 일반적으로 데커레이트된 함수를 대체하며, 생성하기 위해 함수를 한 단계 더 내포합니다."
   ]
  },
  {
   "cell_type": "markdown",
   "metadata": {},
   "source": [
    "### 7.10.2 매개변수화된 `clock` 데커레이터\n",
    "\n",
    "앞에서 보였던 `clock` 데커레이터 예제를 이용해서 기능을 추가합니다. \n",
    "\n",
    "사용자가 포맷 문자열을 전달해서 데커레이트된 함수가 출력할 문자열을 설정합니다. "
   ]
  },
  {
   "cell_type": "code",
   "execution_count": 69,
   "metadata": {},
   "outputs": [],
   "source": [
    "## ex 7.25\n",
    "\n",
    "import time \n",
    "\n",
    "DEFAULT_FMT = '[{elapsed:0.8f}s] {name}({args}) -> {result}'\n",
    "\n",
    "def clock(fmt=DEFAULT_FMT):\n",
    "    def decorate(func):\n",
    "        def clocked(*_args):\n",
    "            t0 = time.perf_counter()\n",
    "            _result = func(*_args)\n",
    "            elapsed = time.perf_counter() - t0\n",
    "            name = func.__name__\n",
    "            args = ', '.join(repr(arg) for arg in _args)\n",
    "            result = repr(_result)\n",
    "            print(fmt.format(**locals()))\n",
    "            return _result\n",
    "        return clocked\n",
    "    return decorate"
   ]
  },
  {
   "cell_type": "code",
   "execution_count": 70,
   "metadata": {},
   "outputs": [
    {
     "name": "stdout",
     "output_type": "stream",
     "text": [
      "[0.12805991s] snooze(0.123) -> None\n",
      "[0.12585939s] snooze(0.123) -> None\n",
      "[0.12303958s] snooze(0.123) -> None\n"
     ]
    }
   ],
   "source": [
    "@clock()\n",
    "def snooze(seconds):\n",
    "    time.sleep(seconds)\n",
    "    \n",
    "for i in range(3):\n",
    "    snooze(.123)"
   ]
  },
  {
   "cell_type": "markdown",
   "metadata": {},
   "source": [
    "매개변수화된 데커레이터를 이용할 때 항상 호출 선언`()`을 해줘야 합니다. "
   ]
  },
  {
   "cell_type": "code",
   "execution_count": 71,
   "metadata": {},
   "outputs": [
    {
     "name": "stdout",
     "output_type": "stream",
     "text": [
      "snooze:0.12809375700000025s\n",
      "snooze:0.1251853660000002s\n",
      "snooze:0.12803319000000002s\n"
     ]
    }
   ],
   "source": [
    "@clock('{name}:{elapsed}s')\n",
    "def snooze(seconds):\n",
    "    time.sleep(seconds)\n",
    "\n",
    "for i in range(3):\n",
    "    snooze(.123)"
   ]
  },
  {
   "cell_type": "markdown",
   "metadata": {},
   "source": [
    "위와 같은 방식으로 적절한 포맷을 커스텀해서 활용 가능합니다. \n",
    "\n",
    "> 이 책의 리뷰어들 중 몇몇은 데커레이터 함수를 설명하기 위해 우리가 사용했던 예제와 같은 함수보다는 `__call__()`을 구현하는 클래스로 만들 때 가장 잘 구현된다고 조언했습니다."
   ]
  },
  {
   "cell_type": "markdown",
   "metadata": {},
   "source": [
    "## 7.11 요약\n",
    "\n",
    "1. 결국 우리는 메타프로그래밍의 영역에 들어왔습니다.\n",
    "\n",
    "\n",
    "2. 내부 함수를 갖지 않는 간단한 데커레이터로 시작해서 두 단계의 내포된 함수를 갖는 매개변수화된 데커레이터까지 구현해봤습니다.\n",
    "\n",
    "\n",
    "3. 등록 데커레이터는 본질적으로 간단한 메커니즘이지만 고급 파이썬 프레임워크에서 실제 사용되고 있습니다. \n",
    "\n",
    "\n",
    "4. 매개변수화된 데커레이터는 거의 최소 두 단계의 내포된 함수를 가지고 있으며, 더 고급 기법을 지원하는 데커레이터를 구현하기 위해 `@functools.wraps`를 사용하는 경우 세 단계 이상 내포되기도 합니다. \n",
    "\n",
    "\n",
    "5. 표준 라이브러리 `functools` 모듈에서 제공하는 `@lru_cache()`와 `@singledispatch` 등 함수 데커레이터를 알아보았습니다. \n",
    "\n",
    "\n",
    "6. 데커레이터가 실제 작동하는 방식을 이해하려면 __임포트 타임__과 __런타임__의 차이를 알아야 하며, 변수 범위, 클로저, `nonlocal` 선언에 대해서도 자세히 알아야 합니다. (클로저와 `nonlocal`선언을 이해하면 GUI 방식의 이벤트 주도 프로그램이나 콜백을 이용한 비동기 입출력을 구현할 때도 큰 도움이 됩니다.)"
   ]
  }
 ],
 "metadata": {
  "kernelspec": {
   "display_name": "Python 3",
   "language": "python",
   "name": "python3"
  },
  "language_info": {
   "codemirror_mode": {
    "name": "ipython",
    "version": 3
   },
   "file_extension": ".py",
   "mimetype": "text/x-python",
   "name": "python",
   "nbconvert_exporter": "python",
   "pygments_lexer": "ipython3",
   "version": "3.7.6"
  }
 },
 "nbformat": 4,
 "nbformat_minor": 4
}

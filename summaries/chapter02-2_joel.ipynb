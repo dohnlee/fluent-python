{
 "cells": [
  {
   "cell_type": "markdown",
   "metadata": {},
   "source": [
    "### 2.7 `list.sort()`와 `sorted()` 내장 함수\n",
    "\n",
    "`list.sort()` 메서드는 사본을 만들지 않고 리스트 내부를 변경해서 정렬해줍니다. `sort()` 메서드는 타깃 객체를 변경하고 새로운 리스트를 생성하지 않았음을 알려주기 위해 `None`을 반환합니다. 파이썬에서는 이처럼 객체를 직접 변경하는 메서드나 함수는, 객체가 변경되고 새로운 객체가 생성되지 않았음을 알려주기 위해 `None`을 반환하는데 `random.shuffle()` 함수도 이와 동일하게 작동합니다. "
   ]
  },
  {
   "cell_type": "code",
   "execution_count": 1,
   "metadata": {},
   "outputs": [
    {
     "name": "stdout",
     "output_type": "stream",
     "text": [
      "None\n",
      "[1, 2, 3, 4, 5]\n"
     ]
    }
   ],
   "source": [
    "lst = [3,2,1,4,5]\n",
    "print(lst.sort())\n",
    "print(lst)"
   ]
  },
  {
   "cell_type": "code",
   "execution_count": 2,
   "metadata": {},
   "outputs": [
    {
     "name": "stdout",
     "output_type": "stream",
     "text": [
      "[4, 1, 5, 3, 2]\n"
     ]
    }
   ],
   "source": [
    "import random\n",
    "\n",
    "lst = [3,2,1,4,5]\n",
    "random.shuffle(lst)\n",
    "print(lst)"
   ]
  },
  {
   "cell_type": "markdown",
   "metadata": {},
   "source": [
    "이와 반대로 `sorted()` 내장 함수는 새로운 리스트를 생성해서 반환합니다. 따라서 `sorted()`함수는 불변 시퀀스 및 제너레이터를 포함해서 iterable(반복 가능)한 모든 객체를 input으로 받을 수 있습니다. __입력받은 iterable한 객체의 자료형과는 무관하게 `sorted()`함수는 언제나 새로 생성한 리스트를 반환합니다.__"
   ]
  },
  {
   "cell_type": "code",
   "execution_count": 3,
   "metadata": {},
   "outputs": [
    {
     "ename": "TypeError",
     "evalue": "'tuple' object does not support item assignment",
     "output_type": "error",
     "traceback": [
      "\u001b[0;31m---------------------------------------------------------------------------\u001b[0m",
      "\u001b[0;31mTypeError\u001b[0m                                 Traceback (most recent call last)",
      "\u001b[0;32m<ipython-input-3-4d9f8fbe236a>\u001b[0m in \u001b[0;36m<module>\u001b[0;34m\u001b[0m\n\u001b[1;32m      1\u001b[0m \u001b[0mtpl\u001b[0m \u001b[0;34m=\u001b[0m \u001b[0;34m(\u001b[0m\u001b[0;36m3\u001b[0m\u001b[0;34m,\u001b[0m\u001b[0;36m2\u001b[0m\u001b[0;34m,\u001b[0m\u001b[0;36m1\u001b[0m\u001b[0;34m,\u001b[0m\u001b[0;36m4\u001b[0m\u001b[0;34m,\u001b[0m\u001b[0;36m5\u001b[0m\u001b[0;34m)\u001b[0m\u001b[0;34m\u001b[0m\u001b[0;34m\u001b[0m\u001b[0m\n\u001b[0;32m----> 2\u001b[0;31m \u001b[0mrandom\u001b[0m\u001b[0;34m.\u001b[0m\u001b[0mshuffle\u001b[0m\u001b[0;34m(\u001b[0m\u001b[0mtpl\u001b[0m\u001b[0;34m)\u001b[0m\u001b[0;34m\u001b[0m\u001b[0;34m\u001b[0m\u001b[0m\n\u001b[0m",
      "\u001b[0;32m~/opt/anaconda3/envs/cote/lib/python3.7/random.py\u001b[0m in \u001b[0;36mshuffle\u001b[0;34m(self, x, random)\u001b[0m\n\u001b[1;32m    276\u001b[0m                 \u001b[0;31m# pick an element in x[:i+1] with which to exchange x[i]\u001b[0m\u001b[0;34m\u001b[0m\u001b[0;34m\u001b[0m\u001b[0;34m\u001b[0m\u001b[0m\n\u001b[1;32m    277\u001b[0m                 \u001b[0mj\u001b[0m \u001b[0;34m=\u001b[0m \u001b[0mrandbelow\u001b[0m\u001b[0;34m(\u001b[0m\u001b[0mi\u001b[0m\u001b[0;34m+\u001b[0m\u001b[0;36m1\u001b[0m\u001b[0;34m)\u001b[0m\u001b[0;34m\u001b[0m\u001b[0;34m\u001b[0m\u001b[0m\n\u001b[0;32m--> 278\u001b[0;31m                 \u001b[0mx\u001b[0m\u001b[0;34m[\u001b[0m\u001b[0mi\u001b[0m\u001b[0;34m]\u001b[0m\u001b[0;34m,\u001b[0m \u001b[0mx\u001b[0m\u001b[0;34m[\u001b[0m\u001b[0mj\u001b[0m\u001b[0;34m]\u001b[0m \u001b[0;34m=\u001b[0m \u001b[0mx\u001b[0m\u001b[0;34m[\u001b[0m\u001b[0mj\u001b[0m\u001b[0;34m]\u001b[0m\u001b[0;34m,\u001b[0m \u001b[0mx\u001b[0m\u001b[0;34m[\u001b[0m\u001b[0mi\u001b[0m\u001b[0;34m]\u001b[0m\u001b[0;34m\u001b[0m\u001b[0;34m\u001b[0m\u001b[0m\n\u001b[0m\u001b[1;32m    279\u001b[0m         \u001b[0;32melse\u001b[0m\u001b[0;34m:\u001b[0m\u001b[0;34m\u001b[0m\u001b[0;34m\u001b[0m\u001b[0m\n\u001b[1;32m    280\u001b[0m             \u001b[0m_int\u001b[0m \u001b[0;34m=\u001b[0m \u001b[0mint\u001b[0m\u001b[0;34m\u001b[0m\u001b[0;34m\u001b[0m\u001b[0m\n",
      "\u001b[0;31mTypeError\u001b[0m: 'tuple' object does not support item assignment"
     ]
    }
   ],
   "source": [
    "tpl = (3,2,1,4,5)\n",
    "random.shuffle(tpl)"
   ]
  },
  {
   "cell_type": "code",
   "execution_count": 4,
   "metadata": {},
   "outputs": [
    {
     "name": "stdout",
     "output_type": "stream",
     "text": [
      "[1, 2, 3, 4, 5]\n",
      "['1', '2', '3', '4', '5']\n"
     ]
    }
   ],
   "source": [
    "print(sorted(tpl))\n",
    "print(sorted('32145'))"
   ]
  },
  {
   "cell_type": "markdown",
   "metadata": {},
   "source": [
    "`list.sort()`메서드와 `sorted()` 함수 모두 선택적으로 두 개의 캐워드를 인수로 받습니다.\n",
    "\n",
    "- `reverse` : True인 경우 내림차순, default = False\n",
    "\n",
    "\n",
    "- `key` : 정렬에 사용할 키를 생성하기 위해 각 항목에 적용할 함수를 지정."
   ]
  },
  {
   "cell_type": "code",
   "execution_count": 5,
   "metadata": {},
   "outputs": [
    {
     "name": "stdout",
     "output_type": "stream",
     "text": [
      "[5, 4, 3, 2, 1]\n"
     ]
    }
   ],
   "source": [
    "lst = [3,2,1,4,5]\n",
    "print(sorted(lst, reverse=True))"
   ]
  },
  {
   "cell_type": "code",
   "execution_count": 6,
   "metadata": {},
   "outputs": [
    {
     "name": "stdout",
     "output_type": "stream",
     "text": [
      "['3', '12', '243', '2345', '43253']\n"
     ]
    }
   ],
   "source": [
    "lst = ['12','3','243','43253','2345']\n",
    "print(sorted(lst, key=len))"
   ]
  },
  {
   "cell_type": "markdown",
   "metadata": {},
   "source": [
    "__Tip__\n",
    "\n",
    "`key` 선택적 키워드 매개변수는 `min()`, `max()`, 내장함수 및 `itertools.groupby()`, `heapq.nlargest()` 등의 표준 라이브러리 함수와 함께 사용할 수 있습니다."
   ]
  },
  {
   "cell_type": "code",
   "execution_count": 7,
   "metadata": {},
   "outputs": [
    {
     "name": "stdout",
     "output_type": "stream",
     "text": [
      "알파벳 순으로 정렬 된 새로운 리스트 반환\n",
      "['apple', 'banana', 'grape', 'raspberry']\n",
      "\n",
      "원래 리스트는 변화하지 않았음을 확인\n",
      "['grape', 'raspberry', 'apple', 'banana']\n",
      "\n",
      "알파벳 역순으로 정렬 된 새로운 리스트 반환\n",
      "['raspberry', 'grape', 'banana', 'apple']\n",
      "\n",
      "문자열 길이 순으로 정렬\n",
      "['grape', 'apple', 'banana', 'raspberry']\n",
      "\n",
      "문자열 길이 역순으로 정렬\n",
      "['raspberry', 'banana', 'grape', 'apple']\n",
      "\n",
      "원래 리스트는 변화하지 않았음을 확인\n",
      "['grape', 'raspberry', 'apple', 'banana']\n"
     ]
    }
   ],
   "source": [
    "fruits = ['grape', 'raspberry', 'apple', 'banana']\n",
    "\n",
    "print('알파벳 순으로 정렬 된 새로운 리스트 반환')\n",
    "print(sorted(fruits))\n",
    "\n",
    "print('\\n원래 리스트는 변화하지 않았음을 확인')\n",
    "print(fruits)\n",
    "\n",
    "print('\\n알파벳 역순으로 정렬 된 새로운 리스트 반환')\n",
    "print(sorted(fruits, reverse=True))\n",
    "\n",
    "print('\\n문자열 길이 순으로 정렬')\n",
    "print(sorted(fruits, key=len))\n",
    "\n",
    "print('\\n문자열 길이 역순으로 정렬')\n",
    "print(sorted(fruits, key=len, reverse=True))\n",
    "\n",
    "print('\\n원래 리스트는 변화하지 않았음을 확인')\n",
    "print(fruits)"
   ]
  },
  {
   "cell_type": "code",
   "execution_count": 8,
   "metadata": {},
   "outputs": [
    {
     "name": "stdout",
     "output_type": "stream",
     "text": [
      "\n",
      "원래 리스트는 변화함을 확인\n",
      "['apple', 'banana', 'grape', 'raspberry']\n"
     ]
    }
   ],
   "source": [
    "fruits.sort()\n",
    "print('\\n원래 리스트는 변화함을 확인')\n",
    "print(fruits)"
   ]
  },
  {
   "cell_type": "markdown",
   "metadata": {},
   "source": [
    "### 2.8 정렬된 시퀀스를 `bisect`로 관리하기\n",
    "\n",
    "시퀀스를 정렬한 후에는 아주 효율적으로 검색할 수 있습니다. 파이썬 표준 라이브러리의 `bisect`모듈에서 표준 이진 검색 알고리즘을 제공합니다.\n",
    "\n",
    "`bisect`모듈은 `bisect()`와 `insort()` 함수를 제공합니다. \n",
    "\n",
    "- `bisect()` : 이진 검색 알고리즘을 이용해서 시퀀스를 검색\n",
    "\n",
    "- `insort()` : 정렬된 시퀀스 안에 항목을 삽입"
   ]
  },
  {
   "cell_type": "markdown",
   "metadata": {},
   "source": [
    "__`bisect()`로 검색하기__\n",
    "\n",
    "`bisect(haystack, needle)` 함수는 이진 검색 알고리즘을 이용해서 시퀀스를 검색합니다. 정렬된 시퀀스인 `haystack`안에서 오름차순 정렬 상태를 유지한 채로 `needle`을 추가할 위치를 찾아냅니다."
   ]
  },
  {
   "cell_type": "code",
   "execution_count": 9,
   "metadata": {},
   "outputs": [
    {
     "name": "stdout",
     "output_type": "stream",
     "text": [
      "DEMO: bisect_right\n",
      "haystack ->  1  4  5  6  8 12 15 20 21 23 23 26 29 30\n",
      "31 @ 14      |  |  |  |  |  |  |  |  |  |  |  |  |  | 31\n",
      "30 @ 14      |  |  |  |  |  |  |  |  |  |  |  |  |  | 30\n",
      "29 @ 13      |  |  |  |  |  |  |  |  |  |  |  |  | 29\n",
      "23 @ 11      |  |  |  |  |  |  |  |  |  |  | 23\n",
      "22 @  9      |  |  |  |  |  |  |  |  | 22\n",
      "10 @  5      |  |  |  |  | 10\n",
      " 8 @  5      |  |  |  |  | 8 \n",
      " 5 @  3      |  |  | 5 \n",
      " 2 @  1      | 2 \n",
      " 1 @  1      | 1 \n",
      " 0 @  0     0 \n"
     ]
    }
   ],
   "source": [
    "# 정렬된 시퀀스에서 항목을 추가할 위치를 찾아내는 bisect\n",
    "import sys\n",
    "import bisect\n",
    "\n",
    "HAYSTACK = [1, 4, 5, 6, 8, 12, 15, 20, 21, 23, 23, 26, 29, 30]\n",
    "NEEDLES = [0, 1, 2, 5, 8, 10, 22, 23, 29, 30, 31]\n",
    "\n",
    "ROW_FMT = '{0:2d} @ {1:2d}     {2}{0:<2d}'\n",
    "\n",
    "def demo(bisect_fn):\n",
    "    for needle in reversed(NEEDLES):\n",
    "        position = bisect_fn(HAYSTACK, needle) # 삽입 위치를 찾아내기 위해 bisect 함수를 사용\n",
    "        offset = position * ' | '  # 간격에 비례해서 수직 막대 패턴을 만듬\n",
    "        print(ROW_FMT.format(needle, position, offset)) # needle과 삽입 위치를 보여주는 포맷된 행을 출력\n",
    "        \n",
    "if __name__ == '__main__':\n",
    "    if sys.argv[-1] == 'left': # 마지막 명령행 인수에 따라 사용할 bisect함수를 선택 \n",
    "        bisect_fn = bisect.bisect_left\n",
    "    else:\n",
    "        bisect_fn = bisect.bisect\n",
    "        \n",
    "print('DEMO:', bisect_fn.__name__) # 선택된 함수명을 헤더에 출력\n",
    "print('haystack ->', ' '.join('%2d' % n for n in HAYSTACK))\n",
    "demo(bisect_fn)"
   ]
  },
  {
   "cell_type": "markdown",
   "metadata": {},
   "source": [
    "각 행은 needle @ position 형태로 시작하며 needle을 삽입할 haystack 위치에 needle 값을 한번 더 보여줍니다. \n",
    "\n",
    "bisect의 행동은 두가지 방식으로 조절할 수 있습니다. \n",
    "\n",
    "1. 선택 인수인 `lo`와 `hi`를 사용하면 삽입할 때 검색할 시퀀스 영역을 좁힐 수 있습니다. defualt는 `lo=0, hi=len()`입니다.\n",
    "\n",
    "\n",
    "2. `bisect`는 실제로는 `bisect_right()`을 의미하며, 이 함수의 자매함수는 `bisect_left()`가 있습니다. `bisect_right()`는 기존 항목 바로 뒤를 삽입 위치로 반환하며, `bisect_left()`는 기존 항목 바로 앞에 삽입됩니다. "
   ]
  },
  {
   "cell_type": "markdown",
   "metadata": {},
   "source": [
    "```\n",
    "(base) base ❯ python ex_bisect.py left\n",
    "DEMO: bisect_left\n",
    "haystack ->  1  4  5  6  8 12 15 20 21 23 23 26 29 30\n",
    "31 @ 14      |  |  |  |  |  |  |  |  |  |  |  |  |  | 31\n",
    "30 @ 13      |  |  |  |  |  |  |  |  |  |  |  |  | 30\n",
    "29 @ 12      |  |  |  |  |  |  |  |  |  |  |  | 29\n",
    "23 @  9      |  |  |  |  |  |  |  |  | 23\n",
    "22 @  9      |  |  |  |  |  |  |  |  | 22\n",
    "10 @  5      |  |  |  |  | 10\n",
    " 8 @  4      |  |  |  | 8\n",
    " 5 @  2      |  | 5\n",
    " 2 @  1      | 2\n",
    " 1 @  0     1\n",
    " 0 @  0     0\n",
    "```"
   ]
  },
  {
   "cell_type": "code",
   "execution_count": 10,
   "metadata": {},
   "outputs": [
    {
     "name": "stdout",
     "output_type": "stream",
     "text": [
      "['F', 'A', 'C', 'C', 'B', 'A', 'A']\n"
     ]
    }
   ],
   "source": [
    "# 시험 점수를 입력받아 등급 문자를 반환하는 함수\n",
    "def grade(score, breakpoints=[60, 70, 80, 90], grades='FDCBA'):\n",
    "    i = bisect.bisect(breakpoints, score)\n",
    "    return grades[i]\n",
    "\n",
    "print([grade(score) for score in [33, 99, 77, 70, 89, 90, 100]])"
   ]
  },
  {
   "cell_type": "code",
   "execution_count": 11,
   "metadata": {},
   "outputs": [
    {
     "name": "stdout",
     "output_type": "stream",
     "text": [
      "score : 33 idx : 0 grade : F\n",
      "score : 99 idx : 4 grade : A\n",
      "score : 77 idx : 2 grade : C\n",
      "score : 70 idx : 2 grade : C\n",
      "score : 89 idx : 3 grade : B\n",
      "score : 90 idx : 4 grade : A\n",
      "score : 100 idx : 4 grade : A\n"
     ]
    }
   ],
   "source": [
    "breakpoints = [60, 70, 80, 90]\n",
    "grades = 'FDCBA'\n",
    "for score in [33, 99, 77, 70, 89, 90, 100]:\n",
    "    i = bisect.bisect(breakpoints, score)\n",
    "    print('score :', score, 'idx :', i, 'grade :', grades[i])"
   ]
  },
  {
   "cell_type": "markdown",
   "metadata": {},
   "source": [
    "위의 예에서 `haystack=breakpoints, needle=score`라고 볼 수 있습니다. `score=70`의 경으 `bisect_right`이기 때문에 idx가 2라고 생각해볼 수 있고 따라서 C grade를 받았습니다."
   ]
  },
  {
   "cell_type": "markdown",
   "metadata": {},
   "source": [
    "__`bisect.insort()`로 삽입하기__\n",
    "\n",
    "정렬을 값비싼 연산이므로 시퀀스를 정렬한 후에는 그 상태를 유지하는 것이 좋습니다. 그렇기 때문에 `bisort.insort()`함수가 만들어졌습니다. \n",
    "\n",
    "`insort(seq, item)`은 `seq`를 오름차순으로 유지한체로 `item`을 `seq`에 삽입합니다."
   ]
  },
  {
   "cell_type": "code",
   "execution_count": 12,
   "metadata": {},
   "outputs": [
    {
     "name": "stdout",
     "output_type": "stream",
     "text": [
      "10 -> [10]\n",
      " 0 -> [0, 10]\n",
      " 6 -> [0, 6, 10]\n",
      " 8 -> [0, 6, 8, 10]\n",
      " 7 -> [0, 6, 7, 8, 10]\n",
      " 2 -> [0, 2, 6, 7, 8, 10]\n",
      "10 -> [0, 2, 6, 7, 8, 10, 10]\n"
     ]
    }
   ],
   "source": [
    "# 시퀀스를 항상 정렬된 상태로 유지하는 insort()\n",
    "\n",
    "import bisect\n",
    "import random\n",
    "\n",
    "SIZE = 7\n",
    "\n",
    "random.seed(1729)\n",
    "\n",
    "my_list = []\n",
    "for i in range(SIZE):\n",
    "    new_item = random.randrange(SIZE*2)\n",
    "    bisect.insort(my_list, new_item)\n",
    "    print('%2d ->' % new_item, my_list)"
   ]
  },
  {
   "cell_type": "markdown",
   "metadata": {},
   "source": [
    "`insort`함수도 선택적으로 `lo`와 `hi` 인수를 받아 시퀀스 안에서 검색할 범위를 제한합니다. 또한 `bisect_left()`함수를 사용하는 `insort_left()`함수도 있습니다. \n",
    "\n",
    "여기서 소개한 내용은 리스트나 튜플 뿐만 아니라 시퀀스에도 적용됩니다. "
   ]
  },
  {
   "cell_type": "markdown",
   "metadata": {},
   "source": [
    "### 2.9 리스트가 답이 아닐 때"
   ]
  },
  {
   "cell_type": "markdown",
   "metadata": {},
   "source": [
    "__배열__\n",
    "\n",
    "리스트형은 사용하기가 편리하지만, 세부 요구사항에 따라 더 나은 자료형도 있습니다. 예를 들어 실수를 천만 개 저장해야 할 때는 배열이 훨씬 더 효율적입니다. 배열은 모든 기능을 갖춘 `float`객체 대신 C 언어의 배열과 마찬가지로 바이트 값만 저장하기 때문입니다. \n",
    "\n",
    "배열은 `pop()`, `insert()`, `extend()` 등을 포함해서 가변 시퀀스가 제공하는 모든 연산을 지원하며, 빠르게 저장하고 읽어올 수 있는 `frombytes()`와 `tofile()`메서드도 추가로 제공합니다. \n",
    "\n",
    "파이썬 배열은 C 배열만큼 가볍습니다. 배열을 생성할 때는 배열에 저장되는 각 항목의 C 기반 형태를 결정하는 타입코드를 지정합니다. "
   ]
  },
  {
   "cell_type": "code",
   "execution_count": 13,
   "metadata": {},
   "outputs": [
    {
     "name": "stdout",
     "output_type": "stream",
     "text": [
      "0.5963321947530882\n",
      "0.5963321947530882\n",
      "True\n",
      "result : 1.738232135772705\n"
     ]
    }
   ],
   "source": [
    "import time\n",
    "\n",
    "from array import array\n",
    "from random import random\n",
    "\n",
    "start = time.time()\n",
    "\n",
    "floats = array('d', (random() for i in range(10**7)))\n",
    "print(floats[-1])\n",
    "\n",
    "with open('floats.bin', 'wb') as fp:\n",
    "    floats.tofile(fp)\n",
    "\n",
    "floats2 = array('d')\n",
    "with open('floats.bin', 'rb') as fp:\n",
    "    floats2.fromfile(fp, 10**7)\n",
    "print(floats[-1])\n",
    "\n",
    "print(floats2 == floats)\n",
    "\n",
    "print('result :',time.time()-start)"
   ]
  },
  {
   "cell_type": "markdown",
   "metadata": {},
   "source": [
    "`array.tofile()`와 `array.fromfile()`메서드는 사용하기 쉽습니다. 또한 예제 코드를 실행해보면 아주 빠르다는것을 알 수 있습니다. \n",
    "\n",
    "객체를 직렬화하는 `pickle` 모듈도 같은 역할을 합니다."
   ]
  },
  {
   "cell_type": "code",
   "execution_count": 14,
   "metadata": {},
   "outputs": [
    {
     "name": "stdout",
     "output_type": "stream",
     "text": [
      "0.1288579230853678\n",
      "0.1288579230853678\n",
      "True\n",
      "result : 1.7593259811401367\n"
     ]
    }
   ],
   "source": [
    "import time\n",
    "\n",
    "from random import random\n",
    "import pickle as pk\n",
    "\n",
    "start = time.time()\n",
    "\n",
    "floats = [random() for i in range(10**7)]\n",
    "print(floats[-1])\n",
    "\n",
    "with open('floats', 'wb') as fp:\n",
    "    pk.dump(floats, fp)\n",
    "    \n",
    "with open('floats', 'rb') as fp:\n",
    "    floats2 = pk.load(fp)\n",
    "\n",
    "print(floats2[-1])\n",
    "print(floats2 == floats)\n",
    "\n",
    "print('result :',time.time()-start)"
   ]
  },
  {
   "cell_type": "markdown",
   "metadata": {},
   "source": [
    "`array`형은 배열을 직접 변경하는 메서드가 없기 때문에, 정렬하려면 `sorted()`함수를 호출하여 배열을 다시 만들어야 합니다. "
   ]
  },
  {
   "cell_type": "code",
   "execution_count": 15,
   "metadata": {
    "scrolled": true
   },
   "outputs": [
    {
     "name": "stdout",
     "output_type": "stream",
     "text": [
      "False\n",
      "array('d', [3.0, 2.0, 1.0, 4.0])\n",
      "array('d', [1.0, 2.0, 3.0, 4.0])\n"
     ]
    }
   ],
   "source": [
    "a = array('d', (3,2,1,4))\n",
    "print('sort' in dir(a))\n",
    "print(a)\n",
    "a = array(a.typecode, sorted(a))\n",
    "print(a)"
   ]
  },
  {
   "cell_type": "markdown",
   "metadata": {},
   "source": [
    "__메모리 뷰(memoryview)__\n",
    "\n",
    "메모리 뷰 내장 클래스는 공유 메모리 시퀀스형으로 bytes를 복사하지 않고 배열의 슬라이스를 다룰 수 있게 해줍니다. 이 클래스는 `numpy`라이브러리에서 영감을 받아 만들어졌으며 본질적으로 `Numpy` 배열 구조체를 일반화 한것입니다. 데이터셋이 커지는 경우 중요한 기법이라고 합니다. \n"
   ]
  },
  {
   "cell_type": "code",
   "execution_count": 16,
   "metadata": {},
   "outputs": [
    {
     "name": "stdout",
     "output_type": "stream",
     "text": [
      "짧은 정수(타이보드 \"h\") 메모리뷰 객체 만들기\n",
      " <memory at 0x111722d50> \n",
      "\n",
      "memv도 배열 안에 있는 변수를 동일하게 봅니다.\n",
      " -2 \n",
      "\n",
      "[254, 255, 255, 255, 0, 0, 1, 0, 2, 0] \n",
      "\n",
      "[254, 255, 255, 255, 0, 4, 1, 0, 2, 0] \n",
      "\n",
      "array('h', [-2, -1, 1024, 1, 2])\n"
     ]
    }
   ],
   "source": [
    "from array import array\n",
    "\n",
    "numbers = array('h', [-2, -1, 0, 1, 2])\n",
    "memv = memoryview(numbers)\n",
    "print('짧은 정수(타이보드 \"h\") 메모리뷰 객체 만들기\\n', memv,'\\n')\n",
    "print('memv도 배열 안에 있는 변수를 동일하게 봅니다.\\n', memv[0],'\\n')\n",
    "\n",
    "\n",
    "memv_oct = memv.cast('B') # memv 요소를 unsigned char(타입코드 'B')로 형변환한 memv_oct를 생성합니다.\n",
    "print(memv_oct.tolist(), '\\n') # 값을 보기 위해 리스트로 만듭니다. \n",
    "\n",
    "memv_oct[5] = 4 # 4 할당\n",
    "print(memv_oct.tolist(), '\\n')\n",
    "print(numbers) # 결과"
   ]
  },
  {
   "cell_type": "markdown",
   "metadata": {},
   "source": [
    "__Numpy와 Scipy__\n",
    "\n",
    "`numpy`와 `scipy`가 제공하는 고급 배열 및 행렬 연산 덕분에 파이썬이 과학 계산 어플리케이션에서 널리 사용되게 되었습니다. \n",
    "\n",
    "`numpy`는 숫자 뿐 아니라 사용자 정의 레코드도 저장할 수 있는 다차원 동형 배열 및 행렬을 구현하고 요소 단위에서 효율적으로 연산할 수 있게 해줍니다.\n",
    "\n",
    "`scipy`는 `numpy`를 기반으로 작성된 라이브러리로서, 선형대수학, 수치해석, 통계학에 나오는 여러 계산 알고리즘을 제공합니다. `scipy`는 Netlib이 제공하는 C와 포트란 코드 기반을 활용하여 빠르고 신뢰성이 높으며, C 및 포트란에서 최적화되어있습니다. \n"
   ]
  },
  {
   "cell_type": "code",
   "execution_count": 17,
   "metadata": {},
   "outputs": [
    {
     "name": "stdout",
     "output_type": "stream",
     "text": [
      "[ 0  1  2  3  4  5  6  7  8  9 10 11]\n",
      "<class 'numpy.ndarray'>\n",
      "(12,) 배열의 차원\n",
      "\n",
      "[[ 0  1  2  3]\n",
      " [ 4  5  6  7]\n",
      " [ 8  9 10 11]] \n",
      "\n",
      "[ 8  9 10 11] 2행\n",
      "\n",
      "9 2행 1열\n",
      "\n",
      "[1 5 9] 1열\n",
      "\n",
      "[[ 0  4  8]\n",
      " [ 1  5  9]\n",
      " [ 2  6 10]\n",
      " [ 3  7 11]] 전치\n"
     ]
    }
   ],
   "source": [
    "import numpy as np\n",
    "\n",
    "a = np.arange(12)\n",
    "print(a)\n",
    "print(type(a))\n",
    "print(a.shape, '배열의 차원\\n')\n",
    "a.shape = 3, 4\n",
    "print(a, '\\n')\n",
    "print(a[2], '2행\\n')\n",
    "print(a[2,1], '2행 1열\\n')\n",
    "print(a[:,1], '1열\\n')\n",
    "print(a.transpose(), '전치')"
   ]
  },
  {
   "cell_type": "code",
   "execution_count": 18,
   "metadata": {},
   "outputs": [],
   "source": [
    "with open('test.txt', 'w') as fp:\n",
    "    for i in range(10 ** 5):\n",
    "        fp.write(str(random())+'\\n')"
   ]
  },
  {
   "cell_type": "code",
   "execution_count": 19,
   "metadata": {},
   "outputs": [
    {
     "name": "stdout",
     "output_type": "stream",
     "text": [
      "[0.61825303 0.03756614 0.9927484 ] \n",
      "\n",
      "[0.30912651 0.01878307 0.4963742 ] 개꿀\n",
      "\n"
     ]
    }
   ],
   "source": [
    "floats = np.loadtxt('test.txt', dtype=float)\n",
    "print(floats[-3:], '\\n')\n",
    "floats *= .5\n",
    "print(floats[-3:], '개꿀\\n')"
   ]
  },
  {
   "cell_type": "code",
   "execution_count": 20,
   "metadata": {},
   "outputs": [
    {
     "name": "stdout",
     "output_type": "stream",
     "text": [
      "[1, 2, 3, 4, 5] \n",
      "\n",
      "[2, 4, 6, 8, 10]\n"
     ]
    }
   ],
   "source": [
    "lst = [1,2,3,4,5]\n",
    "print(lst, '\\n')\n",
    "lst = [i*2 for i in lst]\n",
    "print(lst)"
   ]
  },
  {
   "cell_type": "code",
   "execution_count": 21,
   "metadata": {},
   "outputs": [
    {
     "name": "stdout",
     "output_type": "stream",
     "text": [
      "array('b', [1, 2, 3, 4, 5]) \n",
      "\n",
      "array('b', [2, 4, 6, 8, 10])\n"
     ]
    }
   ],
   "source": [
    "arr = array('b', (1,2,3,4,5))\n",
    "print(arr, '\\n')\n",
    "arr = array('b', (i*2 for i in arr))\n",
    "print(arr)"
   ]
  },
  {
   "cell_type": "code",
   "execution_count": 22,
   "metadata": {},
   "outputs": [
    {
     "data": {
      "text/plain": [
       "0.0002450990000006925"
      ]
     },
     "execution_count": 22,
     "metadata": {},
     "output_type": "execute_result"
    }
   ],
   "source": [
    "from time import perf_counter as pc\n",
    "\n",
    "start = pc(); floats /= 3; pc() - start"
   ]
  },
  {
   "cell_type": "code",
   "execution_count": 23,
   "metadata": {},
   "outputs": [],
   "source": [
    "np.save('floats_test', floats)\n",
    "floats2 = np.load('floats_test.npy', 'r+')"
   ]
  },
  {
   "cell_type": "code",
   "execution_count": 25,
   "metadata": {},
   "outputs": [
    {
     "name": "stdout",
     "output_type": "stream",
     "text": [
      "[0.61825303 0.03756614 0.9927484 ]\n"
     ]
    }
   ],
   "source": [
    "floats2 *= 6\n",
    "print(floats2[-3:])"
   ]
  },
  {
   "cell_type": "markdown",
   "metadata": {},
   "source": [
    "`numpy`도 다루려면 책 한 권 분량은 필요하다고 .. 간단하게 살펴본 것이니 더 많은 기능을 공부해 보아요."
   ]
  },
  {
   "attachments": {},
   "cell_type": "markdown",
   "metadata": {},
   "source": [
    "__deque 및 기타 que__\n",
    "\n",
    "`append()`나 `pop()` 메서드를 사용해서 리스트를 스택이나 큐로 사용할 수 있습니다. "
   ]
  },
  {
   "cell_type": "markdown",
   "metadata": {},
   "source": [
    "리스트 왼쪽에 삽입하거나 삭제하는 연산은 전체 리스트를 이동시켜야 하므로 처리 부담이 큽니다. \n",
    "\n",
    "`collections.deque`클래스는 큐의 양쪽 어디에서든 빠르게 삽입 및 삭제할 수 있도록 설계된 thread-safe* 한 양방향 큐입니다. "
   ]
  },
  {
   "cell_type": "markdown",
   "metadata": {},
   "source": [
    "*스레드 안전(thread safety)은 멀티 스레드 프로그래밍에서 일반적으로 어떤 함수나 변수, 혹은 객체가 여러 스레드로부터 동시에 접근이 이루어져도 프로그램의 실행에 문제가 없음을 뜻한다. 보다 엄밀하게는 하나의 함수가 한 스레드로부터 호출되어 실행 중일 때, 다른 스레드가 그 함수를 호출하여 동시에 함께 실행되더라도 각 스레드에서의 함수의 수행 결과가 올바로 나오는 것으로 정의한다."
   ]
  },
  {
   "cell_type": "markdown",
   "metadata": {},
   "source": [
    "덱은 최대 길이를 설정해서 제한된 항목만 유지할 수도 있으므로 덱이 꽉찬 후에는 새로운 항목을 추가할 때 반대쪽 항목을 버립니다."
   ]
  },
  {
   "cell_type": "code",
   "execution_count": 26,
   "metadata": {},
   "outputs": [
    {
     "name": "stdout",
     "output_type": "stream",
     "text": [
      "deque([0, 1, 2, 3, 4, 5, 6, 7, 8, 9], maxlen=10) \n",
      "\n"
     ]
    }
   ],
   "source": [
    "from collections import deque\n",
    "\n",
    "dq = deque(range(10), maxlen=10)\n",
    "print(dq, '\\n')"
   ]
  },
  {
   "cell_type": "code",
   "execution_count": 27,
   "metadata": {},
   "outputs": [
    {
     "name": "stdout",
     "output_type": "stream",
     "text": [
      "deque([7, 8, 9, 0, 1, 2, 3, 4, 5, 6], maxlen=10) \n",
      "\n"
     ]
    }
   ],
   "source": [
    "dq.rotate(3)\n",
    "print(dq, '\\n')"
   ]
  },
  {
   "cell_type": "code",
   "execution_count": 28,
   "metadata": {},
   "outputs": [
    {
     "name": "stdout",
     "output_type": "stream",
     "text": [
      "deque([1, 2, 3, 4, 5, 6, 7, 8, 9, 0], maxlen=10) \n",
      "\n"
     ]
    }
   ],
   "source": [
    "dq.rotate(-4) # 음수를 받으면 왼쪽으로 !\n",
    "print(dq, '\\n')"
   ]
  },
  {
   "cell_type": "code",
   "execution_count": 29,
   "metadata": {},
   "outputs": [
    {
     "name": "stdout",
     "output_type": "stream",
     "text": [
      "deque([-1, 1, 2, 3, 4, 5, 6, 7, 8, 9], maxlen=10) \n",
      "\n"
     ]
    }
   ],
   "source": [
    "dq.appendleft(-1)\n",
    "print(dq, '\\n')"
   ]
  },
  {
   "cell_type": "code",
   "execution_count": 30,
   "metadata": {},
   "outputs": [
    {
     "name": "stdout",
     "output_type": "stream",
     "text": [
      "deque([3, 4, 5, 6, 7, 8, 9, 11, 22, 33], maxlen=10) \n",
      "\n"
     ]
    }
   ],
   "source": [
    "dq.extend([11, 22, 33])\n",
    "print(dq, '\\n')"
   ]
  },
  {
   "cell_type": "code",
   "execution_count": 31,
   "metadata": {},
   "outputs": [
    {
     "name": "stdout",
     "output_type": "stream",
     "text": [
      "deque([40, 30, 20, 10, 3, 4, 5, 6, 7, 8], maxlen=10)\n"
     ]
    }
   ],
   "source": [
    "dq.extendleft([10, 20, 30, 40])\n",
    "print(dq)"
   ]
  },
  {
   "cell_type": "markdown",
   "metadata": {},
   "source": [
    "덱의 숨은 단점 : __중간 항목을 삭제하는 연산은 그리 빠른 편이 아니다 !__\n",
    "\n",
    "양쪽 끝의 연산에 최적화 되어 있기 때문"
   ]
  },
  {
   "cell_type": "markdown",
   "metadata": {},
   "source": [
    "### deque 외의 다른 큐를 구현한 표준 라이브러리\n",
    "\n",
    "__`queue`__\n",
    "\n",
    "`queue`모듈에서는 동기화된 Queue, LifoQueue, PriorityQueue 클래스를 제공합니다. maxsize를 받아 만드는데 덱과 달리 공간이 꽉 찼을 때 버리지 않습니다. 활성화된 스레드 수를 조절하기 좋다.\n",
    "\n",
    "__`multiprocessing`__\n",
    "\n",
    "`queue.Queue`와 비슷하지만 프로세스 간 통신을 지원하기 위해 설계된 고유 Queue 클래스를 제공합니다. \n",
    "\n",
    "__`asyncio`__\n",
    "\n",
    "비동기 프로그래밍 환경에서 작업을 관리하는데 주안점\n",
    "\n",
    "__`heapq`__\n",
    "\n",
    "가변 시퀀스를 힙 큐나 우선순위 큐로 사용할 수 있게 해주는 `heappush()`와 `heappop()` 등의 함수를 제공"
   ]
  },
  {
   "cell_type": "markdown",
   "metadata": {},
   "source": [
    "### 뒷이야기\n",
    "\n",
    "__우아함이 단순함을 낳는다.__\n",
    "\n",
    "`*`구문을 이용해서 병렬 할당을 할 수 있는데, 이 구문은 직관적이며 아름답다고 합니다.. \n",
    "파이썬 3부터는 왼쪽에 사용해서 초과 항목을 받도록 기존에 있던 편리기능을 더욱 발전시켰는데 이처럼 파이썬은 더욱 융통성 있고, 일관되며 단순해집니다. \n",
    "\n",
    "__균일 시퀀스와 컨테이너 시퀀스__\n",
    "\n",
    "'컨테이너'라는 말은 다음 문장에서 왔습니다. \n",
    "\n",
    "_다른 객체에 대한 참조를 담고 있는 객체도 있는데, 이런 객체를 컨테이너라고 합니다._\n",
    "\n",
    "컨테이너 시퀀스는 자기 자신의 자료형 객체를 포함하여 어떤 객체도 담을 수 있으므로 내포된 구조를 가질 수 있습니다. 한편 균일 시퀀스는 내포된 구조를 가질 수 없습니다. 균일 시퀀스는 정수, 실수, 문자 등 원자성 자료형만 담을 수 있기 때문입니다. \n",
    "\n",
    "이처럼 구분하기 위해 균일 시퀀스라는 말을 이용하였고, 균일 시퀀스는 컨테이너가 아닌 시퀀스를 말하게 됩니다. \n",
    "\n",
    "__혼합된 자료형 리스트__\n",
    "\n",
    "리스트에 실제로 여러 자료형의 객체를 담을 수 있지만, 사실 이 기능을 별로 쓸모가 없습니다. 리스트에 항목을 넣는 이유는 나중에 항목을 처리하기 위함인데, 모든 항목이 어떤 연산을 공통적으로 지원해야 하기 때문입니다. \n",
    "\n",
    "리스트와 달리 튜플에는 다른 자료형을 담는 경우가 종종 있습니다. 튜플에 들어 있는 각 항목이 실제로는 하나의 필드며, 각 필드의 형은 서로 독립적이므로, 자연스러운 현상입니다. \n",
    "\n",
    "__key는 훌룡하다__\n",
    "\n",
    "`list.sort(), sorted(), max(), min()`함수의 `key`는 멋진 개념입니다. \n",
    "`key`는 더 간단할 뿐만 아니라 효율적입니다. 정렬 알고리즘의 경우 두 항목을 비교할 때마다 호출되어야 하지만, `key`함수는 항목마다 한 번만 호출되므로 더 효율적이라고 합니다. "
   ]
  },
  {
   "cell_type": "code",
   "execution_count": 32,
   "metadata": {},
   "outputs": [
    {
     "name": "stdout",
     "output_type": "stream",
     "text": [
      "The Zen of Python, by Tim Peters\n",
      "\n",
      "Beautiful is better than ugly.\n",
      "Explicit is better than implicit.\n",
      "Simple is better than complex.\n",
      "Complex is better than complicated.\n",
      "Flat is better than nested.\n",
      "Sparse is better than dense.\n",
      "Readability counts.\n",
      "Special cases aren't special enough to break the rules.\n",
      "Although practicality beats purity.\n",
      "Errors should never pass silently.\n",
      "Unless explicitly silenced.\n",
      "In the face of ambiguity, refuse the temptation to guess.\n",
      "There should be one-- and preferably only one --obvious way to do it.\n",
      "Although that way may not be obvious at first unless you're Dutch.\n",
      "Now is better than never.\n",
      "Although never is often better than *right* now.\n",
      "If the implementation is hard to explain, it's a bad idea.\n",
      "If the implementation is easy to explain, it may be a good idea.\n",
      "Namespaces are one honking great idea -- let's do more of those!\n"
     ]
    }
   ],
   "source": [
    "import this"
   ]
  }
 ],
 "metadata": {
  "kernelspec": {
   "display_name": "Python 3",
   "language": "python",
   "name": "python3"
  },
  "language_info": {
   "codemirror_mode": {
    "name": "ipython",
    "version": 3
   },
   "file_extension": ".py",
   "mimetype": "text/x-python",
   "name": "python",
   "nbconvert_exporter": "python",
   "pygments_lexer": "ipython3",
   "version": "3.7.7"
  }
 },
 "nbformat": 4,
 "nbformat_minor": 4
}

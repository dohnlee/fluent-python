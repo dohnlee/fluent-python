{
 "cells": [
  {
   "cell_type": "code",
   "execution_count": 8,
   "metadata": {},
   "outputs": [],
   "source": [
    "import sys\n",
    "sys.path.append('../codes')"
   ]
  },
  {
   "cell_type": "markdown",
   "metadata": {},
   "source": [
    "# 7. 함수 데커레이터와 클로저\n",
    "\n",
    "__함수 데커레이터__ 는 소스 코드에 있는 함수를 '표시'해서 함수의 작동을 개선할 수 있게 해줍니다. \n",
    "\n",
    "데커레이터를 정확히 알기 위해 다음과 같은 내용을 먼저 알아야 합니다.\n",
    "\n",
    "1. 파이썬이 데커레이터 구문을 평가하는 방식\n",
    "2. 변수가 지역 변수인지 파이썬이 판단하는 방식\n",
    "3. 클로저의 존재 이유와 작동 방식\n",
    "4. nonlocal로 해결할 수 있는 문제\n",
    "\n",
    "이 후에는 다음 주제를 심도 있게 다룰 수 있습니다.\n",
    "\n",
    "1. 잘 작동하는 데커레이터 구현하기\n",
    "2. 표준 라이브러리에서 제공하는 데커레이터\n",
    "3. 매개변수화된 데커레이터 구현하기"
   ]
  },
  {
   "cell_type": "markdown",
   "metadata": {},
   "source": [
    "## 7.1 데커레이터 기본 지식\n",
    "\n",
    "데커레이터는 다른 함수를 인수로 받는 콜러블(데커레이트된 함수)입니다.\n",
    "\n",
    "데커레이터는 데커레이트된 함수에 어떤 처리를 수행하고, 함수를 반환하거나 함수를 다른 함수나 콜러블의 객체로 대체합니다. "
   ]
  },
  {
   "cell_type": "markdown",
   "metadata": {},
   "source": [
    "```\n",
    "#1\n",
    "@decorate\n",
    "def target():\n",
    "    print('running target()')\n",
    "```"
   ]
  },
  {
   "cell_type": "markdown",
   "metadata": {},
   "source": [
    "```\n",
    "#2\n",
    "def target():\n",
    "    print('running target()')  \n",
    "target = decorate(target)\n",
    "```"
   ]
  },
  {
   "cell_type": "markdown",
   "metadata": {},
   "source": [
    "`target()`은 `decorate(target)`이 반환된 함수를 가리키게 됩니다."
   ]
  },
  {
   "cell_type": "code",
   "execution_count": 9,
   "metadata": {},
   "outputs": [
    {
     "name": "stdout",
     "output_type": "stream",
     "text": [
      "running inner()\n"
     ]
    }
   ],
   "source": [
    "## ex 7.1\n",
    "def deco(func):\n",
    "    def inner():\n",
    "        print('running inner()')\n",
    "    return inner\n",
    "\n",
    "@deco\n",
    "def target():\n",
    "    print('running target()')\n",
    "    \n",
    "target()"
   ]
  },
  {
   "cell_type": "code",
   "execution_count": 10,
   "metadata": {},
   "outputs": [
    {
     "data": {
      "text/plain": [
       "<function __main__.deco.<locals>.inner()>"
      ]
     },
     "execution_count": 10,
     "metadata": {},
     "output_type": "execute_result"
    }
   ],
   "source": [
    "target"
   ]
  },
  {
   "cell_type": "markdown",
   "metadata": {},
   "source": [
    "데커레이터는 __편리 구문(syntatic sugar)__ 일 뿐입니다. \n",
    "\n",
    "> __syntatic sugar__\n",
    "-  프로그래밍 언어차원에서 제공되는 논리적으로 간결하게 표현하는 것\n",
    "- 중복되는 로직을 간결하게 표현하기 위함"
   ]
  },
  {
   "cell_type": "markdown",
   "metadata": {},
   "source": [
    "런타임에 프로그램 행위를 변경하는 __메타프로그래밍__ 을 할 때 데커레이터가 상당히 편리합니다.\n",
    "\n",
    ">__런타임__\n",
    "    - 프로그램이 실행되고 있는 동안의 동작\n",
    "__메타프로그래밍__\n",
    "    - 자기 자신 혹은 다른 컴퓨터 프로그램을 데이터로 취급하여 프로그램을 작성-수정"
   ]
  },
  {
   "cell_type": "markdown",
   "metadata": {},
   "source": [
    "1. __데커레이터는 데커레이트된 함수를 다른 함수로 대체__\n",
    "\n",
    "\n",
    "2. __데커레이터는 모듈이 로딩될 때 바로 실행__"
   ]
  },
  {
   "cell_type": "markdown",
   "metadata": {},
   "source": [
    "## 7.2 파이썬이 데커레이터를 실행하는 시점\n",
    "\n",
    "데커레이터는 데커레이트된 함수가 정의된 직후, 즉 모듈을 로딩하는 시점(__임포트 타임__)에 실행됩니다."
   ]
  },
  {
   "cell_type": "code",
   "execution_count": 11,
   "metadata": {},
   "outputs": [
    {
     "name": "stdout",
     "output_type": "stream",
     "text": [
      "running register<function f1 at 0x10de22680>\n",
      "running register<function f2 at 0x10de224d0>\n"
     ]
    }
   ],
   "source": [
    "## ex 7.2\n",
    "registry = []\n",
    "def register(func):\n",
    "    print(f'running register{func}')\n",
    "    registry.append(func)\n",
    "    return func\n",
    "\n",
    "@register\n",
    "def f1():\n",
    "    print('running f1()')\n",
    "    \n",
    "@register\n",
    "def f2():\n",
    "    print('running f2()')\n",
    "    \n",
    "def f3():\n",
    "    print('running f3()')\n",
    "    \n",
    "def main():\n",
    "    print('running main()')\n",
    "    print('register -> ', registry)\n",
    "    f1()\n",
    "    f2()\n",
    "    f3()"
   ]
  },
  {
   "cell_type": "markdown",
   "metadata": {},
   "source": [
    "`register()`가 호출될 때 데커레이트 된 함수를 인수로 받으며 먼저 실행됩니다."
   ]
  },
  {
   "cell_type": "code",
   "execution_count": 12,
   "metadata": {},
   "outputs": [
    {
     "name": "stdout",
     "output_type": "stream",
     "text": [
      "running main()\n",
      "register ->  [<function f1 at 0x10de22680>, <function f2 at 0x10de224d0>]\n",
      "running f1()\n",
      "running f2()\n",
      "running f3()\n"
     ]
    }
   ],
   "source": [
    "main()"
   ]
  },
  {
   "cell_type": "markdown",
   "metadata": {},
   "source": [
    "모듈이 로딩된 후 `registery`는 데커레이트된 두 개의 함수(`f1`, `f2`)에 대한 참조를 가집니다."
   ]
  },
  {
   "cell_type": "code",
   "execution_count": 13,
   "metadata": {},
   "outputs": [
    {
     "name": "stdout",
     "output_type": "stream",
     "text": [
      "running register<function f1 at 0x10decb200>\n",
      "running register<function f2 at 0x10decb440>\n"
     ]
    }
   ],
   "source": [
    "import registration"
   ]
  },
  {
   "cell_type": "code",
   "execution_count": 14,
   "metadata": {},
   "outputs": [
    {
     "data": {
      "text/plain": [
       "[<function registration.f1()>, <function registration.f2()>]"
      ]
     },
     "execution_count": 14,
     "metadata": {},
     "output_type": "execute_result"
    }
   ],
   "source": [
    "registration.registry"
   ]
  },
  {
   "cell_type": "markdown",
   "metadata": {},
   "source": [
    "데커레이터는 모듈이 임포트되자마자 실행되지만, 데커레이트된 함수는 명시적으로 호출될 때만 실행됨을 알 수 있습니다. \n",
    "\n",
    "이는 __임포트 타임__ 과 __런타임__ 의 차이를 명확히 보여줍니다.\n",
    "\n",
    "1. 위 코드는 데커레이터 함수가 데커레이트되는 함수와 같은 모듈에 정의되어 있지만 일반적으로는 __데커레이터를 정의하는 모듈과 데커레이터를 적용하는 모듈을 분리해서 구현합니다.__\n",
    "\n",
    "\n",
    "2. `register()` 데커레이터가 인수로 전달된 함수와 동일한 함수를 반환하지만, 일반적으로는 __데커레이터 내부 함수를 정의해서 반환합니다.__"
   ]
  },
  {
   "cell_type": "markdown",
   "metadata": {},
   "source": [
    "## 7.3 데커레이터로 개선한 전략 패턴"
   ]
  },
  {
   "cell_type": "code",
   "execution_count": 15,
   "metadata": {},
   "outputs": [],
   "source": [
    "## ex 7.3\n",
    "\n",
    "promos = []\n",
    "def promotion(promo_func):\n",
    "    promos.append(promo_func)\n",
    "    return promo_func\n",
    "\n",
    "@promotion\n",
    "def fidelity(order):\n",
    "    '''충성도 포인트가 1000점 이상인 고객에게 전체 5% 할인 적용'''\n",
    "    return order.total() * .05 if order.customer.fidelity >= 1000 else 0\n",
    "\n",
    "@promotion\n",
    "def bulk_item(order):\n",
    "    '''20개 이상의 동일 상품을 구입하면 10% 할인 적용'''\n",
    "    discount = 0\n",
    "    for item in order.cart:\n",
    "        if item.qunatity >= 20:\n",
    "            discount += item.total() * .1\n",
    "    return discount\n",
    "\n",
    "@promotion\n",
    "def large_order(order):\n",
    "    '''10종류 이상의 상품을 구입하면 전체 7% 할인 적용'''\n",
    "    discount_items = {item.product for item in order.cart}\n",
    "    if len(discount_items) >= 10:\n",
    "        return order.total() * .07\n",
    "    return 0\n",
    "\n",
    "def best_promo(order):\n",
    "    '''최대로 할인받을 금액을 반환한다.'''\n",
    "    return max(promo(order) for promo in promos)"
   ]
  },
  {
   "cell_type": "markdown",
   "metadata": {},
   "source": [
    "1. 프로모션 전략 함수명이 특별한 형태로 되어 있을 필요 없습니다. \n",
    "2. `@promotion` 데커레이터는 데커레이트된 함수의 목적을 명확히 알려주며, 임시로 어떤 프로모션을 배제할 수 있습니다. 단지 데커레이터만 주석처리하면 됩니다.\n",
    "3. 프로모션 할인 전략을 구현한 함수는 `@promotion` 데커레이터가 적용되는 한 어느 모듈에서든 정의할 수 있습니다. \n",
    "\n",
    "데코레이트된 함수가 아닌 내부 함수를 사용하는 코드는 제대로 작동하기 위해 거의 항상 __클로저__에 의존합니다. "
   ]
  },
  {
   "cell_type": "markdown",
   "metadata": {},
   "source": [
    "## 7.4 변수 범위 규칙"
   ]
  },
  {
   "cell_type": "code",
   "execution_count": 16,
   "metadata": {},
   "outputs": [
    {
     "name": "stdout",
     "output_type": "stream",
     "text": [
      "3\n"
     ]
    },
    {
     "ename": "NameError",
     "evalue": "name 'b' is not defined",
     "output_type": "error",
     "traceback": [
      "\u001b[0;31m---------------------------------------------------------------------------\u001b[0m",
      "\u001b[0;31mNameError\u001b[0m                                 Traceback (most recent call last)",
      "\u001b[0;32m<ipython-input-16-5102640f7e2d>\u001b[0m in \u001b[0;36m<module>\u001b[0;34m\u001b[0m\n\u001b[1;32m      4\u001b[0m     \u001b[0mprint\u001b[0m\u001b[0;34m(\u001b[0m\u001b[0mb\u001b[0m\u001b[0;34m)\u001b[0m\u001b[0;34m\u001b[0m\u001b[0;34m\u001b[0m\u001b[0m\n\u001b[1;32m      5\u001b[0m \u001b[0;34m\u001b[0m\u001b[0m\n\u001b[0;32m----> 6\u001b[0;31m \u001b[0mf1\u001b[0m\u001b[0;34m(\u001b[0m\u001b[0;36m3\u001b[0m\u001b[0;34m)\u001b[0m\u001b[0;34m\u001b[0m\u001b[0;34m\u001b[0m\u001b[0m\n\u001b[0m",
      "\u001b[0;32m<ipython-input-16-5102640f7e2d>\u001b[0m in \u001b[0;36mf1\u001b[0;34m(a)\u001b[0m\n\u001b[1;32m      2\u001b[0m \u001b[0;32mdef\u001b[0m \u001b[0mf1\u001b[0m\u001b[0;34m(\u001b[0m\u001b[0ma\u001b[0m\u001b[0;34m)\u001b[0m\u001b[0;34m:\u001b[0m\u001b[0;34m\u001b[0m\u001b[0;34m\u001b[0m\u001b[0m\n\u001b[1;32m      3\u001b[0m     \u001b[0mprint\u001b[0m\u001b[0;34m(\u001b[0m\u001b[0ma\u001b[0m\u001b[0;34m)\u001b[0m\u001b[0;34m\u001b[0m\u001b[0;34m\u001b[0m\u001b[0m\n\u001b[0;32m----> 4\u001b[0;31m     \u001b[0mprint\u001b[0m\u001b[0;34m(\u001b[0m\u001b[0mb\u001b[0m\u001b[0;34m)\u001b[0m\u001b[0;34m\u001b[0m\u001b[0;34m\u001b[0m\u001b[0m\n\u001b[0m\u001b[1;32m      5\u001b[0m \u001b[0;34m\u001b[0m\u001b[0m\n\u001b[1;32m      6\u001b[0m \u001b[0mf1\u001b[0m\u001b[0;34m(\u001b[0m\u001b[0;36m3\u001b[0m\u001b[0;34m)\u001b[0m\u001b[0;34m\u001b[0m\u001b[0;34m\u001b[0m\u001b[0m\n",
      "\u001b[0;31mNameError\u001b[0m: name 'b' is not defined"
     ]
    }
   ],
   "source": [
    "## ex 7.4\n",
    "def f1(a):\n",
    "    print(a)\n",
    "    print(b)\n",
    "    \n",
    "f1(3)"
   ]
  },
  {
   "cell_type": "code",
   "execution_count": 17,
   "metadata": {},
   "outputs": [
    {
     "name": "stdout",
     "output_type": "stream",
     "text": [
      "3\n",
      "6\n"
     ]
    }
   ],
   "source": [
    "b = 6\n",
    "f1(3)"
   ]
  },
  {
   "cell_type": "code",
   "execution_count": 18,
   "metadata": {},
   "outputs": [
    {
     "name": "stdout",
     "output_type": "stream",
     "text": [
      "3\n"
     ]
    },
    {
     "ename": "UnboundLocalError",
     "evalue": "local variable 'b' referenced before assignment",
     "output_type": "error",
     "traceback": [
      "\u001b[0;31m---------------------------------------------------------------------------\u001b[0m",
      "\u001b[0;31mUnboundLocalError\u001b[0m                         Traceback (most recent call last)",
      "\u001b[0;32m<ipython-input-18-60530fe35243>\u001b[0m in \u001b[0;36m<module>\u001b[0;34m\u001b[0m\n\u001b[1;32m      6\u001b[0m     \u001b[0mb\u001b[0m \u001b[0;34m=\u001b[0m \u001b[0;36m9\u001b[0m\u001b[0;34m\u001b[0m\u001b[0;34m\u001b[0m\u001b[0m\n\u001b[1;32m      7\u001b[0m \u001b[0;34m\u001b[0m\u001b[0m\n\u001b[0;32m----> 8\u001b[0;31m \u001b[0mf2\u001b[0m\u001b[0;34m(\u001b[0m\u001b[0;36m3\u001b[0m\u001b[0;34m)\u001b[0m\u001b[0;34m\u001b[0m\u001b[0;34m\u001b[0m\u001b[0m\n\u001b[0m",
      "\u001b[0;32m<ipython-input-18-60530fe35243>\u001b[0m in \u001b[0;36mf2\u001b[0;34m(a)\u001b[0m\n\u001b[1;32m      3\u001b[0m \u001b[0;32mdef\u001b[0m \u001b[0mf2\u001b[0m\u001b[0;34m(\u001b[0m\u001b[0ma\u001b[0m\u001b[0;34m)\u001b[0m\u001b[0;34m:\u001b[0m\u001b[0;34m\u001b[0m\u001b[0;34m\u001b[0m\u001b[0m\n\u001b[1;32m      4\u001b[0m     \u001b[0mprint\u001b[0m\u001b[0;34m(\u001b[0m\u001b[0ma\u001b[0m\u001b[0;34m)\u001b[0m\u001b[0;34m\u001b[0m\u001b[0;34m\u001b[0m\u001b[0m\n\u001b[0;32m----> 5\u001b[0;31m     \u001b[0mprint\u001b[0m\u001b[0;34m(\u001b[0m\u001b[0mb\u001b[0m\u001b[0;34m)\u001b[0m\u001b[0;34m\u001b[0m\u001b[0;34m\u001b[0m\u001b[0m\n\u001b[0m\u001b[1;32m      6\u001b[0m     \u001b[0mb\u001b[0m \u001b[0;34m=\u001b[0m \u001b[0;36m9\u001b[0m\u001b[0;34m\u001b[0m\u001b[0;34m\u001b[0m\u001b[0m\n\u001b[1;32m      7\u001b[0m \u001b[0;34m\u001b[0m\u001b[0m\n",
      "\u001b[0;31mUnboundLocalError\u001b[0m: local variable 'b' referenced before assignment"
     ]
    }
   ],
   "source": [
    "## ex 7.5\n",
    "b = 6\n",
    "def f2(a):\n",
    "    print(a)\n",
    "    print(b)\n",
    "    b = 9\n",
    "\n",
    "f2(3)"
   ]
  },
  {
   "cell_type": "markdown",
   "metadata": {},
   "source": [
    "파이썬이 함수 본체를 컴파일할 때 `b`가 함수 안에서 할당되므로 `b`를 지역 변수로 판단합니다. \n",
    "\n",
    "함수 안에 할당하는 문장이 있지만 인터프리터가 `b`를 전역 변수로 다루기 원한다면, 다음과 같이 `global` 키워드를 이용해서 선언해야 합니다."
   ]
  },
  {
   "cell_type": "code",
   "execution_count": 19,
   "metadata": {},
   "outputs": [
    {
     "name": "stdout",
     "output_type": "stream",
     "text": [
      "3\n",
      "6\n"
     ]
    }
   ],
   "source": [
    "b = 6\n",
    "def f3(a):\n",
    "    global b\n",
    "    print(a)\n",
    "    print(b)\n",
    "    b = 9\n",
    "    \n",
    "f3(3)"
   ]
  },
  {
   "cell_type": "code",
   "execution_count": 20,
   "metadata": {},
   "outputs": [
    {
     "data": {
      "text/plain": [
       "9"
      ]
     },
     "execution_count": 20,
     "metadata": {},
     "output_type": "execute_result"
    }
   ],
   "source": [
    "b"
   ]
  },
  {
   "cell_type": "code",
   "execution_count": 21,
   "metadata": {},
   "outputs": [
    {
     "name": "stdout",
     "output_type": "stream",
     "text": [
      "3\n",
      "9\n"
     ]
    }
   ],
   "source": [
    "f3(3)"
   ]
  },
  {
   "cell_type": "code",
   "execution_count": 22,
   "metadata": {},
   "outputs": [
    {
     "name": "stdout",
     "output_type": "stream",
     "text": [
      "3\n",
      "30\n"
     ]
    },
    {
     "data": {
      "text/plain": [
       "(30, None)"
      ]
     },
     "execution_count": 22,
     "metadata": {},
     "output_type": "execute_result"
    }
   ],
   "source": [
    "b = 30\n",
    "b, f3(3)"
   ]
  },
  {
   "cell_type": "markdown",
   "metadata": {},
   "source": [
    "## 7.5 클로저\n",
    "\n",
    "클로저는 내포된 함수 안에서만 의미가 있지만 익명함수와는 다른 개념입니다.\n",
    "\n",
    "클로저는 __함수 본체에서 정의하지 않고 참조하는 비전역 변수를 포함한 확장 범위를 가진 함수__입니다. 함수가 익명 함수인지 여부는 중요하지 않습니다. __함수 본체 외부에 정의된 비전역 변수에 접근할 수 있다는 것이 중요합니다.__"
   ]
  },
  {
   "cell_type": "code",
   "execution_count": 23,
   "metadata": {},
   "outputs": [],
   "source": [
    "## ex 7.8\n",
    "class Average():\n",
    "    def __init__(self):\n",
    "        self.series = []\n",
    "        \n",
    "    def __call__(self, new_value):\n",
    "        self.series.append(new_value)\n",
    "        total = sum(self.series)\n",
    "        return total/len(self.series)"
   ]
  },
  {
   "cell_type": "code",
   "execution_count": 24,
   "metadata": {},
   "outputs": [
    {
     "data": {
      "text/plain": [
       "10.0"
      ]
     },
     "execution_count": 24,
     "metadata": {},
     "output_type": "execute_result"
    }
   ],
   "source": [
    "avg = Average()\n",
    "avg(10)"
   ]
  },
  {
   "cell_type": "code",
   "execution_count": 25,
   "metadata": {},
   "outputs": [
    {
     "data": {
      "text/plain": [
       "10.5"
      ]
     },
     "execution_count": 25,
     "metadata": {},
     "output_type": "execute_result"
    }
   ],
   "source": [
    "avg(11)"
   ]
  },
  {
   "cell_type": "code",
   "execution_count": 26,
   "metadata": {},
   "outputs": [
    {
     "data": {
      "text/plain": [
       "11.0"
      ]
     },
     "execution_count": 26,
     "metadata": {},
     "output_type": "execute_result"
    }
   ],
   "source": [
    "avg(12)"
   ]
  },
  {
   "cell_type": "markdown",
   "metadata": {},
   "source": [
    "함수는 호출되면 `average()` 함수 객체를 반환합니다. `average()` 함수는 호출될 때마다 받은 인수를 `series` 리스트에 추가하고 현재까지의 평균을 계산해서 출력합니다.\n",
    "\n",
    "`ex 7.8`을 보면 클래스로 생성된 객체가 데이터를 보관하는 방법은 명확히 알 수 있습니다. `self.series` 객체 속성에 저장되기 때문입니다. "
   ]
  },
  {
   "cell_type": "code",
   "execution_count": 27,
   "metadata": {},
   "outputs": [],
   "source": [
    "## ex 7.9\n",
    "def make_averager():\n",
    "    series = []\n",
    "    \n",
    "    def averager(new_value):\n",
    "        series.append(new_value)\n",
    "        total = sum(series)\n",
    "        return total/len(series)\n",
    "    \n",
    "    return averager"
   ]
  },
  {
   "cell_type": "code",
   "execution_count": 28,
   "metadata": {},
   "outputs": [
    {
     "data": {
      "text/plain": [
       "10.0"
      ]
     },
     "execution_count": 28,
     "metadata": {},
     "output_type": "execute_result"
    }
   ],
   "source": [
    "avg = make_averager()\n",
    "avg(10)"
   ]
  },
  {
   "cell_type": "code",
   "execution_count": 29,
   "metadata": {},
   "outputs": [
    {
     "data": {
      "text/plain": [
       "10.5"
      ]
     },
     "execution_count": 29,
     "metadata": {},
     "output_type": "execute_result"
    }
   ],
   "source": [
    "avg(11)"
   ]
  },
  {
   "cell_type": "code",
   "execution_count": 30,
   "metadata": {},
   "outputs": [
    {
     "data": {
      "text/plain": [
       "11.0"
      ]
     },
     "execution_count": 30,
     "metadata": {},
     "output_type": "execute_result"
    }
   ],
   "source": [
    "avg(12)"
   ]
  },
  {
   "cell_type": "markdown",
   "metadata": {},
   "source": [
    "하지만 `ex 7.9`을 보면 `series`를 어디서 찾을까요 ?\n",
    "\n",
    "`make_average()` 함수 본체 안에서 `series = []`로 초기화하고 있으므로 `series`는 이 함수의 지역 변수입니다. `avg(10)`을 호출할 때, `make_averager()`함수는 이미 반환했으므로 지역 범위도 이미 사라진 후입니다. \n",
    "\n",
    "그 후 `average` 안에 있는 `series`는 __자유 변수(free variable)__입니다. 자유 변수란 __지역 범위에 바인딩되어 있지 않은 변수를 의미합니다.__ "
   ]
  },
  {
   "cell_type": "markdown",
   "metadata": {},
   "source": [
    "![ex7.1](../images/7_1.png)"
   ]
  },
  {
   "cell_type": "markdown",
   "metadata": {},
   "source": [
    "> __바인딩__\n",
    "    - 변수에 변수와 관련된 속성을 연관시키는 것"
   ]
  },
  {
   "cell_type": "markdown",
   "metadata": {},
   "source": [
    "반환된 `averager()`객체를 조사해보면 파이썬이 컴파일된 함수 본체를 나타내는 `__code__`속성 안에 어떻게 지역 변수와 자유 변수의 '이름'을 저장하는지 알 수 있습니다."
   ]
  },
  {
   "cell_type": "code",
   "execution_count": 31,
   "metadata": {},
   "outputs": [
    {
     "data": {
      "text/plain": [
       "('new_value', 'total')"
      ]
     },
     "execution_count": 31,
     "metadata": {},
     "output_type": "execute_result"
    }
   ],
   "source": [
    "avg.__code__.co_varnames"
   ]
  },
  {
   "cell_type": "code",
   "execution_count": 32,
   "metadata": {},
   "outputs": [
    {
     "data": {
      "text/plain": [
       "('series',)"
      ]
     },
     "execution_count": 32,
     "metadata": {},
     "output_type": "execute_result"
    }
   ],
   "source": [
    "avg.__code__.co_freevars"
   ]
  },
  {
   "cell_type": "markdown",
   "metadata": {},
   "source": [
    "`series`에 대한 바인딩은 반환된 `avg()`함수의 `__closure__` 속성에 저장됩니다."
   ]
  },
  {
   "cell_type": "code",
   "execution_count": 33,
   "metadata": {},
   "outputs": [
    {
     "data": {
      "text/plain": [
       "(<cell at 0x10ddfebd0: list object at 0x10dd4ed70>,)"
      ]
     },
     "execution_count": 33,
     "metadata": {},
     "output_type": "execute_result"
    }
   ],
   "source": [
    "avg.__closure__"
   ]
  },
  {
   "cell_type": "markdown",
   "metadata": {},
   "source": [
    "이는 `avg.__code__.co_freevars`의 이름에 대응됩니다.\n",
    "\n",
    "이 항목은 cell 객체이며 이 객체의 항목은 `cell_contents`속성에서 찾을 수 있습니다."
   ]
  },
  {
   "cell_type": "code",
   "execution_count": 34,
   "metadata": {},
   "outputs": [
    {
     "data": {
      "text/plain": [
       "[10, 11, 12]"
      ]
     },
     "execution_count": 34,
     "metadata": {},
     "output_type": "execute_result"
    }
   ],
   "source": [
    "avg.__closure__[0].cell_contents"
   ]
  },
  {
   "cell_type": "markdown",
   "metadata": {},
   "source": [
    "> __cell 객체__\n",
    "    - 《셀》 객체는 여러 스코프에서 참조하는 변수를 구현하는 데 사용됩니다. 이러한 변수마다, 값을 저장하기 위해 셀 객체가 만들어집니다; 값을 참조하는 각 스택 프레임의 지역 변수에는 해당 변수를 사용하는 외부 스코프의 셀에 대한 참조가 포함됩니다. 값에 액세스하면, 셀 객체 자체 대신 셀에 포함된 값이 사용됩니다. 이러한 셀 객체의 역참조(de-referencing)는 생성된 바이트 코드로부터의 지원이 필요합니다; 액세스 시 자동으로 역참조되지 않습니다. 셀 객체는 다른 곳에 유용하지는 않습니다."
   ]
  },
  {
   "cell_type": "markdown",
   "metadata": {},
   "source": [
    "1. __클로저는 함수를 정의할 때 존재하던 자유 변수에 대한 바인딩을 유지하는 함수__\n",
    "\n",
    "\n",
    "2. __함수를 정의하는 범위가 사라진 후에 함수를 호출해도 자유 변수에 접근 가능__\n",
    "\n",
    "\n",
    "3. __함수가 '비전역' 외부 변수를 다루는 경우는 그 함수가 다른 함수 안에서 정의된 경우 뿐이라는 점에 주의__"
   ]
  },
  {
   "cell_type": "markdown",
   "metadata": {},
   "source": [
    "## 7.6 nonlocal 선언"
   ]
  },
  {
   "cell_type": "code",
   "execution_count": 35,
   "metadata": {},
   "outputs": [],
   "source": [
    "## ex 7.13\n",
    "def make_averager():\n",
    "    count = 0\n",
    "    total = 0\n",
    "    \n",
    "    def averager(new_value):\n",
    "        count += 1\n",
    "        total += new_value\n",
    "        return total/count\n",
    "    return averager"
   ]
  },
  {
   "cell_type": "code",
   "execution_count": 36,
   "metadata": {},
   "outputs": [],
   "source": [
    "avg = make_averager()"
   ]
  },
  {
   "cell_type": "code",
   "execution_count": 37,
   "metadata": {},
   "outputs": [
    {
     "ename": "UnboundLocalError",
     "evalue": "local variable 'count' referenced before assignment",
     "output_type": "error",
     "traceback": [
      "\u001b[0;31m---------------------------------------------------------------------------\u001b[0m",
      "\u001b[0;31mUnboundLocalError\u001b[0m                         Traceback (most recent call last)",
      "\u001b[0;32m<ipython-input-37-ace390caaa2e>\u001b[0m in \u001b[0;36m<module>\u001b[0;34m\u001b[0m\n\u001b[0;32m----> 1\u001b[0;31m \u001b[0mavg\u001b[0m\u001b[0;34m(\u001b[0m\u001b[0;36m10\u001b[0m\u001b[0;34m)\u001b[0m\u001b[0;34m\u001b[0m\u001b[0;34m\u001b[0m\u001b[0m\n\u001b[0m",
      "\u001b[0;32m<ipython-input-35-3f1935171147>\u001b[0m in \u001b[0;36maverager\u001b[0;34m(new_value)\u001b[0m\n\u001b[1;32m      5\u001b[0m \u001b[0;34m\u001b[0m\u001b[0m\n\u001b[1;32m      6\u001b[0m     \u001b[0;32mdef\u001b[0m \u001b[0maverager\u001b[0m\u001b[0;34m(\u001b[0m\u001b[0mnew_value\u001b[0m\u001b[0;34m)\u001b[0m\u001b[0;34m:\u001b[0m\u001b[0;34m\u001b[0m\u001b[0;34m\u001b[0m\u001b[0m\n\u001b[0;32m----> 7\u001b[0;31m         \u001b[0mcount\u001b[0m \u001b[0;34m+=\u001b[0m \u001b[0;36m1\u001b[0m\u001b[0;34m\u001b[0m\u001b[0;34m\u001b[0m\u001b[0m\n\u001b[0m\u001b[1;32m      8\u001b[0m         \u001b[0mtotal\u001b[0m \u001b[0;34m+=\u001b[0m \u001b[0mnew_value\u001b[0m\u001b[0;34m\u001b[0m\u001b[0;34m\u001b[0m\u001b[0m\n\u001b[1;32m      9\u001b[0m         \u001b[0;32mreturn\u001b[0m \u001b[0mtotal\u001b[0m\u001b[0;34m/\u001b[0m\u001b[0mcount\u001b[0m\u001b[0;34m\u001b[0m\u001b[0;34m\u001b[0m\u001b[0m\n",
      "\u001b[0;31mUnboundLocalError\u001b[0m: local variable 'count' referenced before assignment"
     ]
    }
   ],
   "source": [
    "avg(10)"
   ]
  },
  {
   "cell_type": "markdown",
   "metadata": {},
   "source": [
    "`count += 1` 은 `count = count + 1`을 의미하는데 `averager` 본체 안에서 `count` 변수에 할당하고 있기 때문에 `count`를 지역 변수로 만들어서 에러가 발생합니다.\n",
    "\n",
    "앞선 예제에서는 `series`를 변수에 할당하지 않기 때문에 아무런 문제도 발생하지 않았습니다.\n",
    "\n",
    "하지만 숫자, 문자열, 튜플 등 불변형은 읽을 수만 있고 값을 갱신할 수 없으므로 재할당을 하면서 `count`라는 지역 변수를 생성하게 되고 자유 변수가 아니게 되므로 클로저에 저장되지 않습니다."
   ]
  },
  {
   "cell_type": "code",
   "execution_count": 38,
   "metadata": {},
   "outputs": [],
   "source": [
    "## ex 7.14\n",
    "def make_averager():\n",
    "    count = 0\n",
    "    total = 0\n",
    "    def averager(new_value):\n",
    "        nonlocal count, total\n",
    "        count += 1\n",
    "        total += new_value\n",
    "        return total/count\n",
    "    return averager"
   ]
  },
  {
   "cell_type": "code",
   "execution_count": 39,
   "metadata": {},
   "outputs": [],
   "source": [
    "avg = make_averager()"
   ]
  },
  {
   "cell_type": "code",
   "execution_count": 40,
   "metadata": {},
   "outputs": [
    {
     "data": {
      "text/plain": [
       "10.0"
      ]
     },
     "execution_count": 40,
     "metadata": {},
     "output_type": "execute_result"
    }
   ],
   "source": [
    "avg(10)"
   ]
  },
  {
   "cell_type": "code",
   "execution_count": 41,
   "metadata": {},
   "outputs": [
    {
     "data": {
      "text/plain": [
       "10.5"
      ]
     },
     "execution_count": 41,
     "metadata": {},
     "output_type": "execute_result"
    }
   ],
   "source": [
    "avg(11)"
   ]
  },
  {
   "cell_type": "code",
   "execution_count": 42,
   "metadata": {},
   "outputs": [
    {
     "data": {
      "text/plain": [
       "11.0"
      ]
     },
     "execution_count": 42,
     "metadata": {},
     "output_type": "execute_result"
    }
   ],
   "source": [
    "avg(12)"
   ]
  },
  {
   "cell_type": "markdown",
   "metadata": {},
   "source": [
    "이를 해결하기 위해선 `nonlocal` 선언을 해주면 됩니다. 변수를 `nonlocal` 선언하면, 함수 안에서 재할당을 하더라도 그 변수는 자유변수로 남아있을 수 있습니다.\n",
    "\n",
    "새로운 값을 nonlocal 변수에 할당하면 클로저에 저장된 바인딩이 변경됩니다."
   ]
  },
  {
   "cell_type": "code",
   "execution_count": 43,
   "metadata": {},
   "outputs": [
    {
     "data": {
      "text/plain": [
       "('count', 'total')"
      ]
     },
     "execution_count": 43,
     "metadata": {},
     "output_type": "execute_result"
    }
   ],
   "source": [
    "avg.__code__.co_freevars"
   ]
  },
  {
   "cell_type": "markdown",
   "metadata": {},
   "source": [
    "## 7.7 간단한 데커레이터 구현하기"
   ]
  },
  {
   "cell_type": "code",
   "execution_count": 44,
   "metadata": {},
   "outputs": [
    {
     "name": "stdout",
     "output_type": "stream",
     "text": [
      "import time\r\n",
      "\r\n",
      "def clock(func):\r\n",
      "    def clocked(*args, **kwargs):\r\n",
      "        t0 = time.perf_counter()\r\n",
      "        result = func(*args)\r\n",
      "        elapsed = time.perf_counter() - t0\r\n",
      "        name = func.__name__\r\n",
      "        arg_str = ', '.join(repr(arg) for arg in args)\r\n",
      "        print('[%0.8fs] %s(%s) -> %r' % (elapsed,\r\n",
      "                                         name,\r\n",
      "                                         arg_str,\r\n",
      "                                         result))\r\n",
      "        return result\r\n",
      "    return clocked\r\n"
     ]
    }
   ],
   "source": [
    "! cat ../codes/clockdeco.py"
   ]
  },
  {
   "cell_type": "code",
   "execution_count": 45,
   "metadata": {},
   "outputs": [
    {
     "name": "stdout",
     "output_type": "stream",
     "text": [
      "import time\r\n",
      "from clockdeco import clock\r\n",
      "\r\n",
      "@clock\r\n",
      "def snooze(seconds):\r\n",
      "    time.sleep(seconds)\r\n",
      "    \r\n",
      "@clock\r\n",
      "def factorial(n):\r\n",
      "    return 1 if n < 2 else n*factorial(n-1)\r\n",
      "\r\n",
      "if __name__ == '__main__':\r\n",
      "    print('*'*40, 'Calling snooze(.123)')\r\n",
      "    snooze(.123)\r\n",
      "    print('*'*40, 'Calling factorial(6)')\r\n",
      "    print(' 6! = ', factorial(6))\r\n"
     ]
    }
   ],
   "source": [
    "! cat ../codes/clockdeco_demo.py"
   ]
  },
  {
   "cell_type": "code",
   "execution_count": 46,
   "metadata": {},
   "outputs": [
    {
     "name": "stdout",
     "output_type": "stream",
     "text": [
      "**************************************** Calling snooze(.123)\n",
      "[0.12340668s] snooze(0.123) -> None\n",
      "**************************************** Calling factorial(6)\n",
      "[0.00000180s] factorial(1) -> 1\n",
      "[0.00017545s] factorial(2) -> 2\n",
      "[0.00019098s] factorial(3) -> 6\n",
      "[0.00020355s] factorial(4) -> 24\n",
      "[0.00021607s] factorial(5) -> 120\n",
      "[0.00023125s] factorial(6) -> 720\n",
      " 6! =  720\n"
     ]
    }
   ],
   "source": [
    "! python3 ../codes/clockdeco_demo.py"
   ]
  },
  {
   "cell_type": "markdown",
   "metadata": {},
   "source": [
    "파이썬 인터프리터가 내부적으로 `clocked()`를 `factorial`에 할당했습니다. "
   ]
  },
  {
   "cell_type": "code",
   "execution_count": 47,
   "metadata": {},
   "outputs": [
    {
     "data": {
      "text/plain": [
       "'clocked'"
      ]
     },
     "execution_count": 47,
     "metadata": {},
     "output_type": "execute_result"
    }
   ],
   "source": [
    "import clockdeco_demo\n",
    "clockdeco_demo.factorial.__name__"
   ]
  },
  {
   "cell_type": "markdown",
   "metadata": {},
   "source": [
    "하지만 위 예제는 몇 가지 단점이 존재합니다. 키워드 인수를 지원하지 않고, 데커레이트된 함수의 `__name__`, `__doc__`를 씹습니다. \n",
    "\n",
    "`functools.wraps()`데커레이트드를 이용해서 `func`에서 `clocked`로 관련된 속성을 복사합니다. "
   ]
  },
  {
   "cell_type": "code",
   "execution_count": 48,
   "metadata": {},
   "outputs": [
    {
     "name": "stdout",
     "output_type": "stream",
     "text": [
      "import time\r\n",
      "import functools\r\n",
      "\r\n",
      "def clock(func):\r\n",
      "    @functools.wraps(func)\r\n",
      "    def clocked(*args, **kwargs):\r\n",
      "        t0 = time.perf_counter()\r\n",
      "        result = func(*args)\r\n",
      "        elapsed = time.perf_counter() - t0\r\n",
      "        name = func.__name__\r\n",
      "        arg_lst = []\r\n",
      "        if args:\r\n",
      "            arg_lst.append(', '.join(repr(arg) for arg in args))\r\n",
      "        if kwargs:\r\n",
      "            pairs = ['%s=%r' % (k,w) for k,w in sorted(kwargs.items())]\r\n",
      "            arg_lst.append(', '.join(pairs))\r\n",
      "        arg_str = ', '.join(arg_lst)\r\n",
      "        print('[%0.8fs] %s(%s) -> %r' % (elapsed,\r\n",
      "                                         name,\r\n",
      "                                         arg_str,\r\n",
      "                                         result))\r\n",
      "        return result\r\n",
      "    return clocked\r\n"
     ]
    }
   ],
   "source": [
    "! cat ../codes/clockdeco2.py"
   ]
  },
  {
   "cell_type": "code",
   "execution_count": 49,
   "metadata": {},
   "outputs": [
    {
     "data": {
      "text/plain": [
       "'factorial'"
      ]
     },
     "execution_count": 49,
     "metadata": {},
     "output_type": "execute_result"
    }
   ],
   "source": [
    "from clockdeco2 import clock\n",
    "\n",
    "@clock\n",
    "def factorial(n):\n",
    "    return 1 if n < 2 else n*factorial(n-1)\n",
    "\n",
    "factorial.__name__"
   ]
  }
 ],
 "metadata": {
  "kernelspec": {
   "display_name": "Python 3",
   "language": "python",
   "name": "python3"
  },
  "language_info": {
   "codemirror_mode": {
    "name": "ipython",
    "version": 3
   },
   "file_extension": ".py",
   "mimetype": "text/x-python",
   "name": "python",
   "nbconvert_exporter": "python",
   "pygments_lexer": "ipython3",
   "version": "3.7.6"
  }
 },
 "nbformat": 4,
 "nbformat_minor": 4
}

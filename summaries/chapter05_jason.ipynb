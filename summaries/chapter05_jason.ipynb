{
 "cells": [
  {
   "cell_type": "markdown",
   "metadata": {},
   "source": [
    "# 일급 함수\n",
    "- 런타임에 생성\n",
    "- 변수나 자료구조의 원소에 할당됨(객체로 취급됨)\n",
    "- 함수의 인자로 넘겨질 수 있음\n",
    "- 함수의 리턴 값으로 사용할 수 있음\n",
    "\n",
    "### 함수는 오브젝트!"
   ]
  },
  {
   "cell_type": "code",
   "execution_count": 1,
   "metadata": {},
   "outputs": [
    {
     "name": "stdout",
     "output_type": "stream",
     "text": [
      "1405006117752879898543142606244511569936384000000000\n",
      "returns n!\n",
      "<class 'function'>\n"
     ]
    }
   ],
   "source": [
    "def factorial(n):\n",
    "    '''returns n!'''\n",
    "    return 1 if n <2 else n* factorial(n-1)\n",
    "print(factorial(42))\n",
    "print(factorial.__doc__)\n",
    "print(type(factorial))"
   ]
  },
  {
   "cell_type": "markdown",
   "metadata": {},
   "source": [
    "마지막 줄을 보면 `factorial()`은 `function` class의 인스턴스임을 알 수 있다.\n",
    "# 고차 함수\n",
    "고차함수는 아래의 두 가지 조건을 만족하는 함수이다.\n",
    "\n",
    "- 함수의 인자로 사용되거나\n",
    "- 함수의 리턴값으로 사용됨\n",
    "\n",
    "ex)`map`, `sorted`, `filter`, `reduce`\n",
    "\n",
    "`map`, `filter`, `reduce`는 `listcomp`와 `genexp`로 대체된다. 기능은 대체하면서, 더 읽기 편하다. (2-1 참고)"
   ]
  },
  {
   "cell_type": "markdown",
   "metadata": {},
   "source": [
    "# 익명 함수\n",
    "`lambda` 키워드는 익명 함수를 생성하는 키워드이다. `lambda`는 할당을 만들거나, `while`, `try` 등의 문에서 사용할 수 없다. 익명 함수를 가장 잘 쓰는 방법은 인자 목록의 context에서 사용하는 것이다.\n",
    "Example)\n",
    "``` python\n",
    "sorted(fruits, key=lambda word: word[::-1])\n",
    "```"
   ]
  },
  {
   "cell_type": "markdown",
   "metadata": {},
   "source": [
    "# The seven flavors of callable objects\n",
    "1. User-defined functions\n",
    "2. Built-in functions\n",
    "3. Built-in methods\n",
    "4. Methods\n",
    "5. Classes\n",
    "6. Class instances\n",
    "7. Generator functions\n",
    "\n",
    "Python에서 주어진 객체가 callable인지 알아보는 가장 안전한 방법은 `callable()`에 넣어보는 것이다. True나 False를 return한다."
   ]
  },
  {
   "cell_type": "markdown",
   "metadata": {},
   "source": [
    "## 사용자 정의 callable types"
   ]
  },
  {
   "cell_type": "code",
   "execution_count": 2,
   "metadata": {},
   "outputs": [
    {
     "data": {
      "text/plain": [
       "2"
      ]
     },
     "execution_count": 2,
     "metadata": {},
     "output_type": "execute_result"
    }
   ],
   "source": [
    "import random\n",
    "\n",
    "class BingoCage:\n",
    "    \n",
    "    def __init__(self, items):\n",
    "        self._items = list(items)\n",
    "        random.shuffle(self._items)\n",
    "        \n",
    "    def pick(self):\n",
    "        try:\n",
    "            return self._items.pop()\n",
    "        except IndexError:\n",
    "            raise LookupError('pick from empty BingoCage')\n",
    "            \n",
    "    def __call__(self):\n",
    "        return self.pick()\n",
    "    \n",
    "bingo = BingoCage(range(3))\n",
    "bingo()"
   ]
  },
  {
   "cell_type": "markdown",
   "metadata": {},
   "source": [
    "마지막 줄을 보면 인스턴스가 callable한 것을 볼 수 있다. `__call__`을 구현하는 클래스는 `BingoCage`에 남아있는 아이템처럼 호출들로부터 보존되야 할 내부 상태를 가지고 있는 함수 같은 객체를 생성하는 쉬운 방법이다. (`__call__`을 쓰라는 말)"
   ]
  },
  {
   "cell_type": "markdown",
   "metadata": {},
   "source": [
    "## 함수 뜯어보기(?)\n",
    "`dir`을 사용하면 객체에 들어있는 속성들을 볼 수 있다."
   ]
  },
  {
   "cell_type": "code",
   "execution_count": 5,
   "metadata": {},
   "outputs": [
    {
     "data": {
      "text/plain": [
       "['__annotations__',\n",
       " '__call__',\n",
       " '__closure__',\n",
       " '__code__',\n",
       " '__defaults__',\n",
       " '__get__',\n",
       " '__globals__',\n",
       " '__kwdefaults__',\n",
       " '__name__',\n",
       " '__qualname__']"
      ]
     },
     "execution_count": 5,
     "metadata": {},
     "output_type": "execute_result"
    }
   ],
   "source": [
    "class C: pass\n",
    "obj = C()\n",
    "def func(): pass\n",
    "sorted(set(dir(func)) - set(dir(obj)))"
   ]
  },
  {
   "cell_type": "markdown",
   "metadata": {},
   "source": [
    "결과를 확인하면 함수 객체와 일반 사용자 정의 객체와 다른 속성들을 확인할 수 있다. 이에 대한 설명은 표 5-1에 간략히 기술되어 있고, 이 중에서 `__defaults__`, `__code__`, `__annotations__`을 더 살펴본다."
   ]
  },
  {
   "cell_type": "markdown",
   "metadata": {},
   "source": [
    "## 위치 인자에서 키워드 인자로\n",
    "이 부분은 다른 예제로 대체합니다."
   ]
  },
  {
   "cell_type": "code",
   "execution_count": 6,
   "metadata": {},
   "outputs": [
    {
     "name": "stdout",
     "output_type": "stream",
     "text": [
      "a= 11\n",
      "args= ()\n",
      "kwargs= {}\n",
      "a= 11\n",
      "args= (22, 33)\n",
      "kwargs= {}\n",
      "a= 11\n",
      "args= (22, 33)\n",
      "kwargs= {'b': 44, 'c': 55}\n"
     ]
    }
   ],
   "source": [
    "def f(a, *args, **kwargs):\n",
    "    print('a=', a)\n",
    "    print('args=',args)\n",
    "    print('kwargs=',kwargs)\n",
    "    \n",
    "f(11)\n",
    "f(11,22,33)\n",
    "f(11,22,33,b=44, c=55)"
   ]
  },
  {
   "cell_type": "markdown",
   "metadata": {},
   "source": [
    "위치 인자부터 순서대로 들어간다. 만약 뒤에 인자가 더 주어진다면 `*args`가 `tuple` 형태로 받아간다. 정의에서 없는 속성값을 넣을 경우 `**kwargs`가 `dict` 형태로 받아간다. 책에 나온 `cls`는 그래서 키워드 인자 강제로만 받을 수 있다고 한 것(keyword-only parameter) \\*가 붙은 인자 뒤에 인자를 키워드 인자를 정의하게 되면 키워드 인자 강제가 된다."
   ]
  },
  {
   "cell_type": "markdown",
   "metadata": {},
   "source": [
    "# 매개 변수에 대한 정보 검색\n",
    "`Bobo`가 어떻게 매개 변수에 대한 정보를 찾아낼까?  \n",
    "함수 객체에는 `__defaults__`가 있다. 여기에는 위치 인자와 키워드 인자의 기본값이 튜플로 저장되어 있다. 키워드 전용 인자는 `__kwdefaults__`에서 보인다. 하지만 인자의 이름은 자체 속성이 많은 code 객체를 참조하고 있는 `__code__`에서 찾을 수 있다."
   ]
  },
  {
   "cell_type": "code",
   "execution_count": 10,
   "metadata": {},
   "outputs": [
    {
     "name": "stdout",
     "output_type": "stream",
     "text": [
      "(80,)\n",
      "<code object clip at 0x7f024593bc00, file \"<ipython-input-10-7c01d158dcd6>\", line 1>\n",
      "('text', 'max_len', 'end', 'space_before', 'space_after')\n",
      "2\n"
     ]
    }
   ],
   "source": [
    "def clip(text, max_len=80):\n",
    "    \"\"\"Return text clipped at the last space before or after max_len\n",
    "    \"\"\"\n",
    "    end = None\n",
    "    if len(text) > max_len:\n",
    "        space_before = text.rfind(' ', 0, max_len)\n",
    "        if space_before >= 0:\n",
    "            end = space_before\n",
    "        else:\n",
    "            space_after = text.rfind(' ', max_len)\n",
    "            if space_after >= 0:\n",
    "                end = space_after\n",
    "    if end is None: # no spaces were found\n",
    "        end = len(text)\n",
    "    return text[:end].rstrip()\n",
    "\n",
    "print(clip.__defaults__)\n",
    "print(clip.__code__)\n",
    "print(clip.__code__.co_varnames)\n",
    "print(clip.__code__.co_argcount)"
   ]
  },
  {
   "cell_type": "markdown",
   "metadata": {},
   "source": [
    "문제점1: \\*나 \\*\\*가 붙은 변수는 포함하지 않음.  \n",
    "문제점2: default value의 수와 변수의 수가 맞지 않을 경우는?"
   ]
  },
  {
   "cell_type": "code",
   "execution_count": 14,
   "metadata": {},
   "outputs": [
    {
     "data": {
      "text/plain": [
       "<Signature (text, max_len=80)>"
      ]
     },
     "execution_count": 14,
     "metadata": {},
     "output_type": "execute_result"
    }
   ],
   "source": [
    "from inspect import signature\n",
    "sig = signature(clip)\n",
    "sig"
   ]
  },
  {
   "cell_type": "code",
   "execution_count": 15,
   "metadata": {},
   "outputs": [
    {
     "data": {
      "text/plain": [
       "'(text, max_len=80)'"
      ]
     },
     "execution_count": 15,
     "metadata": {},
     "output_type": "execute_result"
    }
   ],
   "source": [
    "str(sig)"
   ]
  },
  {
   "cell_type": "code",
   "execution_count": 17,
   "metadata": {},
   "outputs": [
    {
     "name": "stdout",
     "output_type": "stream",
     "text": [
      "POSITIONAL_OR_KEYWORD : text = <class 'inspect._empty'>\n",
      "POSITIONAL_OR_KEYWORD : max_len = 80\n"
     ]
    }
   ],
   "source": [
    "for name, param in sig.parameters.items():\n",
    "    print(param.kind, ':', name, '=', param.default)"
   ]
  },
  {
   "cell_type": "markdown",
   "metadata": {},
   "source": [
    "`kind`는 다섯개의 값 중 하나를 가질 수 있다.\n",
    " 1. POSITIONAL_OR_KEYWORD : 위치 인자이거나, 키워드 인자\n",
    " 2. VAR_POSITIONAL: 위치 인자 tuple\n",
    " 3. VAR_KEYWORD: 키워드 인자 dict\n",
    " 4. KEYWORD_ONLY: 키워드 인자 강제\n",
    " 5. POSITIONAL_ONLY: 위치 인자 강제\n",
    " \n",
    "`inspect.Signature` 객체는 `bind` 메소드를 가지는데, 간단하게 말하면 `bind` 메소드는 인자들을 받아서 `signature`에 있는 함수들과 묶는다."
   ]
  },
  {
   "cell_type": "markdown",
   "metadata": {},
   "source": [
    "# 함수 주석\n",
    "Python 3는 메타데이터를 매개 변수나, 리턴값에 연결하는 구문을 제공한다.\n",
    "``` python\n",
    "def clip(text:str, max_len:'int > 0'=80) -> str:\n",
    "```\n",
    "주석의 위치에 주목하자. 기본값이 있을 때의 위치, 없을 때의 위치.  \n",
    "`-> str`은 리턴값의 type을 의미한다. 이것들은 `__annotations__`에 저장된다."
   ]
  },
  {
   "cell_type": "markdown",
   "metadata": {},
   "source": [
    "# 함수형 프로그래밍을 위한 패키지\n",
    "## operator 모듈"
   ]
  },
  {
   "cell_type": "code",
   "execution_count": 22,
   "metadata": {},
   "outputs": [
    {
     "name": "stdout",
     "output_type": "stream",
     "text": [
      "3628800 3628800\n"
     ]
    }
   ],
   "source": [
    "from functools import reduce\n",
    "from operator import mul\n",
    "\n",
    "def fact1(n):\n",
    "    return reduce(lambda a, b: a*b, range(1, n+1))\n",
    "\n",
    "def fact2(n):\n",
    "    return reduce(mul, range(1, n+1))\n",
    "\n",
    "print(fact1(10), fact2(10))"
   ]
  },
  {
   "cell_type": "markdown",
   "metadata": {},
   "source": [
    "### itemgetter, attrgetter"
   ]
  },
  {
   "cell_type": "code",
   "execution_count": 23,
   "metadata": {},
   "outputs": [
    {
     "name": "stdout",
     "output_type": "stream",
     "text": [
      "('Sao Paulo', 'BR', 19.649, (-23.547778, -46.635833))\n",
      "('Delhi NCR', 'IN', 21.935, (28.613889, 77.208889))\n",
      "('Tokyo', 'JP', 36.933, (35.689722, 139.691667))\n",
      "('Mexico City', 'MX', 20.142, (19.433333, -99.133333))\n",
      "('New York-Newark', 'US', 20.104, (40.808611, -74.020386))\n",
      "('JP', 'Tokyo')\n",
      "('IN', 'Delhi NCR')\n",
      "('MX', 'Mexico City')\n",
      "('US', 'New York-Newark')\n",
      "('BR', 'Sao Paulo')\n"
     ]
    }
   ],
   "source": [
    "metro_data = [\n",
    "    ('Tokyo', 'JP', 36.933, (35.689722, 139.691667)),\n",
    "    ('Delhi NCR', 'IN', 21.935, (28.613889, 77.208889)),\n",
    "    ('Mexico City', 'MX', 20.142, (19.433333, -99.133333)),\n",
    "    ('New York-Newark', 'US', 20.104, (40.808611, -74.020386)),\n",
    "    ('Sao Paulo', 'BR', 19.649, (-23.547778, -46.635833)),\n",
    "]\n",
    "from operator import itemgetter\n",
    "for city in sorted(metro_data, key=itemgetter(1)):\n",
    "    print(city)\n",
    "    \n",
    "cc_name = itemgetter(1, 0)\n",
    "for city in metro_data:\n",
    "    print(cc_name(city))"
   ]
  },
  {
   "cell_type": "markdown",
   "metadata": {},
   "source": [
    "위의 결과처럼 여러개의 인자를 전달하면 추출된 값을 `tuple`로 리턴한다. `itemgetter`는 [] 연산자를 사용해서 시퀀스 뿐만 아니라 `__getitem__`이 구현된 매핑과 클래스에도 사용할 수 있다.  \n",
    "\n",
    "`itemgetter`과 비슷한 `attrgetter`는 객체의 속성을 이름으로 추출하여 `tuple`로 반환한다. 인자에 .(dot)을 사용하면 중첩된 객체를 navigating한다. "
   ]
  },
  {
   "cell_type": "code",
   "execution_count": 24,
   "metadata": {},
   "outputs": [
    {
     "data": {
      "text/plain": [
       "Metropolis(name='Tokyo', cc='JP', pop=36.933, coord=LatLong(lat=35.689722, long=139.691667))"
      ]
     },
     "execution_count": 24,
     "metadata": {},
     "output_type": "execute_result"
    }
   ],
   "source": [
    "from collections import namedtuple\n",
    "LatLong = namedtuple('LatLong', 'lat long')\n",
    "Metropolis = namedtuple('Metropolis', 'name cc pop coord')\n",
    "metro_areas = [Metropolis(name, cc, pop, LatLong(lat, long))\n",
    "               for name, cc, pop, (lat, long) in metro_data]\n",
    "metro_areas[0]"
   ]
  },
  {
   "cell_type": "code",
   "execution_count": 25,
   "metadata": {},
   "outputs": [
    {
     "data": {
      "text/plain": [
       "35.689722"
      ]
     },
     "execution_count": 25,
     "metadata": {},
     "output_type": "execute_result"
    }
   ],
   "source": [
    "metro_areas[0].coord.lat"
   ]
  },
  {
   "cell_type": "code",
   "execution_count": 26,
   "metadata": {},
   "outputs": [
    {
     "name": "stdout",
     "output_type": "stream",
     "text": [
      "('Sao Paulo', -23.547778)\n",
      "('Mexico City', 19.433333)\n",
      "('Delhi NCR', 28.613889)\n",
      "('Tokyo', 35.689722)\n",
      "('New York-Newark', 40.808611)\n"
     ]
    }
   ],
   "source": [
    "from operator import attrgetter\n",
    "name_lat = attrgetter('name', 'coord.lat')\n",
    "for city in sorted(metro_areas, key= attrgetter('coord.lat')):\n",
    "    print(name_lat(city))"
   ]
  },
  {
   "cell_type": "code",
   "execution_count": 29,
   "metadata": {},
   "outputs": [
    {
     "name": "stdout",
     "output_type": "stream",
     "text": [
      "['abs', 'add', 'and_', 'attrgetter', 'concat', 'contains', 'countOf', 'delitem', 'eq', 'floordiv', 'ge', 'getitem', 'gt', 'iadd', 'iand', 'iconcat', 'ifloordiv', 'ilshift', 'imatmul', 'imod', 'imul', 'index', 'indexOf', 'inv', 'invert', 'ior', 'ipow', 'irshift', 'is_', 'is_not', 'isub', 'itemgetter', 'itruediv', 'ixor', 'le', 'length_hint', 'lshift', 'lt', 'matmul', 'methodcaller', 'mod', 'mul', 'ne', 'neg', 'not_', 'or_', 'pos', 'pow', 'rshift', 'setitem', 'sub', 'truediv', 'truth', 'xor']\n"
     ]
    }
   ],
   "source": [
    "import operator\n",
    "print([name for name in dir(operator) if not name.startswith('_')])"
   ]
  },
  {
   "cell_type": "markdown",
   "metadata": {},
   "source": [
    "앞에 i가 붙은 것들은 in-place 연산을 의미하고 immutable 할 경우, fallback으로 i가 붙지 않은 함수로 작동한다. (Chap.2-1 참고)\n",
    "### methodcaller\n",
    "`methodcaller`는 메소드의 이름으로 메소드를 호출한다."
   ]
  },
  {
   "cell_type": "code",
   "execution_count": 30,
   "metadata": {},
   "outputs": [
    {
     "data": {
      "text/plain": [
       "'THE TIME HAS COME'"
      ]
     },
     "execution_count": 30,
     "metadata": {},
     "output_type": "execute_result"
    }
   ],
   "source": [
    "from operator import methodcaller\n",
    "s = 'The time has come'\n",
    "upcase = methodcaller('upper')\n",
    "upcase(s)"
   ]
  },
  {
   "cell_type": "code",
   "execution_count": 31,
   "metadata": {},
   "outputs": [
    {
     "data": {
      "text/plain": [
       "'The-time-has-come'"
      ]
     },
     "execution_count": 31,
     "metadata": {},
     "output_type": "execute_result"
    }
   ],
   "source": [
    "hiphenate = methodcaller('replace', ' ', '-')\n",
    "hiphenate(s)"
   ]
  },
  {
   "cell_type": "markdown",
   "metadata": {},
   "source": [
    "두번째 예시를 보면 `methodcaller`가 인자를 가지고 있는 것을 볼 수 있다. \n",
    "### functools.partial으로 인자 고정하기"
   ]
  },
  {
   "cell_type": "code",
   "execution_count": 36,
   "metadata": {},
   "outputs": [
    {
     "name": "stdout",
     "output_type": "stream",
     "text": [
      "21\n",
      "[3, 6, 9, 12, 15, 18, 21, 24, 27]\n"
     ]
    }
   ],
   "source": [
    "from operator import mul\n",
    "from functools import partial\n",
    "triple = partial(mul, 3)\n",
    "print(triple(7))\n",
    "print(list(map(triple, range(1, 10))))"
   ]
  },
  {
   "cell_type": "code",
   "execution_count": 34,
   "metadata": {},
   "outputs": [
    {
     "name": "stdout",
     "output_type": "stream",
     "text": [
      "café café\n",
      "False\n",
      "True\n"
     ]
    }
   ],
   "source": [
    "import unicodedata, functools\n",
    "nfc = functools.partial(unicodedata.normalize, 'NFC')\n",
    "s1 = 'café'\n",
    "s2 = 'cafe\\u0301'\n",
    "print(s1, s2)\n",
    "print(s1 == s2)\n",
    "print(nfc(s1) == nfc(s2))"
   ]
  },
  {
   "cell_type": "code",
   "execution_count": null,
   "metadata": {},
   "outputs": [],
   "source": []
  }
 ],
 "metadata": {
  "kernelspec": {
   "display_name": "Python 3",
   "language": "python",
   "name": "python3"
  },
  "language_info": {
   "codemirror_mode": {
    "name": "ipython",
    "version": 3
   },
   "file_extension": ".py",
   "mimetype": "text/x-python",
   "name": "python",
   "nbconvert_exporter": "python",
   "pygments_lexer": "ipython3",
   "version": "3.6.9"
  }
 },
 "nbformat": 4,
 "nbformat_minor": 4
}

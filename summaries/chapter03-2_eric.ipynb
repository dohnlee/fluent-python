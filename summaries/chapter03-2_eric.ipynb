{
 "cells": [
  {
   "cell_type": "markdown",
   "metadata": {},
   "source": [
    "## 3.8 집합 이론\n",
    "\n",
    "- 파이썬에서 비교적 최근에 추가\n",
    "- set형과 set의 immutable 버전인 frozenset은 파이썬 2.3에 모듈로 처음 등장, 2.6에서 내장형으로 승격\n",
    "- 책에서 `집합`은 __set과 frozenset__을 모두 가리킨다. set 클래스를 구체적으로 명시할 때는 `set`으로 표기\n",
    "- 집합은 고유한 객체의 모음으로, 기본적으로 __중복 항목__을 제거한다."
   ]
  },
  {
   "cell_type": "code",
   "execution_count": 3,
   "metadata": {},
   "outputs": [
    {
     "name": "stdout",
     "output_type": "stream",
     "text": [
      "{'spam', 'eggs'}\n",
      "['spam', 'eggs']\n"
     ]
    }
   ],
   "source": [
    "l = [\"spam\", \"spam\", \"eggs\", \"spam\"]\n",
    "print(set(l))\n",
    "print(list(set(l)))\n",
    "# 과다한 스팸들이 날아감"
   ]
  },
  {
   "cell_type": "markdown",
   "metadata": {},
   "source": [
    "- 집합 요소는 반드시 hashable\n",
    "- set은 hashable이 아니지만 frozenset은 hashable"
   ]
  },
  {
   "cell_type": "code",
   "execution_count": 5,
   "metadata": {},
   "outputs": [
    {
     "ename": "TypeError",
     "evalue": "unhashable type: 'list'",
     "output_type": "error",
     "traceback": [
      "\u001b[1;31m---------------------------------------------------------------------------\u001b[0m",
      "\u001b[1;31mTypeError\u001b[0m                                 Traceback (most recent call last)",
      "\u001b[1;32m<ipython-input-5-e9b9d93146f7>\u001b[0m in \u001b[0;36m<module>\u001b[1;34m\u001b[0m\n\u001b[0;32m      1\u001b[0m \u001b[0ml\u001b[0m \u001b[1;33m=\u001b[0m \u001b[1;33m[\u001b[0m\u001b[1;34m\"spam\"\u001b[0m\u001b[1;33m,\u001b[0m \u001b[1;34m\"spam\"\u001b[0m\u001b[1;33m,\u001b[0m \u001b[1;33m[\u001b[0m\u001b[1;34m\"delicious\"\u001b[0m\u001b[1;33m]\u001b[0m\u001b[1;33m]\u001b[0m\u001b[1;33m\u001b[0m\u001b[1;33m\u001b[0m\u001b[0m\n\u001b[1;32m----> 2\u001b[1;33m \u001b[0mset\u001b[0m\u001b[1;33m(\u001b[0m\u001b[0ml\u001b[0m\u001b[1;33m)\u001b[0m\u001b[1;33m\u001b[0m\u001b[1;33m\u001b[0m\u001b[0m\n\u001b[0m",
      "\u001b[1;31mTypeError\u001b[0m: unhashable type: 'list'"
     ]
    }
   ],
   "source": [
    "l = [\"spam\", \"spam\", [\"delicious\"]]\n",
    "set(l)\n",
    "# list는 안됨"
   ]
  },
  {
   "cell_type": "code",
   "execution_count": 6,
   "metadata": {},
   "outputs": [
    {
     "ename": "TypeError",
     "evalue": "unhashable type: 'set'",
     "output_type": "error",
     "traceback": [
      "\u001b[1;31m---------------------------------------------------------------------------\u001b[0m",
      "\u001b[1;31mTypeError\u001b[0m                                 Traceback (most recent call last)",
      "\u001b[1;32m<ipython-input-6-041394a2facd>\u001b[0m in \u001b[0;36m<module>\u001b[1;34m\u001b[0m\n\u001b[0;32m      1\u001b[0m \u001b[0ml\u001b[0m \u001b[1;33m=\u001b[0m \u001b[1;33m[\u001b[0m\u001b[1;34m\"spam\"\u001b[0m\u001b[1;33m,\u001b[0m \u001b[1;34m\"spam\"\u001b[0m\u001b[1;33m,\u001b[0m \u001b[1;33m{\u001b[0m\u001b[1;34m\"delicious\"\u001b[0m\u001b[1;33m}\u001b[0m\u001b[1;33m]\u001b[0m\u001b[1;33m\u001b[0m\u001b[1;33m\u001b[0m\u001b[0m\n\u001b[1;32m----> 2\u001b[1;33m \u001b[0mset\u001b[0m\u001b[1;33m(\u001b[0m\u001b[0ml\u001b[0m\u001b[1;33m)\u001b[0m\u001b[1;33m\u001b[0m\u001b[1;33m\u001b[0m\u001b[0m\n\u001b[0m\u001b[0;32m      3\u001b[0m \u001b[1;31m# list는 안됨\u001b[0m\u001b[1;33m\u001b[0m\u001b[1;33m\u001b[0m\u001b[1;33m\u001b[0m\u001b[0m\n",
      "\u001b[1;31mTypeError\u001b[0m: unhashable type: 'set'"
     ]
    }
   ],
   "source": [
    "l = [\"spam\", \"spam\", {\"delicious\"}]\n",
    "set(l)\n",
    "# set도 안됨"
   ]
  },
  {
   "cell_type": "code",
   "execution_count": 2,
   "metadata": {},
   "outputs": [
    {
     "data": {
      "text/plain": [
       "{frozenset({'c', 'd', 'e', 'i', 'l', 'o', 's', 'u'}), 'spam'}"
      ]
     },
     "execution_count": 2,
     "metadata": {},
     "output_type": "execute_result"
    }
   ],
   "source": [
    "l = [\"spam\", \"spam\", frozenset(\"delicious\")]\n",
    "set(l)\n",
    "# frozenset"
   ]
  },
  {
   "cell_type": "markdown",
   "metadata": {},
   "source": [
    "- 고유함을 보장하느 것 외에 집합형은 중위 연산자를 이용해서 기본적인 집합 연산을 구현\n",
    "- 두 개의 집합 a, b. `a | b`는 합집합, `a & b`는 교집합, `a - b`는 차집합\n",
    "- 집합 연산을 잘 이용하면 프로그램의 소스 코드 크기와 실행 시간을 줄일 수 있고, 루프나 조건절이 없어지므로 코드의 가독성이 높아진다.\n",
    "    - ex)\n",
    "    - 이메일 주소가 들어있는 큰 집합 `haystack`, 몇 가지 이메일 주소가 들어있는 작은 집합 `needles`\n",
    "    - needles에 들어있는 이메일 중 몇개가 haystack에도 들어있다고 가정.\n",
    "    - 교집합(&) 연산자를 이용하면 ex 3-10 과 같이 간단하게 코딩 가능"
   ]
  },
  {
   "cell_type": "code",
   "execution_count": 12,
   "metadata": {},
   "outputs": [],
   "source": [
    "import timeit"
   ]
  },
  {
   "cell_type": "code",
   "execution_count": 13,
   "metadata": {},
   "outputs": [
    {
     "name": "stdout",
     "output_type": "stream",
     "text": [
      "2\n",
      "0.00012200000014672696\n"
     ]
    }
   ],
   "source": [
    "# ex 3-10 haystack 안에서 needles 항목 수 구하기\n",
    "needles = {\"eric@corona.com\", \"joel@corona.com\", \"luna@corona.com\"}\n",
    "haystack = {\"eric@corona.com\", \"jason@corona.com\", \"luna@corona.com\", \"jinny@corona.com\"}\n",
    "\n",
    "start = timeit.default_timer()\n",
    "\n",
    "found = len(needles & haystack)\n",
    "print(found)    #eric과 luna\n",
    "\n",
    "stop = timeit.default_timer()\n",
    "print(stop - start)"
   ]
  },
  {
   "cell_type": "code",
   "execution_count": 14,
   "metadata": {},
   "outputs": [
    {
     "name": "stdout",
     "output_type": "stream",
     "text": [
      "2\n",
      "0.00025870000013128447\n"
     ]
    }
   ],
   "source": [
    "# ex 3-11 교집합 연산자를 사용하지 않았을 때\n",
    "start = timeit.default_timer()\n",
    "\n",
    "found = 0\n",
    "for n in needles:\n",
    "    if n in haystack:\n",
    "        found += 1\n",
    "print(found)\n",
    "\n",
    "stop = timeit.default_timer()\n",
    "print(stop - start)"
   ]
  },
  {
   "cell_type": "markdown",
   "metadata": {},
   "source": [
    "- 집합 연산이 약간 더 빠르다.\n",
    "- `ex 3-10`의 코드는 두 객체가 모두 집합이어야 가능한 반면\n",
    "- `ex 3-11`은 needles와 haystack이 반복 가능형이면 어느 객체든 사용 가능.\n",
    "- 두 객체가 집합형이 아니더라도 다음과 같이 즉석에서 집합으로 만들 수 있다."
   ]
  },
  {
   "cell_type": "code",
   "execution_count": 15,
   "metadata": {},
   "outputs": [
    {
     "name": "stdout",
     "output_type": "stream",
     "text": [
      "2\n",
      "0.00014490000012301607\n"
     ]
    }
   ],
   "source": [
    "# ex 3-12 즉석 집합\n",
    "start = timeit.default_timer()\n",
    "\n",
    "found = len(set(needles) & set(haystack))\n",
    "print(found)    #eric과 luna\n",
    "\n",
    "stop = timeit.default_timer()\n",
    "print(stop - start)"
   ]
  },
  {
   "cell_type": "code",
   "execution_count": 16,
   "metadata": {},
   "outputs": [
    {
     "name": "stdout",
     "output_type": "stream",
     "text": [
      "2\n",
      "0.00013800000010633084\n"
     ]
    }
   ],
   "source": [
    "# ex 3-12 즉석 집합\n",
    "# 다른 방법\n",
    "start = timeit.default_timer()\n",
    "\n",
    "found = len(set(needles).intersection(haystack))\n",
    "print(found)    #eric과 luna\n",
    "\n",
    "stop = timeit.default_timer()\n",
    "print(stop - start)"
   ]
  },
  {
   "cell_type": "markdown",
   "metadata": {},
   "source": [
    "- 물론 집합을 만드는 추가 비용 발생\n",
    "- needles나 haystack 중 하나라도 이미 집합형이라면 `ex 3-11`보다 빨리 실행 될 것이다.\n",
    "\n",
    "- 앞의 모든 예제 모두 10,000,000개의 항목을 가진 haystack안에서 1,000개의 항목을 3ms 안에 검색 가능하다.\n",
    "- 즉 항목 하나당 3us 정도.\n",
    "- 내부 해시 테이블 덕분에 집합 안에 속해있는지 여부를 아주 빨리 검색할 수 있다.\n",
    "- 그 외에도 set과 frozenset 내장 자료형을 생성하거나, set의 경우 기존 항목을 변경하는 다양한 연산을 제공한다.\n",
    "- 다음 절에서 알아보자"
   ]
  },
  {
   "cell_type": "markdown",
   "metadata": {},
   "source": [
    "## 3.8.1 집합 리터럴 (literal)\n",
    "\n",
    "- literal : 소스 코드의 고정된 값을 대표하는 용어. 변하지 않는 데이터. 변수의 값이 변하지 않는 데이터.\n",
    "- constane : 변하지 않는 변수.\n",
    "> https://mommoo.tistory.com/14\n",
    "\n",
    "- {1}, {1,2} 등 집합 리터럴에 대한 구문은 수학적 표기법과 동일\n",
    "- 공집합은 리터럴로 표기할 수 없으므로, 반드시 `set()`으로 표기해야 한다\n",
    "- `{}`를 사용하면 빈 `dict`가 된다.\n",
    "- 파이썬 3에서는 공집합 이외의 집합을 표준 문자열로 표현하기 위해 `{}`구문을 사용한다."
   ]
  },
  {
   "cell_type": "code",
   "execution_count": 17,
   "metadata": {},
   "outputs": [
    {
     "name": "stdout",
     "output_type": "stream",
     "text": [
      "type:  <class 'set'>\n",
      "s:  {1}\n",
      "s.pop():  1\n",
      "s:  set()\n"
     ]
    }
   ],
   "source": [
    "s = {1}\n",
    "print(\"type: \", type(s))\n",
    "print(\"s: \", s)\n",
    "print(\"s.pop(): \", s.pop())\n",
    "print(\"s: \", s)"
   ]
  },
  {
   "cell_type": "markdown",
   "metadata": {},
   "source": [
    "- {1,2,3}과 같은 리터럴 집합 구문은 set([1,2,3])처럼 생성자를 호출하는 것보다 빠르고 가독성이 좋다.\n",
    "- 생성자를 명시적으로 호출하는 경우\n",
    "    1. 생성자를 가져오기 위해 집합명을 검색\n",
    "    1. 리스트를 생성\n",
    "    1. 리스트를 생성자에 전달\n",
    "- {1,2,3}같은 리터럴 집합 구문을 사용하는 경우\n",
    "    1. __BUILD_SET__이라는 특수 바이트코드를 실행\n",
    "- 디스어셈블러 함수인 dis.dis()를 이용해서 두 개의 연산에 대한 바이트코드를 살펴보자."
   ]
  },
  {
   "cell_type": "code",
   "execution_count": 18,
   "metadata": {},
   "outputs": [
    {
     "name": "stdout",
     "output_type": "stream",
     "text": [
      "  1           0 LOAD_CONST               0 (1)\n",
      "              2 BUILD_SET                1\n",
      "              4 RETURN_VALUE\n"
     ]
    }
   ],
   "source": [
    "from dis import dis\n",
    "dis(\"{1}\")"
   ]
  },
  {
   "cell_type": "markdown",
   "metadata": {},
   "source": [
    "1. 리터럴 표현식 {1}에 대한 바이트코드로 디스어셈블한다.\n",
    "1. BUILD_SET 특수 바이트코드가 거의 모든 일을 처리"
   ]
  },
  {
   "cell_type": "code",
   "execution_count": 22,
   "metadata": {},
   "outputs": [
    {
     "name": "stdout",
     "output_type": "stream",
     "text": [
      "  1           0 LOAD_NAME                0 (set)\n",
      "              2 LOAD_CONST               0 (1)\n",
      "              4 BUILD_LIST               1\n",
      "              6 CALL_FUNCTION            1\n",
      "              8 RETURN_VALUE\n"
     ]
    }
   ],
   "source": [
    "dis(\"set([1])\")"
   ]
  },
  {
   "cell_type": "markdown",
   "metadata": {},
   "source": [
    "1. 생성자 set([1])에 대한 바이트코드로 디스어셈블한다.\n",
    "1. BUILD_SET 대신 LOAD_NAME, BUILD_LIST, CALL_FUNCTION, 총 3개의 연산 수행"
   ]
  },
  {
   "cell_type": "markdown",
   "metadata": {},
   "source": [
    "- frozenset에 대한 별도의 리터럴 구문은 없음.\n",
    "- 언제난 생성자를 호출해서 생성해야 한다.\n",
    "- 파이썬3에서의 표준 문자열 표현을 frozenset 생성자를 호출하는 모습과 동일하다"
   ]
  },
  {
   "cell_type": "code",
   "execution_count": 23,
   "metadata": {},
   "outputs": [
    {
     "data": {
      "text/plain": [
       "frozenset({0, 1, 2, 3, 4, 5, 6, 7, 8, 9})"
      ]
     },
     "execution_count": 23,
     "metadata": {},
     "output_type": "execute_result"
    }
   ],
   "source": [
    "frozenset(range(10))"
   ]
  },
  {
   "cell_type": "markdown",
   "metadata": {},
   "source": [
    "## 3.8.2 set comprehension (setcomp)\n",
    "\n",
    "- dictcomp와 함께 파이썬 2.7에서 추가"
   ]
  },
  {
   "cell_type": "code",
   "execution_count": 29,
   "metadata": {},
   "outputs": [
    {
     "name": "stdout",
     "output_type": "stream",
     "text": [
      "{'y', '?', 'O', 'e', '8', 'L', 'Ö', 'Ú', 'à', 'û', 'ñ', '¸', 'x', '~', 'ë', '¹', '\\xa0', '[', '®', 'U', '4', '\\x83', 'W', 'È', 'æ', '(', 'Ç', 'É', 'M', '\\x88', '@', ' ', 'Q', '\\x9e', 'ö', 'è', '\\x97', 'â', '&', 'Ý', 'ã', '=', 'Ò', '\\x96', 'Í', '/', 'u', 'ª', '+', 'Ó', 'ê', '\\x82', \"'\", '\\x8a', 'P', ';', '}', 'A', '¯', 'í', 'Ì', '|', 'ù', 'm', '\\x8d', 'K', '\\x89', '¼', '0', 'G', 'N', 'J', 'Ø', '5', '\\x8b', '7', '\\x9d', '³', 'ÿ', '´', 'k', '\\x9b', 'i', '¿', 'õ', '¡', 'ß', '§', 'Ã', 'å', 'Ñ', 'B', 'g', 'ý', 'V', 'z', 'T', 'Z', '6', 't', '{', '_', '\\x92', 'Õ', 'º', 'Ë', 'p', '\"', '¶', 'o', 'l', '3', 'Ä', 'Á', '$', 'v', 'b', '\\x9a', '¬', '2', '-', '÷', ')', '.', 'ä', 'I', 'Å', '`', '²', 'Ü', '\\x84', '1', 'C', 'î', 'ô', 'Â', '»', 'ï', '«', '¢', 'a', 'w', 'X', 'ø', '¥', '\\x90', '£', 'Ï', 'Û', 'Y', '©', ',', '±', '×', '!', 'S', '¦', '\\x8e', '\\x80', 'ç', 'Þ', 'ó', '\\x98', '\\x99', 'D', 'n', 'f', '\\x8f', 'Ô', 'r', 'µ', 'ì', 'j', 'H', '\\x85', 's', 'ð', '\\x91', '<', '\\x9f', 'Ê', 'ò', 'ú', '>', '*', '¨', '\\x95', '%', '\\x8c', 'À', '#', ']', 'Ù', 'd', 'F', 'h', '9', '\\x93', '¤', '\\x87', '\\x9c', 'á', '½', 'ü', '°', '·', ':', 'R', '\\x86', 'Ð', '^', '\\x94', 'é', 'q', '\\x7f', '\\x81', 'E', '\\\\', 'Æ', 'Î', 'þ', '\\xad', '¾', 'c'}\n",
      "----------------------------------------\n",
      "{'<', '®', '>', '§', '¢', '%', '#', '¥', '£', '¤', '©', '±', '=', '¶', '×', '°', '+', '$', '¬', '÷', 'µ'}\n"
     ]
    }
   ],
   "source": [
    "# ex 3-13 유니코드명 안에 'SIGN'이 들어 있는 단어를 가진 Latin-1 문자들의 집합 만들기\n",
    "from unicodedata import name       # 문자명을 가져오기 위해 import\n",
    "\n",
    "print(\n",
    "    {chr(i) for i in range(32, 256)}\n",
    ")\n",
    "print(\"-\" * 40)\n",
    "print(\n",
    "    {chr(i) for i in range(32, 256) if 'SIGN' in name(chr(i), '')}\n",
    ")    # 'SIGN'이 들어간 문자들의 집합 생성"
   ]
  },
  {
   "cell_type": "markdown",
   "metadata": {},
   "source": [
    "## 3.8.3 집합 연산\n",
    "\n",
    "- 가변형과 불변형 집합에 사용할 수 있는 메서드는 그림 3-2와 같다.\n",
    "- 그림 3-2\n",
    "\n",
    "<img src=\"image/fig_3-2.JPG\" align=\"left\">"
   ]
  },
  {
   "cell_type": "markdown",
   "metadata": {},
   "source": [
    "- 중위 연산자는 양쪽 피연산자가 모두 집합이어야 한다.\n",
    "- 그 외 메서드는 하나 이상의 반복 가능한 인수를 받을 수 있다.\n",
    "- ex>\n",
    "    1. a,b,c,d의 합집합을 구하기 위해 `a.union(b, c, d)` 형태로 호출 가능.\n",
    "    1. a는 __반드시 집합__이어야 하지만, b,c,d는 __반복 가능한 어떠한 자료형도 사용 가능__"
   ]
  },
  {
   "cell_type": "markdown",
   "metadata": {},
   "source": [
    "\n",
    "- 메서드들 중 상당수는 연산자를 오버로딩하기 위한 특수 메서드.\n",
    "- table 3-2는 수학 집합 연산자를 파이썬의 해당 연산자나 메서드에 대응해서 설명.\n",
    "- `&=`와 `differnece_update()` 등 일부 연산자와 메서드는 대상 집항을 직접 변경.\n",
    "- 이런 연산자들은 실제 수학에 대응하는 연산이 없으며, frozenset에는 구현되어 있지 않다.\n",
    "\n",
    "<img src=\"image/table_3-2.JPG\" align=\"left\">"
   ]
  },
  {
   "cell_type": "code",
   "execution_count": 5,
   "metadata": {},
   "outputs": [
    {
     "name": "stdout",
     "output_type": "stream",
     "text": [
      "교집합 z & s :  {3, 4, 5}\n",
      "s &= z : s={3, 4, 5}, z={3, 4, 5, 6, 7} ---> s와 z의 교집합으로 s를 갱신\n",
      "s |= z : s={3, 4, 5, 6, 7}, z={3, 4, 5, 6, 7} ---> s와 z의 합집합으로 s를 갱신\n"
     ]
    }
   ],
   "source": [
    "s = {1, 2, 3, 4, 5}\n",
    "z = {3, 4, 5, 6, 7}\n",
    "print(\"교집합 z & s : \", s.__rand__(z))\n",
    "s &= z\n",
    "print(\"s &= z : s={}, z={}\".format(s, z), \"---> s와 z의 교집합으로 s를 갱신\")\n",
    "s.update(z)\n",
    "print(\"s |= z : s={}, z={}\".format(s, z), \"---> s와 z의 합집합으로 s를 갱신\")"
   ]
  },
  {
   "cell_type": "markdown",
   "metadata": {},
   "source": [
    "> 버그 리포트에 `or(), ans(), sub(), xor()` 메서드와 이에 대응하는 연산자의 배개변수도 집합객체여야 한다는 문제가 있다.\n",
    "> 따라서 collections.abc.Set의 서브클래스에 사용할 수 없는 문제가 있다.\n",
    "> 파이썬 2.7과 3.4에 반영되어 있어서 수정되어 있을 것이다.\n",
    "\n",
    "> 된거 맞나?"
   ]
  },
  {
   "cell_type": "code",
   "execution_count": 19,
   "metadata": {},
   "outputs": [
    {
     "name": "stdout",
     "output_type": "stream",
     "text": [
      "NotImplemented\n",
      "{3, 4, 5}\n"
     ]
    }
   ],
   "source": [
    "s = {1, 2, 3, 4, 5}\n",
    "z = (3, 4, 5, 6, 7)\n",
    "print(s.__and__(z))\n",
    "print(s.__and__(set(z)))"
   ]
  },
  {
   "cell_type": "markdown",
   "metadata": {},
   "source": [
    "- table 3-3 `True` or `False`를 반환하는 연산자와 메서드\n",
    "\n",
    "<img src=\"image/table_3-3.JPG\" align=\"left\">\n"
   ]
  },
  {
   "cell_type": "code",
   "execution_count": 27,
   "metadata": {},
   "outputs": [
    {
     "name": "stdout",
     "output_type": "stream",
     "text": [
      "s.isdisjoint(z) : False ---> s와 z의 교집합이 있어서 False\n",
      "z.__lt__(s) : True ---> z가 s의 진 부분집합 O\n",
      "y.__lt__(s) : False ---> y가 s의 진 부분집합 X\n"
     ]
    }
   ],
   "source": [
    "s = {1, 2, 3, 4, 5}\n",
    "z = {3, 4, 5}\n",
    "y = {1, 2, 3, 4, 5}\n",
    "\n",
    "print(\"s.isdisjoint(z) : {}\".format(s.isdisjoint(z)), \"---> s와 z의 교집합이 있어서 False\")\n",
    "print(\"z.__lt__(s) : {}\".format(s > z), \"---> z가 s의 진 부분집합 O\")\n",
    "print(\"y.__lt__(s) : {}\".format(s > y), \"---> y가 s의 진 부분집합 X\")"
   ]
  },
  {
   "cell_type": "markdown",
   "metadata": {},
   "source": [
    "- table 3-4 기타 메서드\n",
    "\n",
    "<img src=\"image/table_3-4.JPG\" align=\"left\">\n",
    "<br/><br/><br/><br/><br/><br/><br/><br/><br/><br/><br/><br/>\n",
    "\n",
    "- 내용이 수정되는 `add(), clear(), discard(), pop(), remove()`는 set에서만 가능"
   ]
  },
  {
   "cell_type": "markdown",
   "metadata": {},
   "source": [
    "## 3.9 dict와 set의 내부 구조\n",
    "\n",
    "- 해시 테이블을 이용해서 dict와 set을 구현하는 방식을 알면, 장점과 단점을 이해하는 데 도움이 된다.\n",
    "- 다음 질문에 대답을 해 준다.\n",
    "    - dict와 set은 얼마나 효율적인가?\n",
    "    - 왜 순서가 없을까?\n",
    "    - dict의 key와 set 항목에 파이썬의 모든 객체를 사용할 수 없는 이유는?\n",
    "    - dict의 key와 set 항목의 순서가 왜 삽입 순서에 따라 달리며, 객체 수명주기 동안 이 순서가 바뀌 수 있는 이유는?\n",
    "    - dict와 set을 반복하는 동안 항목을 추가하면 왜 안 될까?\n",
    "    \n",
    "- 먼저 간단한 실험을 통해 수백만 개의 항목을 가진 dict와 set가 발휘하는 놀라운 선능을 보자\n",
    "\n",
    "## 3.9.1 성능실험\n",
    "\n",
    "- 경험을 통해 dict와 set가 빠르다는 것을 알고 있다.\n",
    "- 통제된 실험을 통해 이 내용을 확인해 보자.\n",
    "\n",
    "- `in` 연산자로 검색할 때 `dict, set, list`의 크기가 성능에 미치는 영향을 위해\n",
    "- double 1천만 개로 구성된 배열 `haystack`을 생성, haystack에 __있는 500개의 실수__와 haystack에 __없는 500개의 실수__로 구성된 `needles` 배열 생성\n",
    "- dict의 성능을 측정하기 위해 `dict.fromkeys()`를 사용해서 1천 개의 실수를 담은 `haystack`이라는 dict 객체를 생성.\n",
    "- `timeit` 모듈을 이용해서 ex 3-14 코드의 실행 시간 측정."
   ]
  },
  {
   "cell_type": "code",
   "execution_count": 22,
   "metadata": {},
   "outputs": [
    {
     "name": "stdout",
     "output_type": "stream",
     "text": [
      "dict test\n",
      "10^3\t: 0.0000843s,\tfound : 500\n",
      "10^4\t: 0.0000834s,\tfound : 500\n",
      "10^5\t: 0.0000817s,\tfound : 500\n",
      "10^6\t: 0.0000814s,\tfound : 500\n",
      "10^7\t: 0.0000824s,\tfound : 500\n"
     ]
    }
   ],
   "source": [
    "# ex 3-14 haystack에서 needels를 검색하고 발견된 횟수를 계산 - dict\n",
    "import timeit\n",
    "\n",
    "print(\"dict test\")\n",
    "for i in range(5):\n",
    "    haystack = {j:0 for j in range(1000 * (10 ** i))}\n",
    "    needles = list(range((1000 * (10 ** i) - 500), (1000 * (10 ** i) + 500)))\n",
    "    found = 0\n",
    "    start = timeit.default_timer()\n",
    "    for n in needles:\n",
    "        if n in haystack:\n",
    "            found += 1\n",
    "    end = timeit.default_timer()\n",
    "    print(\"10^{}\\t: {:.7f}s,\\tfound : {}\".format(3+i, end - start, found))"
   ]
  },
  {
   "cell_type": "markdown",
   "metadata": {},
   "source": [
    "> 필자의 랩톱보다 내 데스크탑 성능이 좋은 것 같다.\n",
    "\n",
    "- haystack의 크기를 1천만까지 10배씩 증가, 시간 측정\n",
    "- table 3-5\n",
    "\n",
    "<img src=\"image/table_3-5.JPG\" align=\"left\">\n",
    "<br/><br/><br/><br/><br/><br/><br/><br/><br/><br/><br/>\n",
    "\n",
    "- 필자의 랩톱에서 1천개 검색\n",
    "    - haystack 1000개       : 0.000202초, 한 개당 0.202us\n",
    "    - haystack 10,000,000개 : 0.000337초, 한 개당 0.337us\n",
    "    \n",
    "- dict와 list를 비교하기 위해 동일한 haystack을 리스트에 저장해서 크기별로 동인한 실험을 수행.\n",
    "- 집합 테스트의 경우 ex 3-14 와 ex 3-15 둘 다 측정"
   ]
  },
  {
   "cell_type": "code",
   "execution_count": 23,
   "metadata": {},
   "outputs": [
    {
     "name": "stdout",
     "output_type": "stream",
     "text": [
      "list test\n",
      "10^3\t: 0.0082833s,\tfound : 500\n",
      "10^4\t: 0.0960358s,\tfound : 500\n",
      "10^5\t: 0.9447581s,\tfound : 500\n",
      "10^6\t: 9.4003389s,\tfound : 500\n",
      "10^7\t: 93.2968937s,\tfound : 500\n"
     ]
    }
   ],
   "source": [
    "# ex 3-14 haystack에서 needels를 검색하고 발견된 횟수를 계산 - list\n",
    "import timeit\n",
    "\n",
    "print(\"list test\")\n",
    "for i in range(5):\n",
    "    haystack = [j for j in range(1000 * (10 ** i))]\n",
    "    needles = list(range((1000 * (10 ** i) - 500), (1000 * (10 ** i) + 500)))\n",
    "    found = 0\n",
    "    start = timeit.default_timer()\n",
    "    for n in needles:\n",
    "        if n in haystack:\n",
    "            found += 1\n",
    "    end = timeit.default_timer()\n",
    "    print(\"10^{}\\t: {:.7f}s,\\tfound : {}\".format(3+i, end - start, found))"
   ]
  },
  {
   "cell_type": "code",
   "execution_count": 24,
   "metadata": {},
   "outputs": [
    {
     "name": "stdout",
     "output_type": "stream",
     "text": [
      "set test\n",
      "10^3\t: 0.0000803s,\tfound : 500\n",
      "10^4\t: 0.0000831s,\tfound : 500\n",
      "10^5\t: 0.0000802s,\tfound : 500\n",
      "10^6\t: 0.0000925s,\tfound : 500\n",
      "10^7\t: 0.0000794s,\tfound : 500\n"
     ]
    }
   ],
   "source": [
    "# ex 3-14 haystack에서 needels를 검색하고 발견된 횟수를 계산 - set\n",
    "import timeit\n",
    "\n",
    "print(\"set test\")\n",
    "for i in range(5):\n",
    "    haystack = {j for j in range(1000 * (10 ** i))}\n",
    "    needles = list(range((1000 * (10 ** i) - 500), (1000 * (10 ** i) + 500)))\n",
    "    found = 0\n",
    "    start = timeit.default_timer()\n",
    "    for n in needles:\n",
    "        if n in haystack:\n",
    "            found += 1\n",
    "    end = timeit.default_timer()\n",
    "    print(\"10^{}\\t: {:.7f}s,\\tfound : {}\".format(3+i, end - start, found))"
   ]
  },
  {
   "cell_type": "code",
   "execution_count": 1,
   "metadata": {},
   "outputs": [
    {
     "name": "stdout",
     "output_type": "stream",
     "text": [
      "set$ test\n",
      "10^3\t: 0.0000463s,\tfound : 500\n",
      "10^4\t: 0.0000338s,\tfound : 500\n",
      "10^5\t: 0.0000224s,\tfound : 500\n",
      "10^6\t: 0.0000343s,\tfound : 500\n",
      "10^7\t: 0.0000232s,\tfound : 500\n"
     ]
    }
   ],
   "source": [
    "# ex 3-15 한줄코드\n",
    "\n",
    "import timeit\n",
    "\n",
    "print(\"set$ test\")\n",
    "for i in range(5):\n",
    "    haystack = {j for j in range(1000 * (10 ** i))}\n",
    "    needles = set(range((1000 * (10 ** i) - 500), (1000 * (10 ** i) + 500)))\n",
    "    start = timeit.default_timer()\n",
    "    found = len(needles & haystack)\n",
    "    end = timeit.default_timer()\n",
    "    print(\"10^{}\\t: {:.7f}s,\\tfound : {}\".format(3+i, end - start, found))"
   ]
  },
  {
   "cell_type": "markdown",
   "metadata": {},
   "source": [
    "- table 3-6 dict, set, set&, list 시간\n",
    "\n",
    "<img src=\"image/table_3-6.JPG\" align=\"left\">\n",
    "<br/><br/><br/><br/><br/><br/><br/><br/><br/><br/><br/><br/><br/><br/><br/><br/><br/>\n",
    "\n",
    "- `set&` 의 코드가 가장 빠르고, 예상대로 `list`가 가장 느리다.\n",
    "- list에 `in` 연산자 검색을 지원하는 해시 테이블이 없어서 전체 항목을 검색해야 하므로, haystack의 크기에 비례해서 시간 소요.\n",
    "- 프로그램에서 외부 장치로의 입출력을 수행한다면 dict나 set으 크기에 상관없이 key 검색 시간을 무시할 수 있을 정도로 작다.\n",
    "- table 3-6 의 결과를 생성한 코드 `A-1` 참고\n",
    "- 이제 dict와 set의 속도가 어떻게 나오는지 알아보자. 해시 테이블으 내부를 이해하면 key들이 무작위 순서로 불안정하게 정렬되는 이유를 알 수 있다."
   ]
  },
  {
   "cell_type": "markdown",
   "metadata": {},
   "source": [
    "## 3.9.2 dict 안의 해시 테이블\n",
    "\n",
    "- 상위 수준에서 파이썬이 해시 테이블을 이용해서 dict를 구현하는 방법을 성명.\n",
    "- CPython은 몇 가지 최적화 기법을 사용하고 있다(3.11 참조).\n",
    "- 설명을 간단히 하기 위해 먼저 dict의 내부 구조를 살펴보고, 이 개념을 set에도 적용한다.\n",
    "\n",
    "- 해시 테이블은 sparse array이다.\n",
    "- 데이터 구조 교과서를 보면 해시 테이블 안에 있는 항목을 종종 bucket이라고 한다.\n",
    "- dict 해시 테이블에는 각 항목별로 bucket이 있고, bucket에는 key에 대한 참조와 항목의 값에 대한 참조가 들어간다.\n",
    "- 모든 bucket의 크기가 동일하므로 오프셋을 계산해서 각 버킷에 바로 접근할 수 있다.\n",
    "    > `오프셋(offset) : 탐사 이동폭?? 충돌이 발생한 경우에 일정 Offset간격으로 bucket을 이동`(https://nesoy.github.io/articles/2018-08/Algorithm-HashTable)\n",
    "    \n",
    "- 파이썬은 bucket의 1/3 이상을 비워두려고 노력한다.\n",
    "- 해시 테이블 항목이 많이지면 더 넓은 공각에 복사해서 bucket 공간을 확보.\n",
    "\n",
    "- 해시 테이블 안에 항목을 넣을 대, 먼저 항목의 key의 해시값을 계산. `hash()` 내장 함수를 이용. 이 함수에 대해 알아보자\n",
    "\n",
    "### 해시와 동치성\n",
    "\n",
    "- `hash()` : 내장 자료형은 직접 처리하고 사용자 정의 자료형의 경우 `__hash__()` 메서드를 호출.\n",
    "- 두 객체가 동일하면 이 값들의 해시값도 동일해야 한다. 그렇지 않으면 해시 테이블 알고리즘이 제대로 작동하지 않는다.\n",
    "- ex> `정수1`과 `실수1`의 내부 표현 형태는 다르지만, `1 == 1.0`이 참이므로 `hash(1) == hash(1.0)`도 참이 되어야 한다.\n",
    "    > CPython에서는 기계의 워드 안에 들어가는 정수형의 해시는 정수값 그대로 사용하도록 구현.\n",
    "    \n",
    "- 해시 테이블 인덱스처럼 효율성을 높이려면 해시값이 가능한 한 인덱스 공간에 골고루 퍼져야 한다.\n",
    "- 즉, 이상적으로 __비슷하지만 동일하지 않은 객체__들의 해시값은 상당히 달라야 한다.\n",
    "- ex 3-16 : 1 과 1.0은 해시값이 동일하지만, 1.0001, 1.0002, 1.0003은 서로 다르다."
   ]
  },
  {
   "cell_type": "code",
   "execution_count": 1,
   "metadata": {},
   "outputs": [
    {
     "name": "stdout",
     "output_type": "stream",
     "text": [
      "64-bit Python build\n",
      "1        000000000000000000000000000000000000000000000000000000000000001\n",
      "                                                                         != 0\n",
      "1.0      000000000000000000000000000000000000000000000000000000000000001\n",
      "-------------------------------------------------------------------------------\n",
      "1.0      000000000000000000000000000000000000000000000000000000000000001\n",
      "                        !! !   !! !! !!!   ! !!! ! !!   !!!   !          != 21\n",
      "1.0001   000000000000000110100011011011100010111010110001110001000000001\n",
      "-------------------------------------------------------------------------------\n",
      "1.0001   000000000000000110100011011011100010111010110001110001000000001\n",
      "                       ! !!!  ! !! !!  !  !!!  !!!! !  !  !  !!          != 22\n",
      "1.0002   000000000000001101000110110111000101110101100011100010000000001\n",
      "-------------------------------------------------------------------------------\n",
      "1.0002   000000000000001101000110110111000101110101100011100010000000001\n",
      "                      !!!! ! !!  !  ! !! !! !   ! !!! !! !!   !          != 23\n",
      "1.0003   000000000000010011101010010010101000110000010101010011000000001\n",
      "-------------------------------------------------------------------------------\n"
     ]
    }
   ],
   "source": [
    "# ex 3-16 해시값 비교. 코드는 A-3\n",
    "\n",
    "import sys\n",
    "\n",
    "MAX_BITS = len(format(sys.maxsize, 'b'))\n",
    "print('%s-bit Python build' % (MAX_BITS + 1))\n",
    "\n",
    "def hash_diff(o1, o2):\n",
    "    h1 = '{:>0{}b}'.format(hash(o1), MAX_BITS)\n",
    "    h2 = '{:>0{}b}'.format(hash(o2), MAX_BITS)\n",
    "    diff = ''.join('!' if b1 != b2 else ' ' for b1, b2 in zip(h1, h2))\n",
    "    count = '!= {}'.format(diff.count('!'))\n",
    "    width = max(len(repr(o1)), len(repr(o2)), 8)\n",
    "    sep = '-' * (width * 2 + MAX_BITS)\n",
    "    return '{!r:{width}} {}\\n{:{width}} {} {}\\n{!r:{width}} {}\\n{}'.format(\n",
    "    \t\to1, h1, ' ' * width, diff, count, o2, h2, sep, width=width)\n",
    "\n",
    "if __name__ == '__main__':\n",
    "    print(hash_diff(1, 1.0))\n",
    "    print(hash_diff(1.0, 1.0001))\n",
    "    print(hash_diff(1.0001, 1.0002))\n",
    "    print(hash_diff(1.0002, 1.0003))"
   ]
  },
  {
   "cell_type": "markdown",
   "metadata": {},
   "source": [
    "- 파이썬 3.3부터 str, bytes, datatime 객체의 해시에는 무작위 salt value가 추가된다.\n",
    "- salt calue는 파이썬 프로세스가 실행되는 동안에는 동일하게 유지, 프로세스를 새로 실행하면 달라진다.\n",
    "- DOS 공격을 피하기 위한 보안 장치로 사용된다.\n",
    "    > `DOS 공격??` `__hash__()`특수 메서드에 대한 문서 참조 (http://bit.ly/1FESm0m)<br/>\n",
    "    > `DOS 공격 (Denial of Service, 서비스 거부)` : 특정한 네트워크나 웹 리소스에 합법적인 유저가 접근하지 못하도록 방해하는 것. 전형적으로, 막대한 양의 트래픽을 통해 특정 대상에 과부하를 주거나, 악의적인 요청을 보내 해달 리소스가 오작동을 일으키게 하거나 완전히 정지시킴(https://www.binance.vision/ko/security/what-is-a-dos-attack)\n",
    "    \n",
    "-이제 해시 테이블을 작동하게 하는 알고리즘을 살펴보자\n",
    "\n",
    "### 해시 테이블 알고리즘\n",
    "\n",
    "<img src=\"image/fig_3-3.JPG\" align=\"left\">\n",
    "<br/><br/><br/><br/><br/><br/><br/><br/><br/><br/><br/><br/><br/><br/><br/><br/><br/><br/><br/>\n",
    "\n",
    "- my_dict[search_key] 에서 값을 가져오기 위해 `__hash__(search_key)`를 호출해서 search_key의 __해시값__을 가져옴.\n",
    "- 해시값의 최하위 비트를 해시 테이블 안의 버킷에 대한 오프셋으로 사용한다.(사용하는 비트수는 현재 테이블 크기에 따라 달라진다.)\n",
    "- 찾아낸 bucket이 비어 있으면 `KeyError` 발생시킴.\n",
    "- 그렇지 않으면 bucket에 들어있는 항목인 `(found_key : found_value)` 쌍을 검사해서 `search_key == found_key`인지 검사.\n",
    "- 이 값이 일치하면 항목을 찾은 것이므로 `found_value`를 반환\n",
    "- search_key와 found_key가 다른 경우에는 __해시 충돌(hash collision)__이 발생.\n",
    "- 해시 충돌은 해시 함수가 임의의 객체를 적은 수의 비트로 매핑하기 때문이다.\n",
    "    > `???`\n",
    "\n",
    "- 해시 충돌을 해결하기 위해 다른 bucket을 조회.\n",
    "    > 해시가 충돌될 때 해시 비트를 다시 섞는 C 함수의 이름이 재미있게도 뒤흔든다는 뜻의 perturb()이다.\n",
    "    \n",
    "- 이때 bucket이 비어있으면 `KeyError`를 발생시킴.\n",
    "- 그렇지 않고 키가 일치하면 항목 값을 반환하고, 키가 일치하지 않으면 다시 충돌 해결 프로세스를 반복.\n",
    "\n",
    "\n",
    "- 항목을 __추가__하거나 __갱신__하는 과정도 동일.\n",
    "- 다만 빈 버킷을 찾으면 새로운 항목을 추가하고, 동일한 키를 가진 버킷을 찾으면 버킷의 값을 새로운 값으로 갱신.\n",
    "- 항목을 추가할 때 해시 테이블에 항목이 너무 많다고 파이썬이 판단하면 더 큰 공간을 가진 새로운 위치에 해시 테이블을 다시 만든다.\n",
    "- 해시 테이블이 커지면 더 많은 해시 비트를 bucket offset으로 사용하며, 더 많은 비트를 사용할수록 __충돌률이 낮아진다__.\n",
    "\n",
    "\n",
    "- 상당히 많은 작업이 필요할 것처럼 느껴지지만, dict안에 수백만 개의 항목이 있어도 충돌 없이 검색되는 경우가 많고, 한 번 검색할 때마다 발생하는 평균 충돌 횟수는 1~2사이.\n",
    "- 일반적으로 운이 아주 안 좋은 key의 경우에도 몇 번의 충돌을 겪고 난 후에는 원하는 항목을 찾을 수 있다."
   ]
  },
  {
   "cell_type": "markdown",
   "metadata": {},
   "source": [
    "## 3.9.3 dict 작동 방식에 의한 영향\n",
    "\n",
    "- dict에서 사용하는 해시 테이블의 한계와 장점을 알아보자\n",
    "\n",
    "### key 객체는 반드시 해시 가능해야 한다.\n",
    "\n",
    "- 다음을 모두 만족하는 객체는 해시 가능이다.\n",
    "    1. 객체의 수명 주기 동안 동일한 값을 반환하는 `__hash__()` 메서드를 제공하는 `hash()` 함수를 지원한다.\n",
    "    1. `__eq__()` 메서드를 통해 동치성을 판단할 수 있다.\n",
    "    1. `a == b` 가 참이면, `hash(a) == hash(b)`도 반드시 참이어야 한다.\n",
    "    \n",
    "- 사용자 정의 자료형은 `id()`를 해시값으로 사용하고 모든 객체는 서로 동일하지 않으므로 기본적으로 해시 가능하다.\n",
    "- 클래스에서 사용자 정의`__eq__()`메서드를 구현할 때는 `__hash__()`메서드도 적절히 구현해야 한다.\n",
    "- `a ==  b`가 참이면 `hash(a) == hash(b)`도 언제나 참이 되어야 하기 때문이다.\n",
    "- 그렇지 않으면 해시 테이블 알고리즘의 기본 규칙을 어기게 되어 dict나 set이 정의한 객체를 제대로 처리할 수 없게 된다.\n",
    "- 사용자 정의 `\\__eq__()`메서드가 가변 상태에 기반하는 경우 `__hash__()`메서드는 반드시 `unhashable type: 'MyClass' 같은 형태의 메시지와 함께 TypeError를 발생시켜야 한다.` >> `추가확인??`"
   ]
  },
  {
   "cell_type": "markdown",
   "metadata": {},
   "source": [
    "### dict의 메모리 오버헤드가 크다\n",
    "\n",
    "> `오버헤드?? : 어떤 처리를 하귀 위해 들어가는 간접적인 처리 시간/메모리 등을 말한다.`\n",
    "\n",
    "\n",
    "- dict가 내부적으로 해시 테이블을 사용하고 있고 해시가 제대로 작동하려면 빈 공간이 충분해야 하므로, dict의 메모리 공간 효율성은 높지 않다.\n",
    "- ex> 많은 양의 레코드를 처리하는 경우 JIOSN형태로 각 레코드에 하나의 dict를 할당해서 딕셔너리의 리스트를 사용하는 것보다 튜플이나 명명된 퓨틀의 리스트에 저장하는 것이 좋다.\n",
    "- dict를 튜플로 교체하면, __레코드마다 하나의 해시 테이블을 가져야 하는 부담__과 __레코드마다 필드명을 다시 저장해야 하는 부담__을 제거함으로써 메모리 사용량을 줄일 주 있다.\n",
    "\n",
    "\n",
    "- 사용자 적의 자료형의 경우 `__slots__` 클래스 속성을 이용해서 객체 속성 저장소를 dict에서 튜플로 변경할 수 있다. >> 9.8절에서...\n",
    "- 지금은 공간 최적화에 대해 성명 중.\n",
    "- 수백만 개의 객체를 다루고 있고 컴퓨터의 램이 수 기가바이트라면, 실제로 문제가 발생하기 전까지 이런 최적화 기법을 사용하지 않고 버실 수 있다.\n",
    "- 최적화는 유지보수성이 희생되는 제단이다. `??`"
   ]
  },
  {
   "cell_type": "markdown",
   "metadata": {},
   "source": [
    "### 키 검색이 아주 빠르다.\n",
    "\n",
    "- dict는 __속도를 위해 공간을 포기__하는 예다.\n",
    "- 오버헤드가 상당히 크지만, 메모리에 로딩되는 한 __크기와 무관하게 빠른 접근 속도를 제공__한다.\n",
    "- table 3-5 의 수치를 보면, 1천만 개의 항목을 가진 dict에서 key 2백만 개를 검색하는데 1초도 걸리지 않는다."
   ]
  },
  {
   "cell_type": "markdown",
   "metadata": {},
   "source": [
    "### key 순서는 삽입 순서에 따라 달라진다.\n",
    "\n",
    "- 해시 충돌이 발생하면 두 번째 키는 충돌이 발생하지 않았을 때의 정상적인 위치와 다른 곳에 놓이게 된다.\n",
    "- 따라서 `dict([(key1, value1)], [(key2, value2)])`로 생성한 딕셔너리와 `dict([(key2, value2)], [(key1, value1)])`로 생성한 딕셔너리는 동일하지만, `key1`과 `key2`의 해시가 충돌하면 키의 순서가 달라진다.\n",
    "- ex 3-17은 동일한 데이터를 가진 세 개의 딕셔너리를 다른 순서로 로딩한 결과를 보여준다. 생성된 딕셔너리는 순서는 달라도 모두 동일하다고 판단된다."
   ]
  },
  {
   "cell_type": "code",
   "execution_count": 6,
   "metadata": {},
   "outputs": [
    {
     "name": "stdout",
     "output_type": "stream",
     "text": [
      "d1: dict_keys([86, 91, 1, 62, 55, 92, 880, 234, 7, 81])\n",
      "d2: dict_keys([1, 7, 55, 62, 81, 86, 91, 92, 234, 880])\n",
      "d3: dict_keys([880, 55, 86, 91, 62, 81, 234, 92, 7, 1])\n"
     ]
    }
   ],
   "source": [
    "# ex  3-17 \n",
    "# 인구 10대 국가의 국제전화 코드\n",
    "DIAL_CODES = [\n",
    "        (86, 'China'),\n",
    "        (91, 'India'),\n",
    "        (1, 'United States'),\n",
    "        (62, 'Indonesia'),\n",
    "        (55, 'Brazil'),\n",
    "        (92, 'Pakistan'),\n",
    "        (880, 'Bangladesh'),\n",
    "        (234, 'Nigeria'),\n",
    "        (7, 'Russia'),\n",
    "        (81, 'Japan'),\n",
    "    ]\n",
    "\n",
    "d1 = dict(DIAL_CODES)  # <1> 인구가 많은 순서대로 정렬 된 튜플로 생성\n",
    "print('d1:', d1.keys())\n",
    "d2 = dict(sorted(DIAL_CODES))  # <2> 국제전화 코드로 정렬된 튜플로 생성\n",
    "print('d2:', d2.keys())\n",
    "d3 = dict(sorted(DIAL_CODES, key=lambda x:x[1]))  # <3> 국가명으로 정렬된 튜플로 생성\n",
    "print('d3:', d3.keys())\n",
    "assert d1 == d2 and d2 == d3  # <4> 동일한 key-value 쌍을 갖고 있기 때문에 동일하다고 판단"
   ]
  },
  {
   "cell_type": "markdown",
   "metadata": {},
   "source": [
    "> `assert` 뒤 조건이 True가 아니면 AssertError"
   ]
  },
  {
   "cell_type": "markdown",
   "metadata": {},
   "source": [
    "### 딕셔너리에 항목을 추가하면 기존 키의 순서가 변경될 수 있다.\n",
    "\n",
    "- dict에 항목을 추가할 때마다 파이썬 이터프리터는 그 딕셔너리의 해시 테이블 크기를 늘릴지 판다.\n",
    "- 더 큰 해시 테이블을 만들어서 기존 항목을 모두 새 테이블에 추가.\n",
    "- 이 과정 동안 기존과 다르게 해시 충돌이 발생해서 새로운 해시 테이블에서의 __key 순서가 달라질 수 있다__.\n",
    "    - 알고리즘에 따라 달라지므로, 이 현상이 언제 발생할지 정확히 예측 불가.\n",
    "- 딕셔너리 키를 반복하는 도중에 항목을 변경하는 경우, 원하는 데로 항목을 검색하지 못하는 경우 발생. 심지어 항목을 추가하기 전에 이미 있던 항목도 제대로 검색하지 못할 수 있다. \n",
    "- 반복하는 동안 딕셔너리의 내용을 변경하는 것은 좋지 않고, 다음 두 단계로 수행한다.\n",
    "    1. 처음부터 끝까지 딕셔너리를 검색하면서 필요한 항목은 별도의 딕셔너리에 추가.\n",
    "    1. 별도의 딕셔너리로 원래 딕셔너리를 갱신한다.\n",
    "    \n",
    "    \n",
    "> 파이썬 3에서 `keys(), items(), values()` 메서드가 반환하는 딕셔너리 뷰는, 파이썬 2에서 이 메서드들이 반환한 리스트와 달리 일종의 집합처럼 동작. 이 뷰는 딕셔너리의 내용을 복제하지 않고 동적으로 갱신되므로, dict의 변경사항을 즉시 반영."
   ]
  },
  {
   "cell_type": "markdown",
   "metadata": {},
   "source": [
    "## 3.9.4 집합의 작동 방식 - 현실적으로 미치는 영향\n",
    "\n",
    "- set과 frozenset도 해시 테이블을 이용해서 구현\n",
    "- 하지만, bucket이 항목에 대한 __참조만__을 담고 있다.\n",
    "- 항목 자체가 dict에서의 key처럼 사용되지만, key를 통해 접근할 값이 없다.\n",
    "- set이 파이썬 언어에 추가되기 전까지는 가짜 값을 가진 딕셔너리를 사용해서 키가 들어있는지 빠르게 검색하곤 했다.\n",
    "\n",
    "\n",
    "- dict의 작동을 결정하는 방식이 집합에도 모두 적용된다. set에 대한 설명을 다음과 같이 간단히 정리.\n",
    "    - set 요소는 모두 해시 가능한 객체여야 한다.\n",
    "    - set의 메모리 오버헤드가 상당히 크다.\n",
    "    - 집합에 속해 있는지 매우 효율적으로 검사할 수 있다.\n",
    "    - 요소의 순서는 요소를 추가한 수선에 따라 달라진다.\n",
    "    - 요소를 집합에 추가하면 다른 요소의 순서가 바뀔 수 있다."
   ]
  },
  {
   "cell_type": "markdown",
   "metadata": {},
   "source": [
    "## 3.10 요약\n",
    "\n",
    "- 딕셔너리는 파이썬의 핵심이다.\n",
    "- dict 외에 표준 라이브러리 `defaultdict, OrderedDict, ChainMap, Counter` 등 바로 사용할 수 있는 간편한 매핑형을 제공. 모두 `collections` 모듈에 정의.\n",
    "- `collections` 모듈은 확장이 쉬운 `UserDict` 클래스도 제공\n",
    "\n",
    "\n",
    "- 대부분의 매핑형은 `setdefault()와 update()`라는 강력한 메서드를 제공.\n",
    "- setdefault() : 검색 키가 존재하지 않으면 기본값으로 해당 키를 생성한 후 반환\n",
    "- update() : 다른 매핑형, 키-값 쌍을 제공하는 반복형, 키워드 인수로부터 항목을 가져와서 대량으로 데이터를 추가하거나 덮어쓸 수 있다.\n",
    "- 매핑형 생성자도 내부적으로 update() 메서드를 사용하므로 매핑형, 반복형, 키워드 인수로부터 객체를 초기화 할 수 있다.\n",
    "\n",
    "\n",
    "- 패밍 API에서 제공하는 `__missing__()` 메서드는 멋진 연결고리로서, 키를 찾을 수 없을 때 발생하는 일을 정의할 수 있게 해준다.\n",
    "\n",
    "\n",
    "- `collections.abs` 모듈은 참조와 자료형 검사를 위해 mapping과 MutableMapping 추상 베이스 클래스를 제공.\n",
    "- types 모듈에서 MappingProxyType 클래스는 잘 알려져 있지 않지만, 불변형 매핑을 생성.\n",
    "- Set과 MutableSet에 대한 추상 베이스 클래스도 제공.\n",
    "\n",
    "\n",
    "- dict와 set의 기반이 되는 해시 테이블은 상당히 빠르다.\n",
    "- 해시 테이블을 이해하면 항목들의 순서가 정렬되어 있지 않은 이류 및 심지어 조용히 재정렬되는 이유를 알 수 있다.\n",
    "- 해시 테이블은 속도가 빠른 반면 메모리 공간을 많이 사용한다."
   ]
  },
  {
   "cell_type": "markdown",
   "metadata": {},
   "source": [
    "## 3.11 읽을거리\n",
    "\n",
    "- 파이썬 표중 라이브러리의 8.3절 `collections - Container datatypes`(https://docs.python.org/3/library/collections.html) 에는 여러 배핑형의 예제와 실용적인 비법이 담겨있다.\n",
    "- 브라이언 K. 존스의 `Pyhton Cookbook, 3E`(O'Reilly)의 1장에서는 데이터구조(대부분 dict를 이용한 똑똑한 방법)를 사용하는 20가지 실용적이고 통찰력있는 예제를 볼 수 있다.\n"
   ]
  },
  {
   "cell_type": "markdown",
   "metadata": {},
   "source": [
    "## 뒷이야기\n",
    "\n",
    "- 제랄도 코엔은 파이썬은 `단순하고 정확하다`는 말을 했다.\n",
    "- dict는 `임의의 키 가져오기`라는 단 하나의 작업을 수행하기 위해 상당히 최적화되어 있다.\n",
    "- dict는 상당히 빠르고 탄탄하기 때문에 파이썬 인터프리터 자체에서도 많이 사용된다.\n",
    "- 대부분의 매핑에서는 키의 순서가 중요하지 않기 때문에 핵심 구현은 단숞가ㅔ 유지하면서 별도의 변형을 표준 라이브러리에 제공하는 것이 타당.\n",
    "- PHP와 비교\n",
    "> PHP에서 배열은 실제로는 정렬된 맵이다. 맵은 값과 키를 연결하는 자료형이다. 이 자료형은 배열, 리스트(벡터), 해시 테이블(맵 구현), 딕셔너리, 컬렉션, 스택, 큐 등에 다양하게 사용할 수 있도록 최적화되어 있다.\n",
    "\n",
    "    - 이 설명을 보면 PHP의 list와 OrderDict의 중간 합성물을 사용하면 실제 비용이 얼마나 되는지 알 수 없다.`??`\n",
    "    \n",
    "- 이 책의 2장과 3장은 파이썬 컬렉션이 특정한 용도에 최적화되어 있음을 보여주기 위한 것이다.\n",
    "\n",
    "- 어쩌구 저쩌구 하는데... 말하고 싶은 것은 __단순함과 정확성__ 인 것 같다.\n",
    "    "
   ]
  },
  {
   "cell_type": "code",
   "execution_count": null,
   "metadata": {},
   "outputs": [],
   "source": []
  }
 ],
 "metadata": {
  "kernelspec": {
   "display_name": "Python 3",
   "language": "python",
   "name": "python3"
  },
  "language_info": {
   "codemirror_mode": {
    "name": "ipython",
    "version": 3
   },
   "file_extension": ".py",
   "mimetype": "text/x-python",
   "name": "python",
   "nbconvert_exporter": "python",
   "pygments_lexer": "ipython3",
   "version": "3.7.4"
  }
 },
 "nbformat": 4,
 "nbformat_minor": 2
}

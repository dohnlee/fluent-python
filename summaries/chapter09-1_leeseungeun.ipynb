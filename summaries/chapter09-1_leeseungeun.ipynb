{
 "cells": [
  {
   "cell_type": "markdown",
   "metadata": {},
   "source": [
    "# 파이썬스러운 객체\n",
    "* 다룰 내용\n",
    "    * ```repr(), bytes()``` 등 객체를 다른 방식으로 표현하는 내장 함수\n",
    "    * 클래스 메서드로 대안 생성자 구현\n",
    "    * ```format()```내장 함수와 ```str.format()```메서드에서 사용하는 포맷 언어 확장\n",
    "    * 읽기 전용 접근만 허용하는 속성 제공"
   ]
  },
  {
   "cell_type": "code",
   "execution_count": 31,
   "metadata": {},
   "outputs": [],
   "source": [
    "import math\n",
    "from array import array\n",
    "\n",
    "\n",
    "class Vector2d:\n",
    "    \"\"\"\n",
    "    Fluent Python ~ p. 340 까지 설명 내용을 포함하는 클래스\n",
    "    본 책 1장 예제의 확장 버전\n",
    "    \"\"\"\n",
    "    typecode= 'd'\n",
    "    \n",
    "    def __init__(self, x, y):\n",
    "        self.__x = float(x)\n",
    "        self.__y = float(y)\n",
    "    \n",
    "    @property\n",
    "    def x(self):\n",
    "        return self.__x\n",
    "    \n",
    "    @property\n",
    "    def y(self):\n",
    "        return self.__y\n",
    "        \n",
    "    def __iter__(self):\n",
    "        return (i for i in (self.x, self.y))\n",
    "    \n",
    "    def __repr__(self):\n",
    "        class_name = type(self).__name__\n",
    "        return '{}({!r}, {!r})'.format(class_name, *self)\n",
    "    \n",
    "    def __bytes__(self):\n",
    "        return (bytes([ord(self.typecode)]) + bytes(array(self.typecode, self)))\n",
    "    \n",
    "    def __hash__(self):\n",
    "        return hash(self.x) ^ hash(self.y)\n",
    "    \n",
    "    def __eq__(self, other):\n",
    "        return tuple(self) == tuple(other)\n",
    "    \n",
    "    def __abs__(self):\n",
    "        return math.hypot(self.x, self.y)\n",
    "    \n",
    "    def __bool__(self):\n",
    "        return bool(abs(self))\n",
    "    \n",
    "    @classmethod\n",
    "    def frombytes(cls, octets):\n",
    "        \"\"\"\n",
    "        bytes -> Vector2d 변환 메서드\n",
    "        \"\"\"\n",
    "        typecode = chr(octets[0])\n",
    "        memv = memoryview(octets[1:].cast(typecode))\n",
    "        return cls(*memv)\n",
    "    \n",
    "    def __format__(self, fmt_spec=''):\n",
    "        if fmt_spec.endswith('p'):\n",
    "            fmt_spec = fmt_spec[:-1]\n",
    "            coords = (abs(self), self.angle())\n",
    "            outer_fmt = '<{}, {}>'\n",
    "        else: \n",
    "            coords = self\n",
    "            outer_fmt = '({}, {})'\n",
    "        components = (format(c, fmt_spec) for c in coords)\n",
    "        return outer_fmt.format(*components)"
   ]
  },
  {
   "cell_type": "markdown",
   "metadata": {},
   "source": [
    "## 객체의 표현\n",
    "* ```repr()```\n",
    "    * ```__repr__()``` 구현 필요함\n",
    "    * 객체를 개발자가 보고자 하는 형태로 표현한 문자열 (python3 유니코드 문자열)로 반환\n",
    "    * 객체의 공식적인 문자 표현\n",
    "    * **가능하다면 같은 값으로 객체를 재생산할 수 있는 유효한 파이썬 표현이어야 함**\n",
    "* ```str()```\n",
    "    * ```__str()__``` 구현 필요함\n",
    "    * 객체를 사용자가 보고자 하는 형태로 표현한 문자열 (python3 유니코드 문자열)로 반환\n",
    "    * 비공식적 또는 출력하기 좋은 형태의 문자 표현\n",
    "* ```bytes()```\n",
    "    * ```__bytes__()``` 구현 필요함\n",
    "    * 객체 바이트 시퀀스로 표현\n",
    "* ```str.format() /  format()```\n",
    "    * ```__format__()``` 구현 필요함\n",
    "    * 특별 포맷 코드 이용해 객체 표현 문자열 (python3 유니코드 문자열)을 반환\n",
    "* 추가 설명 자료 [출처](https://docs.python.org/3/reference/datamodel.html)"
   ]
  },
  {
   "cell_type": "markdown",
   "metadata": {},
   "source": [
    "## @classmethod와 @staticmethod\n",
    "* ```Java```에서의 ```static```\n",
    "    * ```Java```에서 ```static``` 키워드가 붙은 변수/메소드르 클래스 변수/메소드라고 함\n",
    "    * 클래스 변수의 경우 공유 변수의 의미를 지님\n",
    "        * 클래스를 바탕으로 인스턴스를 생성함\n",
    "        * 클래스 변수는 해당 클래스를 기반으로 하는 모든 인스턴스가 공유할 수 있는 변수가 됨\n",
    "    * 클래스 변수/메소드는 인스턴스 생성 전에 사용할 수 있는 변수/메소드로써도 사용\n",
    "    * (참고 사항) JVM 상 static 영역 관련\n",
    "* ```@classmethod```\n",
    "    * 첫 번째 인수로 클래스를 받음\n",
    "* ```@staticmethod```\n",
    "    * **첫 번째 인수로 클래스를 받지 않음**"
   ]
  },
  {
   "cell_type": "code",
   "execution_count": 13,
   "metadata": {},
   "outputs": [],
   "source": [
    "# class 변수와 메소드 예시\n",
    "import random\n",
    "\n",
    "\n",
    "class RandomStringGenerator:\n",
    "    \"\"\"\n",
    "    https://github.com/leeseungeun/imsure/blob/develop/src/main/java/com/hana/imsure/common/utils/RandomStringGenerator.java\n",
    "\n",
    "    비밀번호 초기화 등을 위한 random 인증 번호 생성을 위한 코드 Python version\n",
    "    (자바 코드를 파이썬 코드로 직역한 것과 다름 없으므로 효율적으로 동작하기 위해서는 리팩토링 필요)\n",
    "    \"\"\"\n",
    "    # 해당 클래스에 인스턴스 메소드가 추가되더라도 해당 문자열 리스트는 모든 인스턴스에 공유되어야 하므로 클래스 메소드가 필요\n",
    "    # 클래스 변수 사용하는 메소드는 클래스 메소드여야 함 (생성 주기 때문, 파이썬은 자바와 같은 생성 주기 같지 않아 유의)\n",
    "    char_set = [ \n",
    "\t\t\"0\", \"1\", \"2\", \"3\", \"4\", \"5\", \"6\", \"7\", \"8\", \"9\" ,\n",
    "\t\t\"a\", \"b\", \"c\", \"d\", \"e\", \"f\", \"g\", \"h\", \"i\", \"j\", \"k\", \"l\", \"m\", \"n\", \"o\", \"p\", \"q\", \"r\", \"s\", \"t\", \"u\", \"v\", \"w\", \"x\", \"y\", \"z\",\n",
    "\t\t\"A\", \"B\", \"C\", \"D\", \"E\", \"F\", \"G\", \"H\", \"I\", \"J\", \"K\", \"L\", \"M\", \"N\", \"O\", \"P\", \"Q\", \"R\", \"S\", \"T\", \"U\", \"V\", \"W\", \"X\", \"Y\", \"Z\"\n",
    "    ]\n",
    "    \n",
    "    @classmethod\n",
    "    def generate_random_string(cls, length):\n",
    "        \"\"\"\n",
    "        본 예시에서는 staticemthod 사용 불가\n",
    "        \"\"\"\n",
    "        \n",
    "        result = ''\n",
    "        \n",
    "        for i in range(0, length + 1):\n",
    "            result += cls.char_set[random.randint(0, len(cls.char_set) - 1)]\n",
    "            \n",
    "        return result"
   ]
  },
  {
   "cell_type": "code",
   "execution_count": 12,
   "metadata": {},
   "outputs": [
    {
     "data": {
      "text/plain": [
       "'IdTmKH'"
      ]
     },
     "execution_count": 12,
     "metadata": {},
     "output_type": "execute_result"
    }
   ],
   "source": [
    "# 5자리의 랜덤 문자열 생성 방법, 클래스 메서드로 만듦으로써 랜덤 문자열을 만들 때마다 인스턴스를 만들 필요 없음\n",
    "RandomStringGenerator.generate_random_string(5)"
   ]
  },
  {
   "cell_type": "code",
   "execution_count": 16,
   "metadata": {},
   "outputs": [],
   "source": [
    "# staticmethod vs classmethod\n",
    "class Test:\n",
    "    @classmethod\n",
    "    def clsmethod(a, b):\n",
    "        print(a, b)\n",
    "        \n",
    "    @staticmethod\n",
    "    def statmethod(a, b):\n",
    "        print(a, b)"
   ]
  },
  {
   "cell_type": "code",
   "execution_count": 19,
   "metadata": {},
   "outputs": [
    {
     "ename": "TypeError",
     "evalue": "clsmethod() takes 2 positional arguments but 3 were given",
     "output_type": "error",
     "traceback": [
      "\u001b[0;31m---------------------------------------------------------------------------\u001b[0m",
      "\u001b[0;31mTypeError\u001b[0m                                 Traceback (most recent call last)",
      "\u001b[0;32m<ipython-input-19-45207e5867d2>\u001b[0m in \u001b[0;36m<module>\u001b[0;34m\u001b[0m\n\u001b[0;32m----> 1\u001b[0;31m \u001b[0mTest\u001b[0m\u001b[0;34m.\u001b[0m\u001b[0mclsmethod\u001b[0m\u001b[0;34m(\u001b[0m\u001b[0;36m1\u001b[0m\u001b[0;34m,\u001b[0m \u001b[0;36m2\u001b[0m\u001b[0;34m)\u001b[0m\u001b[0;34m\u001b[0m\u001b[0m\n\u001b[0m",
      "\u001b[0;31mTypeError\u001b[0m: clsmethod() takes 2 positional arguments but 3 were given"
     ]
    }
   ],
   "source": [
    "Test.clsmethod(1, 2)"
   ]
  },
  {
   "cell_type": "code",
   "execution_count": 20,
   "metadata": {},
   "outputs": [
    {
     "name": "stdout",
     "output_type": "stream",
     "text": [
      "1 2\n"
     ]
    }
   ],
   "source": [
    "Test.statmethod(1, 2)"
   ]
  },
  {
   "cell_type": "markdown",
   "metadata": {},
   "source": [
    "## 포맷된 출력\n",
    "* format_spec (포맷 명시자)\n",
    "    * ```format(my_obj, format_spec)```의 두 번째 인수\n",
    "    * ```str.format()```에 사용된 포맷 문자열 안에 ```{}로 구분한 대체 필드 안에서 콜론 뒤 문자열```\n",
    "    * 포맷 명시 간이 언어 (Format Specification Mini-Language)\n",
    "        * ```b```: int 이진수\n",
    "        * ```x```: int 16진수\n",
    "        * ```f```: float 고정소수점\n",
    "        * ```%```: 백분율\n",
    "        * [more](https://docs.python.org/3/library/string.html#formatspec)\n",
    "* 클래스에 ```__format__()``` 정의하지 않을 경우 ```str(my_object)``` 반환"
   ]
  },
  {
   "cell_type": "code",
   "execution_count": 30,
   "metadata": {},
   "outputs": [
    {
     "name": "stdout",
     "output_type": "stream",
     "text": [
      "기본 예시 1, 2, 3\n",
      "인덱스 예시 3, 2, 1\n",
      "key 예시 3, 2, 1\n",
      "INSET INTO presentations ('number', 'name') VALUES (?,?)\n"
     ]
    }
   ],
   "source": [
    "## str.format() 외전\n",
    "\n",
    "# str.format() 많이 사용하는 방식\n",
    "print('기본 예시 {}, {}, {}'.format(1, 2, 3))\n",
    "\n",
    "# 인덱스를 활용한 방식\n",
    "print('인덱스 예시 {2}, {1}, {0}'.format(*[1,2,3]))\n",
    "\n",
    "# key를 활용한 방식\n",
    "print('key 예시 {apple}, {banana}, {cat}'.format(**{'apple':3, 'banana':2, 'cat': 1}))\n",
    "\n",
    "\"\"\"\n",
    "개인적으로 key를 이용한 string format을 자주 사용하는 경우: \n",
    "sqlalchemy와 같은 ORM 사용 안 하고 sqlite3 모듈 이용해 sql 실행할 때 \n",
    "str.format()을 잘 활용하면 기본 SQL문 하나로 여러 테이블을 조작할 수 있음!!!\n",
    "\n",
    "** ORM은 관계형 데이터베이스와 객체를 mapping해 사용하는 것을 지칭\n",
    "\n",
    "\"\"\"\n",
    "\n",
    "# 테이블에 데이터를 넣는 기본 SQL문\n",
    "insert_sql = 'INSERT INTO {table} {columns} VALUES ({pstmt})'\n",
    "\n",
    "# insert를 수행할 테이블과 컬럼\n",
    "parameters = {\n",
    "    'table': 'presentations',\n",
    "    'columns': ('number', 'name')    \n",
    "}\n",
    "parameters['pstmt'] = ('?,' * len(parameters['columns']))[:-1]\n",
    "print(insert_sql.format(**parameters))"
   ]
  },
  {
   "cell_type": "markdown",
   "metadata": {},
   "source": [
    "## 해시 가능한 Vector2d\n",
    "* 해시 가능하게 만들기 위해서는 ```__hash__(), __eq__()``` 구현해야 함\n",
    "    * 해시 가능해야 ```set()``` 변환 가능\n",
    "    * 책 예제에서 Vector2d 불변형으로 만든 후 진행"
   ]
  },
  {
   "cell_type": "markdown",
   "metadata": {},
   "source": [
    "* 접근 제한자 (Access Modifier)\n",
    "    * 필요성: 객체 지향 프로그래밍 (Object Oriented Programming, OOP)의 캡슐화 (Encpsulation)에 기인함\n",
    "        * 캡슐화\n",
    "            * 데이터에 private 또는 protected 접근 제한자를 붙임으로써 데이터에 대한 직접적인 접근을 막고, 메소드로써 데이터에 접근하도록 함\n",
    "            * 메소드 (e.g. getter / setter)로써 데이터 접근하도록 할 경우 변수에 값을 할당하기 전 입력 데이터를 검증할 수 있다는 장점이 있음\n",
    "            * ```@prorperty``` 데코레이터는 getter 메소드 역할 ([출처](https://hamait.tistory.com/827))\n",
    "            * [출처](https://www.quora.com/Why-should-we-use-access-modifiers-in-Java)\n",
    "    * 종류\n",
    "        * private: 해당 클래스에서만 접근 가능\n",
    "        * protected:해당 클래스와 그를 상속 받은 클래스에서만 접근 가능\n",
    "        * public: 모든 클래스에서 접근 가능\n",
    "        * default / package (Java에서 사용되는 접근 제한자): 해당 패키지의 클래스에서만 접근 가능\n",
    "    * Python에서의 접근 제한자\n",
    "        * 다른 언어와 달리 Python에서는 public 접근 제한자가 기본\n",
    "        * protected로 설정하고 싶은 변수 또는 메서드 앞에 _(single underscore)를 붙여 표시\n",
    "            * 실제 제약되지 않고 일종의 경고 표시로 사용 ([출처](https://stackoverflow.com/questions/797771/python-protected-attributes))\n",
    "        * private으로 설정하고 싶은 변수 또는 메서드 앞에 \\_\\_ (double underscore)를 붙여 표시\n",
    "            * \\_\\_(double underscore)를 붙이면 이름이 \\_classname\\_\\_해당 속성 또는 메서드 이름으로 변경되어 해당 이름으로 접근할 수 없음\n",
    "    * 출처:  패스트캠퍼스 컴퓨터사이언스 익스텐션스쿨 2기 Dave Lee 강사님의 파이썬 객체 지향 프로그래밍에 대한 강의"
   ]
  },
  {
   "cell_type": "code",
   "execution_count": 32,
   "metadata": {},
   "outputs": [],
   "source": [
    "# 재밌는 Python private 변수 예시\n",
    "# 출처: https://stackoverflow.com/questions/42801071/creating-a-playing-card-class-python\n",
    "\n",
    "class Card:\n",
    "    def __init__(self, rank, suit):\n",
    "        self.rank = rank\n",
    "        self.suit = suit\n",
    "        self.__ranks = [None, \"Ace\", 2, 3, 4, 5, 6, 7, 8, 9, 10, \"Jack\", \"Queen\", \"King\"]\n",
    "        self.__suits = {\"d\": \"Diamonds\",\n",
    "                   \"c\": \"Clubs\",\n",
    "                   \"h\": \"Hearts\",\n",
    "                   \"s\": \"Spades\"}"
   ]
  },
  {
   "cell_type": "code",
   "execution_count": 33,
   "metadata": {},
   "outputs": [
    {
     "data": {
      "text/plain": [
       "['_Card__ranks',\n",
       " '_Card__suits',\n",
       " '__class__',\n",
       " '__delattr__',\n",
       " '__dict__',\n",
       " '__dir__',\n",
       " '__doc__',\n",
       " '__eq__',\n",
       " '__format__',\n",
       " '__ge__',\n",
       " '__getattribute__',\n",
       " '__gt__',\n",
       " '__hash__',\n",
       " '__init__',\n",
       " '__le__',\n",
       " '__lt__',\n",
       " '__module__',\n",
       " '__ne__',\n",
       " '__new__',\n",
       " '__reduce__',\n",
       " '__reduce_ex__',\n",
       " '__repr__',\n",
       " '__setattr__',\n",
       " '__sizeof__',\n",
       " '__str__',\n",
       " '__subclasshook__',\n",
       " '__weakref__',\n",
       " 'rank',\n",
       " 'suit']"
      ]
     },
     "execution_count": 33,
     "metadata": {},
     "output_type": "execute_result"
    }
   ],
   "source": [
    "heart8 = Card(8, 'h')\n",
    "dir(heart8)"
   ]
  },
  {
   "cell_type": "code",
   "execution_count": 34,
   "metadata": {},
   "outputs": [
    {
     "ename": "AttributeError",
     "evalue": "'Card' object has no attribute 'ranks'",
     "output_type": "error",
     "traceback": [
      "\u001b[0;31m---------------------------------------------------------------------------\u001b[0m",
      "\u001b[0;31mAttributeError\u001b[0m                            Traceback (most recent call last)",
      "\u001b[0;32m<ipython-input-34-1bcbca288384>\u001b[0m in \u001b[0;36m<module>\u001b[0;34m\u001b[0m\n\u001b[0;32m----> 1\u001b[0;31m \u001b[0mheart8\u001b[0m\u001b[0;34m.\u001b[0m\u001b[0mranks\u001b[0m\u001b[0;34m\u001b[0m\u001b[0m\n\u001b[0m",
      "\u001b[0;31mAttributeError\u001b[0m: 'Card' object has no attribute 'ranks'"
     ]
    }
   ],
   "source": [
    "heart8.ranks"
   ]
  },
  {
   "cell_type": "code",
   "execution_count": 36,
   "metadata": {},
   "outputs": [
    {
     "data": {
      "text/plain": [
       "[None, 'Ace', 2, 3, 4, 5, 6, 7, 8, 9, 10, 'Jack', 'Queen', 'King']"
      ]
     },
     "execution_count": 36,
     "metadata": {},
     "output_type": "execute_result"
    }
   ],
   "source": [
    "heart8._Card__ranks"
   ]
  }
 ],
 "metadata": {
  "kernelspec": {
   "display_name": "Python 3",
   "language": "python",
   "name": "python3"
  },
  "language_info": {
   "codemirror_mode": {
    "name": "ipython",
    "version": 3
   },
   "file_extension": ".py",
   "mimetype": "text/x-python",
   "name": "python",
   "nbconvert_exporter": "python",
   "pygments_lexer": "ipython3",
   "version": "3.5.2"
  }
 },
 "nbformat": 4,
 "nbformat_minor": 2
}

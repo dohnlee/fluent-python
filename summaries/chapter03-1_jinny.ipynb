{
 "cells": [
  {
   "cell_type": "markdown",
   "metadata": {},
   "source": [
    "## Chapter 3 Dictionaries and Sets (1)"
   ]
  },
  {
   "cell_type": "markdown",
   "metadata": {},
   "source": [
    "### Generic mapping types\n",
    "collections.abc module은 dictionary와 이와 유사한 형들의 인터페이스를 공식화하기 위해 Mapping과 MutableMapping ABC를 제공한다. 이 두 객체는 collections.abc가 아닌 collections module에서 import할 수 있다. "
   ]
  },
  {
   "cell_type": "markdown",
   "metadata": {},
   "source": [
    "mapping type은 보통 dict, collections.UserDict를 확장하여 사용한다. 표준 라이브러리 내 모든 mapping type은 실행 시 기본 dictionary를 사용하고, 그에 따라 key는 반드시 해시 가능해야한다(hashable)는 제한 조건을 갖는다. "
   ]
  },
  {
   "cell_type": "markdown",
   "metadata": {},
   "source": [
    "__\"What is hashable?\"__\n",
    "- 어떤 객체가 해시 가능하다는 것은 객체가 자신의 생명주기동안 변하지 않는 해시 값을 갖고, 다른 객체와 비교 가능하다는 것을 의미한다. 같은 해시 가능한 객체는 같은 해시 값을 갖는다.  \n",
    "- 해시 가능한 객체 예시\n",
    "  - Atomic immutable type(str, bytes, numeric types)\n",
    "  - Frozen set : 정의에 의해 이것의 원소가 모두 해시 가능해야하기 때문에\n",
    "  - tuple of hashable elements : tuple을 이루는 모든 항목이 해시 가능할 때 해시 가능하다. "
   ]
  },
  {
   "cell_type": "code",
   "execution_count": 25,
   "metadata": {},
   "outputs": [
    {
     "data": {
      "text/plain": [
       "-3907003130834322577"
      ]
     },
     "execution_count": 25,
     "metadata": {},
     "output_type": "execute_result"
    }
   ],
   "source": [
    "tt = (1, 2, (30, 40))\n",
    "hash(tt)"
   ]
  },
  {
   "cell_type": "code",
   "execution_count": 26,
   "metadata": {},
   "outputs": [
    {
     "ename": "TypeError",
     "evalue": "unhashable type: 'list'",
     "output_type": "error",
     "traceback": [
      "\u001b[0;31m--------------------------------------\u001b[0m",
      "\u001b[0;31mTypeError\u001b[0mTraceback (most recent call last)",
      "\u001b[0;32m<ipython-input-26-258d676ca6dc>\u001b[0m in \u001b[0;36m<module>\u001b[0;34m\u001b[0m\n\u001b[1;32m      1\u001b[0m \u001b[0mtl\u001b[0m \u001b[0;34m=\u001b[0m \u001b[0;34m(\u001b[0m\u001b[0;36m1\u001b[0m\u001b[0;34m,\u001b[0m \u001b[0;36m2\u001b[0m\u001b[0;34m,\u001b[0m \u001b[0;34m[\u001b[0m\u001b[0;36m30\u001b[0m\u001b[0;34m,\u001b[0m \u001b[0;36m40\u001b[0m\u001b[0;34m]\u001b[0m\u001b[0;34m)\u001b[0m\u001b[0;34m\u001b[0m\u001b[0;34m\u001b[0m\u001b[0m\n\u001b[0;32m----> 2\u001b[0;31m \u001b[0mhash\u001b[0m\u001b[0;34m(\u001b[0m\u001b[0mtl\u001b[0m\u001b[0;34m)\u001b[0m\u001b[0;34m\u001b[0m\u001b[0;34m\u001b[0m\u001b[0m\n\u001b[0m",
      "\u001b[0;31mTypeError\u001b[0m: unhashable type: 'list'"
     ]
    }
   ],
   "source": [
    "tl = (1, 2, [30, 40])\n",
    "hash(tl)"
   ]
  },
  {
   "cell_type": "markdown",
   "metadata": {},
   "source": [
    "### How to build dictionaries\n",
    "* literal syntax"
   ]
  },
  {
   "cell_type": "code",
   "execution_count": 2,
   "metadata": {},
   "outputs": [
    {
     "data": {
      "text/plain": [
       "True"
      ]
     },
     "execution_count": 2,
     "metadata": {},
     "output_type": "execute_result"
    }
   ],
   "source": [
    "a = dict(one=1, two=2, three=3)\n",
    "b = {'one': 1, 'two': 2, 'three': 3}\n",
    "c = dict(zip(['one', 'two', 'three'], [1, 2, 3]))\n",
    "d = dict([('one', 1), ('two', 2), ('three', 3)])\n",
    "e = dict({'one': 1, 'two': 2, 'three': 3})\n",
    "a == b == c == d == e"
   ]
  },
  {
   "cell_type": "markdown",
   "metadata": {},
   "source": [
    "* dict comprehensions  \n",
    "python 2.7에서부터 dict comprehension에 list comprehension과 generator expression을 사용한다. iterable 객체로부터 key: value 쌍을 만들어 dictionary를 구성한다. "
   ]
  },
  {
   "cell_type": "code",
   "execution_count": 8,
   "metadata": {},
   "outputs": [
    {
     "name": "stdout",
     "output_type": "stream",
     "text": [
      "{'China': 86, 'India': 91, 'United States': 1, 'Indonesia': 62, 'Brazil': 55, 'Pakistan': 92, 'Bangladesh': 880, 'Nigeria': 234, 'Russia': 7, 'Japan': 81}\n",
      "{1: 'UNITED STATES', 62: 'INDONESIA', 55: 'BRAZIL', 7: 'RUSSIA'}\n"
     ]
    }
   ],
   "source": [
    "DIAL_CODES = [\n",
    "    (86, 'China'),\n",
    "    (91, 'India'),\n",
    "    (1, 'United States'),\n",
    "    (62, 'Indonesia'),\n",
    "    (55, 'Brazil'),\n",
    "    (92, 'Pakistan'),\n",
    "    (880, 'Bangladesh'),\n",
    "    (234, 'Nigeria'),\n",
    "    (7, 'Russia'),\n",
    "    (81, 'Japan')\n",
    "]\n",
    "country_code = {country: code for code, country in DIAL_CODES}\n",
    "print(country_code)\n",
    "country_code_lower_66 = {code: country.upper() for country, code in country_code.items() \n",
    " if code < 66}\n",
    "print(country_code_lower_66)"
   ]
  },
  {
   "cell_type": "markdown",
   "metadata": {},
   "source": [
    "### Overview of Common Mapping Methods\n",
    "mapping에 적용되는 함수는 매우 다양하다. "
   ]
  },
  {
   "cell_type": "code",
   "execution_count": 28,
   "metadata": {},
   "outputs": [
    {
     "data": {
      "text/plain": [
       "1"
      ]
     },
     "execution_count": 28,
     "metadata": {},
     "output_type": "execute_result"
    }
   ],
   "source": [
    "dic = {'a': 1, 'b': 2, 'c': 3, 'd': 4}\n",
    "dic.pop('a')"
   ]
  },
  {
   "cell_type": "code",
   "execution_count": 29,
   "metadata": {},
   "outputs": [
    {
     "data": {
      "text/plain": [
       "{'b': 2, 'c': 3, 'd': 4}"
      ]
     },
     "execution_count": 29,
     "metadata": {},
     "output_type": "execute_result"
    }
   ],
   "source": [
    "dic"
   ]
  },
  {
   "cell_type": "code",
   "execution_count": 31,
   "metadata": {},
   "outputs": [],
   "source": [
    "dic = {'a': 1, 'b': 2, 'c': 3, 'd': 4}\n",
    "del dic['a']"
   ]
  },
  {
   "cell_type": "code",
   "execution_count": 32,
   "metadata": {},
   "outputs": [
    {
     "data": {
      "text/plain": [
       "{'b': 2, 'c': 3, 'd': 4}"
      ]
     },
     "execution_count": 32,
     "metadata": {},
     "output_type": "execute_result"
    }
   ],
   "source": [
    "dic"
   ]
  },
  {
   "cell_type": "code",
   "execution_count": 34,
   "metadata": {},
   "outputs": [
    {
     "data": {
      "text/plain": [
       "('d', 4)"
      ]
     },
     "execution_count": 34,
     "metadata": {},
     "output_type": "execute_result"
    }
   ],
   "source": [
    "dic.popitem()"
   ]
  },
  {
   "cell_type": "code",
   "execution_count": 35,
   "metadata": {},
   "outputs": [
    {
     "data": {
      "text/plain": [
       "{'b': 2, 'c': 3}"
      ]
     },
     "execution_count": 35,
     "metadata": {},
     "output_type": "execute_result"
    }
   ],
   "source": [
    "dic"
   ]
  },
  {
   "cell_type": "code",
   "execution_count": 38,
   "metadata": {},
   "outputs": [
    {
     "data": {
      "text/plain": [
       "{}"
      ]
     },
     "execution_count": 38,
     "metadata": {},
     "output_type": "execute_result"
    }
   ],
   "source": [
    "dic.clear()\n",
    "dic"
   ]
  },
  {
   "cell_type": "code",
   "execution_count": 41,
   "metadata": {},
   "outputs": [
    {
     "name": "stdout",
     "output_type": "stream",
     "text": [
      "dict_items([('a', 1), ('b', 2), ('c', 3), ('d', 4)])\n",
      "dict_keys(['a', 'b', 'c', 'd'])\n",
      "dict_values([1, 2, 3, 4])\n"
     ]
    }
   ],
   "source": [
    "dic = {'a': 1, 'b': 2, 'c': 3, 'd': 4}\n",
    "print(dic.items())\n",
    "print(dic.keys())\n",
    "print(dic.values())"
   ]
  },
  {
   "cell_type": "code",
   "execution_count": 42,
   "metadata": {},
   "outputs": [
    {
     "data": {
      "text/plain": [
       "{'eric': None, 'jason': None, 'jinny': None, 'joel': None, 'luna': None}"
      ]
     },
     "execution_count": 42,
     "metadata": {},
     "output_type": "execute_result"
    }
   ],
   "source": [
    "keylist = ['eric', 'jason', 'jinny', 'joel', 'luna']\n",
    "x = dict.fromkeys(keylist)\n",
    "x"
   ]
  },
  {
   "cell_type": "code",
   "execution_count": 45,
   "metadata": {},
   "outputs": [
    {
     "data": {
      "text/plain": [
       "{'eric': '화이팅!',\n",
       " 'jason': '화이팅!',\n",
       " 'jinny': '화이팅!',\n",
       " 'joel': '화이팅!',\n",
       " 'luna': '화이팅!'}"
      ]
     },
     "execution_count": 45,
     "metadata": {},
     "output_type": "execute_result"
    }
   ],
   "source": [
    "y = dict.fromkeys(keylist, '화이팅!')\n",
    "y"
   ]
  },
  {
   "cell_type": "markdown",
   "metadata": {},
   "source": [
    "`d.update(m, [**kargs])`에 대하여 살펴보면, m은 mapping type이 될 수도 있고(keys method를 가질 경우), 각 항목이 (key, value) 쌍인 iterable 객체일 수도 있고, keyward arguments일 수도있다. Python mapping 생성자는 내부적으로 update의 logic을 사용한다. 즉, mapping 형은 다른 형태의 mapping으로부터 생성될 수도 있고, (key, value) 쌍들로 구성된 다른 iterable 객체로부터 만들어질 수도 있다. "
   ]
  },
  {
   "cell_type": "code",
   "execution_count": 10,
   "metadata": {},
   "outputs": [
    {
     "data": {
      "text/plain": [
       "{'one': 1, 'two': 2, 'three': 3, 'four': 4}"
      ]
     },
     "execution_count": 10,
     "metadata": {},
     "output_type": "execute_result"
    }
   ],
   "source": [
    "d = {'one': 1, 'two': 2, 'three': 3}\n",
    "d.update(four=4)\n",
    "d"
   ]
  },
  {
   "cell_type": "code",
   "execution_count": 14,
   "metadata": {},
   "outputs": [
    {
     "data": {
      "text/plain": [
       "{'one': 4, 'two': 2, 'three': 4, 'four': 4}"
      ]
     },
     "execution_count": 14,
     "metadata": {},
     "output_type": "execute_result"
    }
   ],
   "source": [
    "d.update(one=4, three=4)\n",
    "d"
   ]
  },
  {
   "cell_type": "code",
   "execution_count": 16,
   "metadata": {},
   "outputs": [
    {
     "data": {
      "text/plain": [
       "{'one': 5, 'two': 2, 'three': 2, 'four': 4}"
      ]
     },
     "execution_count": 16,
     "metadata": {},
     "output_type": "execute_result"
    }
   ],
   "source": [
    "d.update({'one': 5, 'three': 2})\n",
    "d"
   ]
  },
  {
   "cell_type": "code",
   "execution_count": 17,
   "metadata": {},
   "outputs": [
    {
     "data": {
      "text/plain": [
       "{'one': 5, 'two': 3, 'three': 3, 'four': 4}"
      ]
     },
     "execution_count": 17,
     "metadata": {},
     "output_type": "execute_result"
    }
   ],
   "source": [
    "d.update([('two', 3), ('three', 3)])\n",
    "d"
   ]
  },
  {
   "cell_type": "code",
   "execution_count": 18,
   "metadata": {},
   "outputs": [
    {
     "data": {
      "text/plain": [
       "{'one': 1, 'two': 2, 'three': 3, 'four': 4}"
      ]
     },
     "execution_count": 18,
     "metadata": {},
     "output_type": "execute_result"
    }
   ],
   "source": [
    "d.update(zip(['one', 'two'], [1, 2]))\n",
    "d"
   ]
  },
  {
   "cell_type": "markdown",
   "metadata": {},
   "source": [
    "### Handling missing keys with setdefault\n",
    "k가 key로 존재하지 않을 때, `d[k]`를 실행시키면 에러를 발생시킨다. `d.get(k, default)`가 대안이 될 수 있지만, 값을 수정해야 할 경우에 이것은 좋은 방법이 아니다. 다음은 값을 update하기 위해 `d.get()` method를 사용해야 할 경우의 예시이다. "
   ]
  },
  {
   "cell_type": "code",
   "execution_count": 20,
   "metadata": {},
   "outputs": [
    {
     "name": "stdout",
     "output_type": "stream",
     "text": [
      "[3, 4, 1, 3, 2, 2, 5, 4, 4, 1, 3, 4, 5, 2, 2, 3, 1, 3, 4, 4]\n",
      "1 [2, 9, 16]\n",
      "2 [4, 5, 13, 14]\n",
      "3 [0, 3, 10, 15, 17]\n",
      "4 [1, 7, 8, 11, 18, 19]\n",
      "5 [6, 12]\n"
     ]
    }
   ],
   "source": [
    "import random\n",
    "numlist = [random.randint(1, 5) for _ in range(20)]\n",
    "print(numlist)\n",
    "numdic = dict()\n",
    "for index, num in enumerate(numlist):\n",
    "    index_list = numdic.get(num, [])\n",
    "    index_list.append(index)\n",
    "    numdic[num] = index_list\n",
    "\n",
    "for num in sorted(numdic):\n",
    "    print(num, numdic[num])"
   ]
  },
  {
   "cell_type": "markdown",
   "metadata": {},
   "source": [
    "위에서 해당 key값이 존재하는지 찾고, 새로운 index를 append하고, update한 list를 다시 해당 key값의 value로 할당시키는 이 세 줄의 코드를 `dict.setdefault`를 이용하면 한 줄로 줄일 수 있다. "
   ]
  },
  {
   "cell_type": "code",
   "execution_count": 21,
   "metadata": {},
   "outputs": [
    {
     "name": "stdout",
     "output_type": "stream",
     "text": [
      "[4, 2, 4, 2, 2, 3, 1, 2, 3, 2, 1, 3, 1, 2, 5, 3, 4, 3, 1, 2]\n",
      "1 [6, 10, 12, 18]\n",
      "2 [1, 3, 4, 7, 9, 13, 19]\n",
      "3 [5, 8, 11, 15, 17]\n",
      "4 [0, 2, 16]\n",
      "5 [14]\n"
     ]
    }
   ],
   "source": [
    "import random\n",
    "numlist = [random.randint(1, 5) for _ in range(20)]\n",
    "print(numlist)\n",
    "numdic = dict()\n",
    "for index, num in enumerate(numlist):\n",
    "    numdic.setdefault(num, []).append(index)\n",
    "\n",
    "for num in sorted(numdic):\n",
    "    print(num, numdic[num])"
   ]
  },
  {
   "cell_type": "markdown",
   "metadata": {},
   "source": [
    "setdefault는 키-값 쌍 추가만 할 수 있고, 이미 들어있는 키의 값은 수정할 수 없다. 수정을 하고싶을 경우에는 update를 사용하면 된다."
   ]
  },
  {
   "cell_type": "markdown",
   "metadata": {},
   "source": [
    "### Mappings with Flexible key lookup\n",
    "때때로, dictionary 내에 key 값이 존재하지 않을 때, 기존에 설정한 값을 반환하는 것이 편할 때가 있다. 이에 대하여 2가지 방법이 존재한다. 첫 번째는 일반 dictionary 대신 defaultdict를 사용하는 것이고, 두 번째 방법은 dictionary 혹은 다른 mapping 자료형을 상속받아 `__missing__` method를 추가하는 것이다. "
   ]
  },
  {
   "cell_type": "markdown",
   "metadata": {},
   "source": [
    "* <b>defaultdict: Another take on missing keys</b>  \n",
    "defaultdict는 찾고자하는 key가 없을 때, 그 항목을 만들어내도록 설정되어있다. 자세히 말하면, `__getitem__`에 존재하지 않는 key가 인자로 들어오면 default 값을 만들어내기 위한 callable 객체를 불러오는 방식으로 작동하게 되고, 이는 defaultdict를 만들 때 인자로 설정한다.(설정해주지 않으면, key가 없을 때 평소와 같이 KeyError를 발생시킨다.) 그리고 이 함수는 default_factory라고 부른다. "
   ]
  },
  {
   "cell_type": "markdown",
   "metadata": {},
   "source": [
    "Cf) callable이란?  \n",
    "어떤 객체를 호출할 수 있다는 의미는 그 객체에 함수 인자를 ()로 감싸서 넘길 수 있다는 것을 의미한다. 모든 함수는 객체지만, 모든 객체가 함수는 아니다. 하지만 함수가 아닌 객체에도 `__call__` method를 추가하여 호출 가능하게 만들 수 있다. "
   ]
  },
  {
   "cell_type": "code",
   "execution_count": 22,
   "metadata": {},
   "outputs": [
    {
     "name": "stdout",
     "output_type": "stream",
     "text": [
      "[4, 2, 5, 4, 2, 4, 3, 3, 5, 4, 1, 2, 3, 3, 4, 5, 1, 5, 3, 3]\n",
      "1 [10, 16]\n",
      "2 [1, 4, 11]\n",
      "3 [6, 7, 12, 13, 18, 19]\n",
      "4 [0, 3, 5, 9, 14]\n",
      "5 [2, 8, 15, 17]\n"
     ]
    }
   ],
   "source": [
    "import random\n",
    "import collections\n",
    "numlist = [random.randint(1, 5) for _ in range(20)]\n",
    "print(numlist)\n",
    "numdic = collections.defaultdict(list)\n",
    "for index, num in enumerate(numlist):\n",
    "    numdic[num].append(index)\n",
    "\n",
    "for num in sorted(numdic):\n",
    "    print(num, numdic[num])"
   ]
  },
  {
   "cell_type": "markdown",
   "metadata": {},
   "source": [
    "그런데, default_factory는 `__getitem__`에 대한 default 값을 반환하고, 다른 method에는 영향을 미치지 않는다. 즉, defaultdict `dd`에 대하여 k가 존재하지 않는 key일 때, `dd[k]`는 default_factory를 호출하지만 `dd.get(k)`는 `None`을 반환한다.  \n",
    "default_factory가 호출되는 방식은 모든 표준 mapping type이 가지고 있는 `__missing__` method에 의해서이다. "
   ]
  },
  {
   "cell_type": "markdown",
   "metadata": {},
   "source": [
    "* __The__ `__missing__` __Method__  \n",
    "mapping이 존재하지 않는 key를 다루는 방법으로, 기본 dictionary class에는 정의되어있지 않다. 기본 dictionary class를 상속받아, `__missing__` method를 정의해주면, key가 존재하지 않을 때 `dict.__getitem__`이 KeyError를 발생시키지 않고, `__missing__`을 호출한다. 앞에서 default_factory가 `__getitem__`에 의해서만 호출된 이유는 `__missing__` method가 `__getitem__`에 의해서만 호출되기 때문이다. "
   ]
  },
  {
   "cell_type": "code",
   "execution_count": 23,
   "metadata": {},
   "outputs": [],
   "source": [
    "class StrKeyDict0(dict):\n",
    "    def __missing__(self, key):\n",
    "        if isinstance(key, str):\n",
    "            raise KeyError(key)\n",
    "        return self[str(key)]\n",
    "    def get(self, key, default=None):\n",
    "        try:\n",
    "            return self[key]\n",
    "        except KeyError:\n",
    "            return default\n",
    "    def __contains__(self, key):\n",
    "        return key in self.keys() or str(key) in self.keys()"
   ]
  },
  {
   "cell_type": "markdown",
   "metadata": {},
   "source": [
    "### Variations of dict\n",
    "collections module에 포함된 다양한 mapping 형은 다음과 같다. \n",
    "* collections.OrderedDict  \n",
    "포함된 순서대로 key를 유지한다. `popitem` method를 적용하면 마지막 항목을 꺼내주고, my_odict.popitem(last=False)는 첫 번째 추가됐던 항목을 꺼매준다.  \n",
    "* collections.ChainMap  \n",
    "여러 mapping을 빠르게 연결하여 단일 단위로 처리될 수 있게 해준다. 새로운 딕셔너리를 만들고 `update()` 호출을 여러 번 실행하는 것보다 훨씬 빠르다. key 검색은 해당 key를 찾을 때까지 순서대로 이루어지며, update와 delete는 첫 번째 mapping에만 이루어진다. \n",
    "* collections.Counter  \n",
    "이를 이용하면 편리하고 빠르게 해시 가능한 객체(key)의 개수(value)를 셀 수 있다. \n",
    "* collections.UserDict  \n",
    "dictionary 객체를 감싸고있다. attribute로 접근할 수 있어서 조작이 편리하다. "
   ]
  },
  {
   "cell_type": "markdown",
   "metadata": {},
   "source": [
    "### Subclassing UserDict\n",
    "새로운 mapping type을 만들 때, dict보다 UserDict를 확장하는 것이 더 편리하다. UserDict에서는 수정 없이 사용할 수 있는 method를 dict에서는 수정 후 사용해야하는 경우가 있기 때문이다. (기본 dict에서는 실행의 효율성을 위하여 UserDict와 다르게 짜여진 부분이 있다) "
   ]
  },
  {
   "cell_type": "markdown",
   "metadata": {},
   "source": [
    "UserDict는 dict를 상속받지 않지만, 내부적으로 data라는 변수에 dict를 가지고 있다. 예시를 통해, 앞에서 dict를 상속받아 만든 StrKeyDict0와 UserDict를 상속받아 만든 StrKeyDict를 비교해보자. "
   ]
  },
  {
   "cell_type": "code",
   "execution_count": 24,
   "metadata": {},
   "outputs": [],
   "source": [
    "class StrKeyDict(dict):\n",
    "    def __missing__(self, key):\n",
    "        if isinstance(key, str):\n",
    "            raise KeyError(key)\n",
    "        return self[str(key)]\n",
    "    def __contains__(self, key):\n",
    "        return str(key) in self.data\n",
    "    def __setitem__(self, key, item):\n",
    "        self.data[str(key)] = item"
   ]
  },
  {
   "cell_type": "markdown",
   "metadata": {},
   "source": [
    "UserDict가 MutableMapping을 상속받기 때문에, 이외 다른 method는 UserDict, MutableMapping, Mapping에서 상속된다. 다음은 그 중에서 알아두면 좋을 method를 나열한 것이다. \n",
    "* MutableMapping.update  \n",
    "직접적으로 호출되기도 하고, `__init__` 내에서 다른 mapping, 혹은 iterable 객체, 혹은 keyword arguments로부터 새로운 mapping을 생성할 때 사용되기도 한다. 항목을 추가할 때, `self[key] = value`를 사용하므로 결국 `__setitem__`을 사용하게 된다.  \n",
    "* Mapping.get  \n",
    "`StrKeyDict0`에서는 `__getitem__`과 일관성을 유지하기 위해 `get`을 수정했지만, `StrKeyDict`에서는 Mapping.get을 상속받기 때문에 기존에 이미 `StrKeyDict0`와 같은 코드를 가지고있어 수정이 불필요하다. "
   ]
  },
  {
   "cell_type": "markdown",
   "metadata": {},
   "source": [
    "+) [정규표현식 re module에 관한 설명](https://nachwon.github.io/regular-expressions/)"
   ]
  }
 ],
 "metadata": {
  "kernelspec": {
   "display_name": "Python 3",
   "language": "python",
   "name": "python3"
  },
  "language_info": {
   "codemirror_mode": {
    "name": "ipython",
    "version": 3
   },
   "file_extension": ".py",
   "mimetype": "text/x-python",
   "name": "python",
   "nbconvert_exporter": "python",
   "pygments_lexer": "ipython3",
   "version": "3.8.2"
  }
 },
 "nbformat": 4,
 "nbformat_minor": 4
}

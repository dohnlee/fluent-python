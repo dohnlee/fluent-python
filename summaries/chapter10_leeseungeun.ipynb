{
 "cells": [
  {
   "cell_type": "markdown",
   "metadata": {},
   "source": [
    "# 시퀀스 해킹, 해시, 슬라이드\n",
    "* 시퀀스형 기능\n",
    "    * 기본 시퀀스 프로토콜: ```__len__()```과 ```__getitem__()``` 메서드\n",
    "    * 여러 항목을 가진 객체를 안전하게 표현\n",
    "    * 슬라이싱을 지원해서 새로운 벡터 객체 생성\n",
    "    * 포함된 요소 값을 모두 고려한 집합 해싱\n",
    "    * 커스터마이즈된 포맷 언어 확장\n",
    "* 이외의 기능\n",
    "    * ```__getattr__()```메서드로 동적 속성 접근 구현\n",
    "    * 프로토콜을 비공식 인터페이스로 이용\n",
    "        * 프로토콜은 덕 타이핑 관련\n",
    "- - -\n",
    "* 덕 타이핑 (Duck Typing)\n",
    "    * 동적 타이핑의 한 종류\n",
    "    * 객체의 변수 및 메소드의 집합이 객체의 타입을 결정\n",
    "    > *\"만약 어떤 새가 오리처럼 걷고, 헤엄치고, 꽥꽥거리는 소리를 낸다면 나는 그 새를 오리라고 부를 것이다.\"*\n",
    "    * [출처](https://ko.wikipedia.org/wiki/%EB%8D%95_%ED%83%80%EC%9D%B4%ED%95%91)\n",
    "* 정적 타이핑 v.s. 동적 타이핑\n",
    "    * 자료형 체계\n",
    "        * 계산될 값을 분류하여 특정한 종류의 프로그램 오류가 일어나지 않음을 증명하는 계산 가능한 방법\n",
    "    * 자료형 검사\n",
    "        * 프로그램이 자료형의 제약 조건을 지키는지 검증\n",
    "        * 분류\n",
    "            * 컴파일 타임 vs 런타임\n",
    "                * 컴파일 타임\n",
    "                    * 컴파일러에 의해 수행되는 동작\n",
    "                    * 구문 분석, 다양한 종류의 의미 분석(타입 검사 등), 코드 생성\n",
    "                * 런타임\n",
    "                    *  컴퓨터 과학에서 컴퓨터 프로그램이 실행되고 있는 동안의 동작\n",
    "                * [컴파일 타임 관련 출처](https://ko.wikipedia.org/wiki/%EC%BB%B4%ED%8C%8C%EC%9D%BC_%ED%83%80%EC%9E%84)\n",
    "                * [런타임 관련 출처](https://ko.wikipedia.org/wiki/%EB%9F%B0%ED%83%80%EC%9E%84)\n",
    "            * 정적 타이핑\n",
    "                * 컴파일 타임 동안 자료형 검사 수행\n",
    "                * e.g. C, C++, Java, Scala\n",
    "                ```\n",
    "                // Java\n",
    "                String hello = \"Hello World!\";\n",
    "                \n",
    "                // Scala\n",
    "                val hello = \"Hello World!\"\n",
    "                ```\n",
    "            * 동적 타이핑\n",
    "                * 런타임 동안 자료형 검사 수행\n",
    "                * e.g. Python, Javascript, PHP\n",
    "                ```\n",
    "                // Javascript\n",
    "                var hello = 'Hello World!'\n",
    "                \n",
    "                # Python\n",
    "                hello = 'Hello World!'\n",
    "                ```\n",
    "    * [출처](https://ko.wikipedia.org/wiki/%EC%9E%90%EB%A3%8C%ED%98%95_%EC%B2%B4%EA%B3%84)\n",
    "- - -\n",
    "## 10.1 Vector: 사용자 정의 시퀀스형\n",
    "* 상속이 아닌 구성을 이용해 벡터 구현\n",
    "    * 요소들을 실수형 배열에 저장\n",
    "    * 불변 시퀀스처럼 작동하게 필요한 메서드 구현\n",
    "- - - \n",
    "* 상속\n",
    "    * 사전에(Built-in) 정의되어 있는 클래스의 속성이나 메서드를 새로 정의하고자 하는 클래스에서 그대로 내려 받아 속성이나 메서드를 재사용하는 객체지향의 대표적 기술\n",
    "    * 사전에 정의된 클래스(부모클래스라 함)에는 없는 새로운 속성이나 메소드를 추가(확장)할 수 있음\n",
    "    * 필요에 따라 속성이나 메서드를 재정의(수정) 할 수 있음\n",
    "    * 출처: 김기정 강사님 강의자료 "
   ]
  },
  {
   "cell_type": "code",
   "execution_count": 8,
   "metadata": {},
   "outputs": [],
   "source": [
    "class  Sqlite:\n",
    "    \n",
    "    sql = 'SELECT * FROM {table} WHERE {column} = ?'\n",
    "    \n",
    "    def select(self, params):\n",
    "        exec_sql = self.sql.format(**params)\n",
    "        print(exec_sql)\n",
    "        \n",
    "class SqliteEx(Sqlite):\n",
    "    \n",
    "    sql = 'SELECT * FROM {table} WHERE {conditions}'\n",
    "    \n",
    "    def override_select(self, params):\n",
    "        exec_sql = self.sql.format(**params)\n",
    "        print(exec_sql)"
   ]
  },
  {
   "cell_type": "code",
   "execution_count": 9,
   "metadata": {},
   "outputs": [
    {
     "name": "stdout",
     "output_type": "stream",
     "text": [
      "SELECT * FROM presentations WHERE name = 'luna'\n"
     ]
    }
   ],
   "source": [
    "s = SqliteEx()\n",
    "s.override_select({'table': 'presentations', 'conditions': \"name = 'luna'\"})"
   ]
  },
  {
   "cell_type": "markdown",
   "metadata": {},
   "source": [
    "## 10.2. Vector 버전 \\#1: Vector2d 호환\n",
    "* ```repr()``` 디버깅에 사용되어 길어질 경우 생략 기호로 축약할 것을 권장\n",
    "    * 제한된 길이로 표현하기 위해서는 ```reprlib``` 모듈 사용\n",
    "* 생성자가 호환되지 않는 경우 상속 받는 것은 좋지 않음\n",
    "\n",
    "\n",
    "## 10.3 프로토콜과 덕 타이핑\n",
    "* 프로토콜 (in oop)\n",
    "    * interfaec or trait\n",
    "    * 인터페이스\n",
    "        * 인스턴스 생성이 아닌 표준 규약을 목적으로 함\n",
    "        * 상수와 추상 메서드로 이루어짐\n",
    "            * 추상 메서드는 선언부만 있는 메서드\n",
    "            * 상속 받는 클래스는 추상 메서드를 구현해야 함\n",
    "        * 다중 상속이 안 되는 프로그래밍 언어에서 유용 (e.g. Java)\n",
    "            * 여러 인터페이스 구현은 가능하기 때문\n",
    "        * c.f. 추상 클래스\n",
    "            * 규약의 역할을 한다는 점에서는 인터페이스와 비슷\n",
    "            * 추상 메서드를 포함\n",
    "        * 출처: 김기정 강사님 강의자료\n",
    "        * [출처](https://en.wikipedia.org/wiki/Interface_(computing)#In_object-oriented_languages)\n",
    "    * [출처](https://en.wikipedia.org/wiki/Protocol_(object-oriented_programming))\n",
    "* 파이썬 시퀀스 프로토콜\n",
    "    * ```__len__()```과 ```__getitem__()``` 동반\n",
    "    * 필요한 메서드를 제공함으로써 해당 자료형처럼 동작해 그 자료형으로 볼 수 있음\n",
    "        * 덕 타이핑\n",
    "        * e.g. 시퀀스처럼 동작해 시퀀스\n",
    "                \n",
    "## 10.4 Vector 버전 \\#2: 슬라이스 가능한 시퀀스"
   ]
  },
  {
   "cell_type": "code",
   "execution_count": 16,
   "metadata": {},
   "outputs": [],
   "source": [
    "class MySeq:\n",
    "    def __getitem__(self, index):\n",
    "        return index"
   ]
  },
  {
   "cell_type": "code",
   "execution_count": 17,
   "metadata": {},
   "outputs": [
    {
     "data": {
      "text/plain": [
       "1"
      ]
     },
     "execution_count": 17,
     "metadata": {},
     "output_type": "execute_result"
    }
   ],
   "source": [
    "s = MySeq()\n",
    "s[1]"
   ]
  },
  {
   "cell_type": "code",
   "execution_count": 18,
   "metadata": {},
   "outputs": [
    {
     "data": {
      "text/plain": [
       "slice(1, 4, 2)"
      ]
     },
     "execution_count": 18,
     "metadata": {},
     "output_type": "execute_result"
    }
   ],
   "source": [
    "s[1:4:2]"
   ]
  },
  {
   "cell_type": "code",
   "execution_count": 19,
   "metadata": {},
   "outputs": [
    {
     "data": {
      "text/plain": [
       "(slice(1, 4, 2), slice(7, 9, None))"
      ]
     },
     "execution_count": 19,
     "metadata": {},
     "output_type": "execute_result"
    }
   ],
   "source": [
    "s[1:4:2, 7:9]"
   ]
  },
  {
   "cell_type": "code",
   "execution_count": 20,
   "metadata": {},
   "outputs": [
    {
     "data": {
      "text/plain": [
       "['__class__',\n",
       " '__delattr__',\n",
       " '__dir__',\n",
       " '__doc__',\n",
       " '__eq__',\n",
       " '__format__',\n",
       " '__ge__',\n",
       " '__getattribute__',\n",
       " '__gt__',\n",
       " '__hash__',\n",
       " '__init__',\n",
       " '__le__',\n",
       " '__lt__',\n",
       " '__ne__',\n",
       " '__new__',\n",
       " '__reduce__',\n",
       " '__reduce_ex__',\n",
       " '__repr__',\n",
       " '__setattr__',\n",
       " '__sizeof__',\n",
       " '__str__',\n",
       " '__subclasshook__',\n",
       " 'indices',\n",
       " 'start',\n",
       " 'step',\n",
       " 'stop']"
      ]
     },
     "execution_count": 20,
     "metadata": {},
     "output_type": "execute_result"
    }
   ],
   "source": [
    "dir(slice)"
   ]
  },
  {
   "cell_type": "code",
   "execution_count": 21,
   "metadata": {},
   "outputs": [
    {
     "name": "stdout",
     "output_type": "stream",
     "text": [
      "Help on method_descriptor:\n",
      "\n",
      "indices(...)\n",
      "    S.indices(len) -> (start, stop, stride)\n",
      "    \n",
      "    Assuming a sequence of length len, calculate the start and stop\n",
      "    indices, and the stride length of the extended slice described by\n",
      "    S. Out of bounds indices are clipped in a manner consistent with the\n",
      "    handling of normal slices.\n",
      "\n"
     ]
    }
   ],
   "source": [
    "help(slice.indices)"
   ]
  },
  {
   "cell_type": "markdown",
   "metadata": {},
   "source": [
    "> 길이가 len인 시퀀스 S가 나타내는 확장된 슬라이스의 start와 stop 인덱스 및 stride 길이를 계산한다. 경계를 벗어난 인덱스는 일반적인 슬라이스를 처리하는 방법과 동일하게 잘라낸다.\n",
    "\n",
    "\n",
    "* ```slice.indices```\n",
    "    * start, stop, stride로 구성된 튜플 생성\n",
    "    * start, stop, stride는 0 또는 양수를 가짐\n",
    "    * ```slice```인수 받을 때 메서드 구현해야 할 수 있음\n",
    "* ```isinstance()``` \n",
    "    * 이를 사용하면 객체지향설계가 잘못되었다는 것을 나타낼 수 있음\n",
    "    * 단 ```__getitem__()```에서 슬라이스 처리하는 경우에는 정당화 가능\n",
    "    * ```ABC``` 사용하는 경우 확장성 있음 (추후 상술) \n",
    "    \n",
    "## 10.5 Vector 버전 \\#3: 동적 속성 접근\n",
    "* ```__getattr__()```\n",
    "    * ```obj.x```표현식 주어질 경우 ```obj```의 ```x``` 검색 후 ```obj.__class__```에서 검색\n",
    "    * 이후에는 상속 그래프 따라 계속 올라감\n",
    "    * 그래도 못 찾을 경우 ```__getattr__()``` 호출\n",
    "    * 위와 같은 동작 때문에 원하는 결과와 실제 결과가 다를 수 있음\n",
    "        * ```__setattr__()```구현이 필요\n",
    "        * 벡터 요소 변경을 허용하고 싶을 경우 ```__setitem__()```구현 필요\n",
    "* ```super()```\n",
    "    * 슈퍼 클래스의 메서드에 동적으로 접근할 수 있는 방법 제공\n",
    "    * 참고로 파이썬은 다중 상속 지원 (Java는 다중 상속 지원 안 함)\n",
    "    \n",
    "## 10.6 Vector 버전 \\#4: 해싱 및 더 빠른 ==\n",
    "* 연속적으로 ^(XOR) 연산자를 적용해 요소의 해시 계산하기 위해서 ```reduce()```사용\n",
    "    * XOR 연산: 두 명제 중 하나만 참일 때 참\n",
    "    * ```reduce(<함수>, <반복형>, <초깃값>)```\n",
    "        * 초기값은 시퀀스가 비어 있을 때 사용\n",
    "        * ```functools```에 위치\n",
    "        * ```operator``` 모듈 사용 시 람다 사용하지 않아도 됨\n",
    "    * ```Vector.__hash__()```는 맵 리듀스의 예\n",
    "        * 맵 리듀스   \n",
    "        ![map reduce](../images/chap10_map_reduce.png)   \n",
    "* ```map()```\n",
    "    * python2에서는 결과 리스트를 새로 생성해 효율 떨어짐\n",
    "    * python3에서는 lazy한 (필요할 때) 연산을 하는 제너레이터 생성\n",
    "* ```all()```\n",
    "    * 리듀스 함수의 하나\n",
    "    * 요소 간 비교가 모두 ```True```일 때만 ```True``` 반환\n",
    "* ```zip()```\n",
    "    * 반복형에서 나온 항목들을 튜플로 묶어 두 개 이상의 반복형을 병렬로 반복하기 쉽게 해줌\n",
    "    * 가장 짧은 피연산자에서 멈춰 길이 검사가 필요함\n",
    "* ```enumerate()```\n",
    "    * 인덱스 변수 조작할 필요 없음\n",
    "    \n",
    "## 10.7 Vector 버전 \\#5: 포매팅\n",
    "* 포맷 명시 간이 언어 확장 시 내장 자료형에서 지원하는 포맷 코드 다른 용도로 사용하는 것 **지양**\n"
   ]
  },
  {
   "cell_type": "code",
   "execution_count": 24,
   "metadata": {},
   "outputs": [],
   "source": [
    "import math\n",
    "import reprlib\n",
    "import numbers\n",
    "import operator\n",
    "import functools\n",
    "from array import array\n",
    "\n",
    "\n",
    "class Vector:\n",
    "    typecode = 'd'\n",
    "    shortcut_names = 'xyzt'\n",
    "    \n",
    "    def __init__(slef, components):\n",
    "        self._components = array(self, typecode, components)\n",
    "        \n",
    "    def __iter__(self):\n",
    "        return iter(slef._components)\n",
    "    \n",
    "    def __repr__(self):\n",
    "        components = reprlib.repr(self._components)\n",
    "        components = components[components.find('['):-1]\n",
    "        return 'Vector({})'.format(components)\n",
    "    \n",
    "    def __str__(self):\n",
    "        return str(tuple(self))\n",
    "    \n",
    "    def __bytes__(self):\n",
    "        return (bytes([ord(self.typecode)]) + bytes(self._components))\n",
    "    \n",
    "    def __eq__(self, other):\n",
    "        return len(self) == len(other) and all(a == b for a, b in zip(self, other))\n",
    "    \n",
    "    def __hash__(self):\n",
    "        hashes = map(hash, self._components)\n",
    "        return functools.reduce(operator.xor, hashes)\n",
    "    \n",
    "    def __abs__(self):\n",
    "        return math.sqrt(sum(x * x for x in self))\n",
    "    \n",
    "    def __bool__(self):\n",
    "        return bool(abs(self))\n",
    "    \n",
    "    def __len__(self):\n",
    "        return len(self._components)\n",
    "    \n",
    "    def __getitem__(self, index):\n",
    "        cls = type(self)\n",
    "        if isinstance(index, slice):\n",
    "            return cls(self._components[index])\n",
    "        elif isinstance(index, numbers.Integral):\n",
    "            return self._components[index]\n",
    "        else:\n",
    "            msg = '{cls.__name__} indices must be integers'\n",
    "            raise TypeError(msg.format(cls=cls))\n",
    "    \n",
    "    def __getattr__(self, name):\n",
    "        cls = type(self)\n",
    "        if len(name) == 1:\n",
    "            pos = cls.shortcut_names.find(name)\n",
    "            if 0 <= pos < len(self._components):\n",
    "                return self._components[pos]\n",
    "        msg = '{.__name__!r} object has no attribute {!r}'\n",
    "        raise AttributeError(msg.format(cls, name))\n",
    "        \n",
    "    def __setattr__(self, name, value):\n",
    "        cls = type(self)\n",
    "        if len(name) == 1:\n",
    "            if name in cls.shortcut_names:\n",
    "                error = 'readonly attributes {attr_name!r}'\n",
    "            elif name.islower():\n",
    "                error = \"can't set attribute 'a' to 'z' in {cls_name!r}\"\n",
    "            else:\n",
    "                error = ''\n",
    "            if error:\n",
    "                msg = error.format(cls_name=cls.__name__, attr_name = name)\n",
    "                raise AttributeError(msg)\n",
    "        super().__setattr__(name, value)\n",
    "        \n",
    "    def angle(self, n):\n",
    "        r = math.sqrt(sum(x * x for x in self[n:]))\n",
    "        a = math.atan2(r, self[n - 1])\n",
    "        if (n == len(self) - 1) and (self[-1] < 0):\n",
    "            return math.pi * 2 - a\n",
    "        else:\n",
    "            return a\n",
    "    \n",
    "    def angles(slef):\n",
    "        return (self.angle(n) for n in range(1, len(slef)))\n",
    "    \n",
    "    def __format__(slef, fmt_spec=''):\n",
    "        if fmt_spec.endswith('h'):\n",
    "            fmt_spec = fmt_spec[:-1]\n",
    "            coords = itertools.chain([abs(self)], self.angles())\n",
    "            outer_fmt = '<{}>'\n",
    "        else:\n",
    "            coords = self\n",
    "            outer_fmt = '({})'\n",
    "        components = (format(c, fmt_spec) for c in coords)\n",
    "        return outer_fmt.format(', '.join(coponents))\n",
    "    \n",
    "    @classmethod\n",
    "    def frombytes(cls, octets):\n",
    "        typecode = chr(octets[0])\n",
    "        memv = memoryview(octets[1:], cast(typecode))\n",
    "        return cls(memv)"
   ]
  },
  {
   "cell_type": "markdown",
   "metadata": {},
   "source": [
    "## 읽을 거리\n",
    "* 다른 언어에서 ```reduce()```는 ```fold(), accumulate(), aggregate(), compress(), inject()``` 등의 함수로 제공\n",
    "* 프로토콜\n",
    "    * 비공식 인터페이스\n",
    "        * 공식 인터페이스는 컴파일러가 강제\n",
    "        * 일부만 구현 가능\n",
    "    * 동적 자료형 사용 언어는 프로토콜이 발전\n",
    "        * 런타임 시 자료형 검사\n",
    "* 덕 타이핑의 기원은 [사이트](http://bit.ly/1QOuTPx) 참고\n",
    "* ```__format__()``` 추가\n",
    "    * 클래스 전체를 보고자 하는 경우 사용되어 전체 출력\n",
    "    * 생략이 필요할 경우 포맷 명시 간이 언어 더 확장하여 사용\n",
    "* 2차원 배열의 요소인 배열의 특정 인덱스의 합을 구하는 가장 좋은 방법"
   ]
  },
  {
   "cell_type": "code",
   "execution_count": 28,
   "metadata": {},
   "outputs": [],
   "source": [
    "import operator\n",
    "import functools\n",
    "\n",
    "\n",
    "my_list = [[1, 2, 3], [40, 50, 60], [9, 8, 7]]"
   ]
  },
  {
   "cell_type": "code",
   "execution_count": 29,
   "metadata": {},
   "outputs": [
    {
     "data": {
      "text/plain": [
       "60"
      ]
     },
     "execution_count": 29,
     "metadata": {},
     "output_type": "execute_result"
    }
   ],
   "source": [
    "# python2.3 이전\n",
    "functools.reduce(operator.add, [sub[1] for sub in my_list], 0)"
   ]
  },
  {
   "cell_type": "code",
   "execution_count": 30,
   "metadata": {},
   "outputs": [
    {
     "data": {
      "text/plain": [
       "60"
      ]
     },
     "execution_count": 30,
     "metadata": {},
     "output_type": "execute_result"
    }
   ],
   "source": [
    "# python2.3 이후\n",
    "sum(sub[1] for sub in my_list)"
   ]
  }
 ],
 "metadata": {
  "kernelspec": {
   "display_name": "Python 3",
   "language": "python",
   "name": "python3"
  },
  "language_info": {
   "codemirror_mode": {
    "name": "ipython",
    "version": 3
   },
   "file_extension": ".py",
   "mimetype": "text/x-python",
   "name": "python",
   "nbconvert_exporter": "python",
   "pygments_lexer": "ipython3",
   "version": "3.5.2"
  }
 },
 "nbformat": 4,
 "nbformat_minor": 2
}

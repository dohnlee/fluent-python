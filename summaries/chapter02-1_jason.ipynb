{
 "cells": [
  {
   "cell_type": "markdown",
   "metadata": {},
   "source": [
    "# 시퀀스 배열\n",
    "### 시퀀스의 다양함을 알아야 하는 이유\n",
    "- 코드를 쓸데없이 다시 안 짜도 된다.\n",
    "- 시퀀스들의 공통적인 인터페이스는 우리가 존재하는 것과 미래의 시퀀스 타입을 적절히 서포트하고 다루는 API를 만들 수 있게 해준다.\n",
    "\n",
    "### Python 내장 시퀀스\n",
    "시퀀스는 두 가지 기준으로 나눠볼 수 있다.\n",
    "#### 1. 담을 수 있는 type의 종류  \n",
    "Container Sequence: `list`, `tuple` and `collections.deque` (다양한 타입을 담을 수 있음)  \n",
    "Flat Sequence: `str`, `bytes`, `bytearray`, `memoryview` and `array.array` (한가지 타입만 가능)  \n",
    "\n",
    "#### 2. 수정가능(Mutable)\n",
    "Mutable: `list`, `bytearray`, `array.array`, `collections.deque` and `memoryview`  \n",
    "Immutable: `tuple`, `str` and `bytes`  \n",
    "\n",
    "## List\n",
    "### List Comprehension and Generator Expressions\n",
    "list comporehension은 줄여서 <b>listcomp</b>로, generator expressions은 줄여서 <b>genexp</b>라고 한다.  \n",
    "\n",
    "#### listcomps\n",
    "장점: 읽기 좋고 종종 빠른 코드를 사용할 수 있다.  \n",
    "<br>\n",
    "<b>for loop</b>은 많은 일들을 하기 위해서 쓰이는 반면에,  \n",
    "<b>listcomps</b>는 새로운 `list`를 만들기 위해서만 사용된다.  \n",
    "그렇기 때문에 `list`를 만들 목적이 아니라면 `listcomp`를 사용하지 않는 것이 좋다!!"
   ]
  },
  {
   "cell_type": "code",
   "execution_count": 1,
   "metadata": {},
   "outputs": [
    {
     "data": {
      "text/plain": [
       "'my precious'"
      ]
     },
     "execution_count": 1,
     "metadata": {},
     "output_type": "execute_result"
    }
   ],
   "source": [
    "x = 'my precious'\n",
    "dummy = [x for x in 'ABC']\n",
    "x"
   ]
  },
  {
   "cell_type": "markdown",
   "metadata": {},
   "source": [
    "Python 3.x 버전에서는 위와 같이 문제가 없지만, Python 2.x 버전에서는 scope가 문제가 되는 일이 있었다. `listcomp`, `genexp`는 함수처럼 고유의 local scope을 가진다."
   ]
  },
  {
   "cell_type": "markdown",
   "metadata": {},
   "source": [
    "### LIstcomps vs map and filter\n",
    "#### map, filter, reduce?\n",
    "`map`: `list`의 element에 함수를 적용시켜 결과를 반환하고 싶을 때 사용.<br>\n",
    "`map` 함수의 구조 - `map(function, input)`<br>\n",
    "만약, 어떤 `list`의 원소를 제곱한 새로운 `list`를 만들고 싶다면, 다음과 같이 사용할 수 있다."
   ]
  },
  {
   "cell_type": "code",
   "execution_count": 2,
   "metadata": {},
   "outputs": [
    {
     "data": {
      "text/plain": [
       "[1, 4, 9, 16, 25]"
      ]
     },
     "execution_count": 2,
     "metadata": {},
     "output_type": "execute_result"
    }
   ],
   "source": [
    "items = [1, 2, 3, 4, 5]\n",
    "squared = list(map(lambda x: x**2, items))\n",
    "squared"
   ]
  },
  {
   "cell_type": "markdown",
   "metadata": {},
   "source": [
    "`filter`: `list`의 element에서 어떤 함수의 조건에 일치하는 값만 반환하고 싶을 때 사용.<br>\n",
    "`filter` 함수의 구조 - `filter(function, input)`<br>\n",
    "만약, 어떤 `list`에서 음수만 골라내서 새로운 `list`를 만들고 싶다면, 다음과 같이 사용할 수 있다."
   ]
  },
  {
   "cell_type": "code",
   "execution_count": 3,
   "metadata": {},
   "outputs": [
    {
     "data": {
      "text/plain": [
       "[-5, -4, -3, -2, -1]"
      ]
     },
     "execution_count": 3,
     "metadata": {},
     "output_type": "execute_result"
    }
   ],
   "source": [
    "items = range(-5, 5)\n",
    "less_than_zero = list(filter(lambda x:x<0, items))\n",
    "less_than_zero"
   ]
  },
  {
   "cell_type": "markdown",
   "metadata": {},
   "source": [
    "`map`과 `filter`는 Chap.5에서 다시 나온다!"
   ]
  },
  {
   "cell_type": "markdown",
   "metadata": {},
   "source": [
    "#### 뭐가 더 좋을까?\n",
    "- 읽기 좋다\n",
    "- 속도도 그렇게 뒤쳐지지도 않는다.\n",
    "<br>\n",
    "`listcomp`를 쓰면 이런 게 가능해진다."
   ]
  },
  {
   "cell_type": "code",
   "execution_count": 4,
   "metadata": {},
   "outputs": [
    {
     "data": {
      "text/plain": [
       "[('black', 'S'),\n",
       " ('black', 'M'),\n",
       " ('black', 'L'),\n",
       " ('white', 'S'),\n",
       " ('white', 'M'),\n",
       " ('white', 'L')]"
      ]
     },
     "execution_count": 4,
     "metadata": {},
     "output_type": "execute_result"
    }
   ],
   "source": [
    "colors = ['black', 'white']\n",
    "sizes = ['S', 'M', 'L']\n",
    "tshirts = [(color, size) for color in colors for size in sizes]\n",
    "tshirts"
   ]
  },
  {
   "cell_type": "markdown",
   "metadata": {},
   "source": [
    "하지만, `listcomp`는 `list`만 만들어 낼 수 있다. 다른 `sequence`를 만들어 내려면? `genexp`를 사용하자!"
   ]
  },
  {
   "cell_type": "markdown",
   "metadata": {},
   "source": [
    "### Generator Expressions\n",
    "`genexp`는 대괄호[] 대신 소괄호()를 사용한다.<br>\n",
    "`genexp`를 사용하면 메모리 사용량이 줄어든다!<br>\n",
    "다른 생성자를 넣기 위해 전체 리스트를 만드는 대신 iterator protocol을 사용해서 하나씩 넘겨주기 때문에.<br>"
   ]
  },
  {
   "cell_type": "code",
   "execution_count": 5,
   "metadata": {},
   "outputs": [
    {
     "name": "stdout",
     "output_type": "stream",
     "text": [
      "black S\n",
      "black M\n",
      "black L\n",
      "white S\n",
      "white M\n",
      "white L\n"
     ]
    }
   ],
   "source": [
    "colors = ['black', 'white']\n",
    "sizes = ['S', 'M', 'L']\n",
    "for tshirt in ('%s %s' % (c, s) for c in colors for s in sizes):\n",
    "    print(tshirt)"
   ]
  },
  {
   "cell_type": "markdown",
   "metadata": {},
   "source": [
    "## Tuple\n",
    "tuple은 두 가지 역할을 한다.\n",
    "- Immutable list로 사용\n",
    "- Field name이 없는 record로 사용\n",
    "\n",
    "### Tuple as records\n",
    "하나의 field에 대해 data를 가짐. 위치는 의미를 가짐.<br>\n",
    "그저 immutable list로 사용하면 양이나 순서가 중요하지 않을 수도 있지만, field의 collection으로 보면 item 수는 고정이고 순서는 항상 중요함."
   ]
  },
  {
   "cell_type": "code",
   "execution_count": 6,
   "metadata": {},
   "outputs": [
    {
     "name": "stdout",
     "output_type": "stream",
     "text": [
      "BRA/CE342567\n",
      "ESP/XDA205856\n",
      "USA/31195855\n",
      "USA\n",
      "BRA\n",
      "ESP\n"
     ]
    }
   ],
   "source": [
    "#example 2-7\n",
    "lax_coordinates = (33.9425, -118.408056)\n",
    "city, year, pop, chg, area = ('Tokyo', 2003, 32450, 0.66, 8014)\n",
    "#순서, 개수가 중요함\n",
    "traveler_ids = [('USA', '31195855'), ('BRA', 'CE342567'), ('ESP', 'XDA205856')]\n",
    "for passport in sorted(traveler_ids):\n",
    "    print('%s/%s' % passport)\n",
    "    #tuple을 분리된 field로 인식함\n",
    "    \n",
    "for country, _ in traveler_ids:\n",
    "    print(country)\n",
    "    #unpacking. _는 dummy variable"
   ]
  },
  {
   "cell_type": "markdown",
   "metadata": {},
   "source": [
    "### Tuple Unpacking\n",
    "개별적인 변수로 받는 법, 하나로 받는 법, 몇 개만 따로 받고 나머지는 한꺼번에 받는 법<br>"
   ]
  },
  {
   "cell_type": "code",
   "execution_count": 7,
   "metadata": {},
   "outputs": [
    {
     "name": "stdout",
     "output_type": "stream",
     "text": [
      "0 1 2 3 4\n",
      "0 1 2 3 4\n",
      "0 [1, 2] 3 4\n",
      "[0, 1] 2 3 4\n",
      "0 1 [2, 3, 4]\n"
     ]
    }
   ],
   "source": [
    "#1. 개별적인 변수로 받는 법\n",
    "a, b, c, d, e = range(5)\n",
    "print(a, b, c, d, e)\n",
    "#2. 하나로 받는 법\n",
    "a = range(5)\n",
    "print(*a)\n",
    "#3. 몇 개만 따로 받고 나머지는 한꺼번에 받는 법\n",
    "a, *body, c, d = range(5)\n",
    "print(a, body, c, d)\n",
    "*head, b, c, d = range(5)\n",
    "print(head, b, c, d)\n",
    "a, b, *rest = range(5)\n",
    "print(a, b, rest)"
   ]
  },
  {
   "cell_type": "code",
   "execution_count": 8,
   "metadata": {},
   "outputs": [
    {
     "ename": "SyntaxError",
     "evalue": "two starred expressions in assignment (<ipython-input-8-8847477ff9b4>, line 4)",
     "output_type": "error",
     "traceback": [
      "\u001b[0;36m  File \u001b[0;32m\"<ipython-input-8-8847477ff9b4>\"\u001b[0;36m, line \u001b[0;32m4\u001b[0m\n\u001b[0;31mSyntaxError\u001b[0m\u001b[0;31m:\u001b[0m two starred expressions in assignment\n"
     ]
    }
   ],
   "source": [
    "*a, *b, c = range(5)\n",
    "#*은 한개만 쓸 수 있다."
   ]
  },
  {
   "cell_type": "markdown",
   "metadata": {},
   "source": [
    "### Named Tuple\n",
    "``` Python\n",
    "from collections import namedtuple\n",
    "```\n",
    "`namedtuple`은 field이름과 class 이름이 붙은 tuple의 **subclass**를 만드는 함수.<br>\n",
    "이름은 class에 저장되기 때문에, tuple로서는 동일한 memory를 가진다. 인스턴스마다 '\\__dict\\__' 속성을 가지지 않으므로 일반 객체보다는 메모리를 덜 차지한다."
   ]
  },
  {
   "cell_type": "code",
   "execution_count": 9,
   "metadata": {},
   "outputs": [
    {
     "name": "stdout",
     "output_type": "stream",
     "text": [
      "City(name='Tokyo', country='JP', population=36.933, coordinates=(35.589722, 139.691667))\n",
      "36.933\n",
      "(35.589722, 139.691667)\n",
      "JP\n"
     ]
    }
   ],
   "source": [
    "#example 2-9\n",
    "from collections import namedtuple\n",
    "City = namedtuple('City', 'name country population coordinates') #field form 확인\n",
    "#subclass를 만들고\n",
    "tokyo = City('Tokyo', 'JP', 36.933, (35.589722, 139.691667))\n",
    "#객체화 한다.\n",
    "print(tokyo)\n",
    "print(tokyo.population)\n",
    "print(tokyo.coordinates)\n",
    "print(tokyo[1])"
   ]
  },
  {
   "cell_type": "markdown",
   "metadata": {},
   "source": [
    "`tuple`과 비교하여,<br>\n",
    "- 속성: \\_fields\n",
    "- Class method: \\_make(iterable) data를 받아서 `namedtuple`을 생성\n",
    "- Instance method: \\_asdict() display하기 좋은 `colletions.OrderedDict`을 return\n",
    "가 추가됨!"
   ]
  },
  {
   "cell_type": "markdown",
   "metadata": {},
   "source": [
    "### Tuple as Immutable Lists\n",
    "`tuple`은 추가나 삭제에 관련된 method를 제외하고 `list`의 모든 method를 지원한다.(단, \\__reversed\\__제외)<br>\n",
    "(table 2-1 참고)"
   ]
  },
  {
   "cell_type": "markdown",
   "metadata": {},
   "source": [
    "### Slicing\n",
    "모든 `sequence` type은 slicing을 지원한다.<br>\n",
    "#### 왜 last를 제외할까?\n",
    "1. slice의 길이를 알기 좋다. range(3), my_list[:3] -> 길이가 3\n",
    "2. 시작과 끝 범위가 주어지면 그냥 빼면 길이를 알 수 있다. len = end - start\n",
    "3. 두 부분으로 나눌 때(split) 범위가 겹치지 않는다. my_list[:x] | my_list[x:]\n",
    "\n",
    "#### Slice Object\n",
    "slice(start, end, step)<br>\n",
    "이런 꼴로 미리 slice object를 만들어놓고 사용할 수 있다. 구현을 할 때, 스프레드시트처럼 slice에 이름을 붙일 수 있어서 편하다."
   ]
  },
  {
   "cell_type": "code",
   "execution_count": 10,
   "metadata": {},
   "outputs": [
    {
     "name": "stdout",
     "output_type": "stream",
     "text": [
      "    $17.50   Pimoroni PiBrella                 \n",
      "     $4.95   6mm Tactile Switch x20            \n",
      "    $28.00   Panavise Jr. - PV-201             \n",
      "    $34.95   PiTFT Mini Kit 320x240            \n",
      " \n"
     ]
    }
   ],
   "source": [
    "#example 2-11\n",
    "invoice = \"\"\"\n",
    "0.....6.................................40........52...55........\n",
    "1909  Pimoroni PiBrella                     $17.50    3    $52.50\n",
    "1489  6mm Tactile Switch x20                 $4.95    2     $9.90\n",
    "1510  Panavise Jr. - PV-201                 $28.00    1    $28.00\n",
    "1601  PiTFT Mini Kit 320x240                $34.95    1    $34.95\n",
    "\"\"\"\n",
    "\n",
    "SKU = slice(0, 6)\n",
    "DESCRIPTION = slice(6, 40)\n",
    "UNIT_PRICE = slice(40, 52)\n",
    "QUANTITY = slice(52, 55)\n",
    "ITEM_TOTAL = slice(55, None)\n",
    "line_items = invoice.split('\\n')[2:]\n",
    "for item in line_items:\n",
    "    print(item[UNIT_PRICE], item[DESCRIPTION])"
   ]
  },
  {
   "cell_type": "markdown",
   "metadata": {},
   "source": [
    "#### Assigning to Slices\n",
    "할당에도 slice를 사용할 수 있다. 이런 것들이 가능하다."
   ]
  },
  {
   "cell_type": "code",
   "execution_count": 11,
   "metadata": {},
   "outputs": [
    {
     "name": "stdout",
     "output_type": "stream",
     "text": [
      "[0, 1, 2, 3, 4, 5, 6, 7, 8, 9]\n",
      "[0, 1, 20, 30, 5, 6, 7, 8, 9]\n",
      "[0, 1, 20, 30, 5, 8, 9]\n",
      "[0, 1, 20, 11, 5, 22, 9]\n",
      "[0, 1, 100, 22, 9]\n"
     ]
    }
   ],
   "source": [
    "l = list(range(10))\n",
    "print(l)\n",
    "\n",
    "l[2:5] = [20, 30]\n",
    "print(l)\n",
    "\n",
    "del l[5:7]\n",
    "print(l)\n",
    "\n",
    "l[3::2] = [11, 22]\n",
    "print(l)\n",
    "\n",
    "l[2:5] = [100]\n",
    "print(l)"
   ]
  },
  {
   "cell_type": "markdown",
   "metadata": {},
   "source": [
    "### Using + and * with Sequences\n",
    "느낌적인 느낌으로,<br>\n",
    "+는 concatenation의 느낌,<br>\n",
    "\\*은 repeat의 느낌이 강하다."
   ]
  },
  {
   "cell_type": "code",
   "execution_count": 12,
   "metadata": {},
   "outputs": [
    {
     "name": "stdout",
     "output_type": "stream",
     "text": [
      "[1, 2, 3, 3, 4, 5]\n",
      "[1, 2, 3, 1, 2, 3, 1, 2, 3]\n"
     ]
    }
   ],
   "source": [
    "l = [1,2,3]\n",
    "m = [3,4,5]\n",
    "print(l + m)\n",
    "print(l * 3)"
   ]
  },
  {
   "cell_type": "markdown",
   "metadata": {},
   "source": [
    "다만 주의해야 할 점이 있다."
   ]
  },
  {
   "cell_type": "code",
   "execution_count": 13,
   "metadata": {},
   "outputs": [
    {
     "name": "stdout",
     "output_type": "stream",
     "text": [
      "[['_', '_', '_'], ['_', '_', '_'], ['_', '_', '_']]\n",
      "[['_', '_', '_'], ['_', '_', 'X'], ['_', '_', '_']]\n"
     ]
    }
   ],
   "source": [
    "#example 2-12\n",
    "board = [['_'] * 3 for i in range(3)]\n",
    "print(board)\n",
    "board[1][2] = 'X'\n",
    "print(board)"
   ]
  },
  {
   "cell_type": "markdown",
   "metadata": {},
   "source": [
    "은 문제가 없지만,"
   ]
  },
  {
   "cell_type": "code",
   "execution_count": 14,
   "metadata": {},
   "outputs": [
    {
     "name": "stdout",
     "output_type": "stream",
     "text": [
      "[['_', '_', '_'], ['_', '_', '_'], ['_', '_', '_']]\n",
      "[['_', '_', 'O'], ['_', '_', 'O'], ['_', '_', 'O']]\n"
     ]
    }
   ],
   "source": [
    "#example 2-13\n",
    "weird_board = [['_'] * 3] * 3\n",
    "print(weird_board)\n",
    "weird_board[1][2] = 'O'\n",
    "print(weird_board)"
   ]
  },
  {
   "cell_type": "markdown",
   "metadata": {},
   "source": [
    "이런 꼴은 문제가 있다. 바깥 쪽의 큰 `list`가 안쪽 `list`의 3개의 **참조**로 만들어지기 때문에 하나를 바꾸게 되면(원본을 수정하게 되면) 참조된 것들은 원본을 따라가기 때문에 저렇게 전부 다 값이 변하게 된다."
   ]
  },
  {
   "cell_type": "markdown",
   "metadata": {},
   "source": [
    "### Augmented Assignment with Sequence\n",
    "+=, \\*= 같은 것들을 말한다. 이러한 복합 할당문은 첫번째 피연산자(operand)가 mutable인지, immutable인지에 따라 다르게 실행된다. 기본적으로 복합 할당문은(+=를 예로 들면) \\__iadd\\__ 함수를 호출하고 함수가 없으면 \\__add\\__ 로 fallback한다. 하지만, immutable type은 이름 그대로 **immuatble** 이기 때문에 in-place 연산을 지원하지 않는다. 따라서, \\__iadd\\__ 가 구현되어 있지 않기 때문에 \\__add\\__ 를 호출하게 되고 복합 할당문의 문법을 사용하더라도 새로운 객체를 만들어서 할당하는 과정이 필연적이다. 예를 들면,\n",
    "``` Python\n",
    "a += b\n",
    "```\n",
    "이라는 간단한 식이 있을 때, a가 immuatble하다면 in-place로 동작하지 않고,\n",
    "``` Python\n",
    "a = a + b\n",
    "```\n",
    "의 형태로 우변에서 새로운 객체를 생성하고 a에 할당하는 형태를 가진다. 따라서 immutable한 객체로 반복적인 병합(?)을 한다면 비효율적이다."
   ]
  },
  {
   "cell_type": "markdown",
   "metadata": {},
   "source": [
    "### A+= Assignment Puzzler\n",
    "``` Python\n",
    "t = (1, 2, [30, 40])\n",
    "t[2] += [50, 60]\n",
    "```\n",
    "을 한다면?<br>\n",
    "값은 변하지만 예외가 발생한다. "
   ]
  },
  {
   "cell_type": "code",
   "execution_count": 15,
   "metadata": {},
   "outputs": [
    {
     "ename": "TypeError",
     "evalue": "'tuple' object does not support item assignment",
     "output_type": "error",
     "traceback": [
      "\u001b[0;31m---------------------------------------------------------------------------\u001b[0m",
      "\u001b[0;31mTypeError\u001b[0m                                 Traceback (most recent call last)",
      "\u001b[0;32m<ipython-input-15-0e9217592952>\u001b[0m in \u001b[0;36m<module>\u001b[0;34m\u001b[0m\n\u001b[1;32m      1\u001b[0m \u001b[0mt\u001b[0m \u001b[0;34m=\u001b[0m \u001b[0;34m(\u001b[0m\u001b[0;36m1\u001b[0m\u001b[0;34m,\u001b[0m \u001b[0;36m2\u001b[0m\u001b[0;34m,\u001b[0m \u001b[0;34m[\u001b[0m\u001b[0;36m30\u001b[0m\u001b[0;34m,\u001b[0m \u001b[0;36m40\u001b[0m\u001b[0;34m]\u001b[0m\u001b[0;34m)\u001b[0m\u001b[0;34m\u001b[0m\u001b[0;34m\u001b[0m\u001b[0m\n\u001b[0;32m----> 2\u001b[0;31m \u001b[0mt\u001b[0m\u001b[0;34m[\u001b[0m\u001b[0;36m2\u001b[0m\u001b[0;34m]\u001b[0m \u001b[0;34m+=\u001b[0m \u001b[0;34m[\u001b[0m\u001b[0;36m50\u001b[0m\u001b[0;34m,\u001b[0m \u001b[0;36m60\u001b[0m\u001b[0;34m]\u001b[0m\u001b[0;34m\u001b[0m\u001b[0;34m\u001b[0m\u001b[0m\n\u001b[0m",
      "\u001b[0;31mTypeError\u001b[0m: 'tuple' object does not support item assignment"
     ]
    }
   ],
   "source": [
    "t = (1, 2, [30, 40])\n",
    "t[2] += [50, 60]"
   ]
  },
  {
   "cell_type": "code",
   "execution_count": 16,
   "metadata": {},
   "outputs": [
    {
     "data": {
      "text/plain": [
       "(1, 2, [30, 40, 50, 60])"
      ]
     },
     "execution_count": 16,
     "metadata": {},
     "output_type": "execute_result"
    }
   ],
   "source": [
    "t"
   ]
  },
  {
   "cell_type": "markdown",
   "metadata": {},
   "source": [
    "여기서 3가지를 생각해 볼 수 있다.\n",
    "1. `tuple`에 mutable item을 넣는 것은 좋은 생각이 아니다.\n",
    "2. Augment assignment는 atomic operation이 아니다. job이 수행되고 예외가 발생했다.\n",
    "3. Python bytecode를 확인하는 것은 어렵지 않고 아랫단에서 무슨 일이 일어나고 있는지 보기에 좋다."
   ]
  }
 ],
 "metadata": {
  "kernelspec": {
   "display_name": "Python 3",
   "language": "python",
   "name": "python3"
  },
  "language_info": {
   "codemirror_mode": {
    "name": "ipython",
    "version": 3
   },
   "file_extension": ".py",
   "mimetype": "text/x-python",
   "name": "python",
   "nbconvert_exporter": "python",
   "pygments_lexer": "ipython3",
   "version": "3.6.9"
  }
 },
 "nbformat": 4,
 "nbformat_minor": 4
}
